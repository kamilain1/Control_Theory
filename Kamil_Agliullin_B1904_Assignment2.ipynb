{
  "nbformat": 4,
  "nbformat_minor": 0,
  "metadata": {
    "colab": {
      "name": "Kamil_Agliullin_B1904_Assignment2.ipynb",
      "provenance": [],
      "collapsed_sections": [
        "04Fdq7BobU8f",
        "4dxpeSbob6Gk",
        "8oLVfxw1b9D_",
        "hMRHIWpotBiX",
        "72Gp0w4HyNGK",
        "bdBSPxBSpPF7",
        "weg3CNjGpQ3o",
        "VD9qm9vgqWQ0",
        "g9pdKbfvqYXT",
        "TnvCqTzOq9E0",
        "wJt_EcbAZIzX",
        "J_xg21wtkh_m",
        "8xT7TavJZED5",
        "526CZbZIZHbb",
        "8dVO-zlEUiRP"
      ]
    },
    "kernelspec": {
      "name": "python3",
      "display_name": "Python 3"
    }
  },
  "cells": [
    {
      "cell_type": "markdown",
      "metadata": {
        "id": "8gv8u5kgbRuK"
      },
      "source": [
        "#Task 1"
      ]
    },
    {
      "cell_type": "markdown",
      "metadata": {
        "id": "04Fdq7BobU8f"
      },
      "source": [
        "##Subtask 1.1"
      ]
    },
    {
      "cell_type": "markdown",
      "metadata": {
        "id": "GdTO26Vubkkg"
      },
      "source": [
        "###1) \r\n",
        "$$\\dot x = \r\n",
        "\\begin{pmatrix} 10 & 0 \\\\ -5 & 10\r\n",
        "\\end{pmatrix}\r\n",
        "x\r\n",
        "+\r\n",
        "\\begin{pmatrix} \r\n",
        "2 \\\\ 0\r\n",
        "\\end{pmatrix}\r\n",
        "u\r\n",
        "$$\r\n",
        "\r\n"
      ]
    },
    {
      "cell_type": "code",
      "metadata": {
        "colab": {
          "base_uri": "https://localhost:8080/"
        },
        "id": "CCxSAe5h5Jqw",
        "outputId": "2726a66e-8df8-4ddd-cc3c-f29d4b36fa39"
      },
      "source": [
        "import numpy as np\r\n",
        "from numpy.linalg import eig\r\n",
        "\r\n",
        "A = np.array([[10, 0], [-5, 10]]) # state matrix\r\n",
        "e, v = eig(A)\r\n",
        "print(\"eigenvalues of A:\", e)"
      ],
      "execution_count": null,
      "outputs": [
        {
          "output_type": "stream",
          "text": [
            "eigenvalues of A: [10. 10.]\n"
          ],
          "name": "stdout"
        }
      ]
    },
    {
      "cell_type": "markdown",
      "metadata": {
        "id": "Bi6I9sFs5Mw2"
      },
      "source": [
        "System is unstable, so we stabilise it. \\\\\r\n",
        "\r\n",
        "\r\n",
        "We substitute the matrix $K$ into $u$ such that matrix $B*K$ is the same dimension as matrix $A$, so we can add them to get matrix $A_{cl}$:\r\n",
        "$$\r\n",
        "u = -\r\n",
        "\\begin{pmatrix} \r\n",
        "k_1 & k_2\r\n",
        "\\end{pmatrix}\r\n",
        "x\r\n",
        "$$\r\n",
        "\r\n",
        "$$\\dot x = \r\n",
        "\\begin{pmatrix} 10 & 0 \\\\ -5 & 10\r\n",
        "\\end{pmatrix}\r\n",
        "x\r\n",
        "-\r\n",
        "\\begin{pmatrix} \r\n",
        "2k_1 & 2k_2 \\\\\r\n",
        "0 & 0 \\\\\r\n",
        "\\end{pmatrix}\r\n",
        "x\r\n",
        "=\r\n",
        "\\begin{pmatrix} \r\n",
        "10 - 2k_1 & - 2k_2 \\\\\r\n",
        "-5 & 10 \\\\\r\n",
        "\\end{pmatrix}\r\n",
        "x\r\n",
        "$$\r\n",
        "\r\n",
        "Now we express the determinant of the matrix $(A_{cl} - sI)$: \\\\\r\n",
        "\r\n",
        "\r\n",
        "$ (10 - 2k_1 - s)(10 - s) - 10k_2 =  s^2 + s(-20 + 2k_1) - 20k_1 - 10k_2 + 100 $\r\n",
        "\r\n",
        "Let us set the desired poles to (-5; -6). For these poles the equation should be $x^2 + 11x + 30 = 0$ \r\n",
        " \\\\\r\n",
        "\r\n",
        "This gives us the system of 2 equations: \\\\\r\n",
        "\r\n",
        "$$ \r\n",
        "\\begin{cases} \r\n",
        "-20 + 2k_1 = 11\\\\\r\n",
        "-20 k_1 - 10k_2 + 100 = 30\r\n",
        "\\end{cases} \r\n",
        "$$\r\n",
        " \\\\\r\n",
        "$k_1 = 15.5$ \\\\\r\n",
        "\r\n",
        "$k_2 = - \\frac{310-70}{10} = -24$\r\n",
        "\r\n",
        "Answer:  $k_1 = 15.5;$ $k_2 = -24 $"
      ]
    },
    {
      "cell_type": "markdown",
      "metadata": {
        "id": "5LrVL4Nubt31"
      },
      "source": [
        "###2)\r\n",
        " $$\\dot x = \r\n",
        "\\begin{pmatrix} 0 & -8 \\\\ 1 & 30\r\n",
        "\\end{pmatrix}\r\n",
        "x\r\n",
        "+\r\n",
        "\\begin{pmatrix} \r\n",
        "-2 \\\\ 1\r\n",
        "\\end{pmatrix}\r\n",
        "u\r\n",
        "$$"
      ]
    },
    {
      "cell_type": "code",
      "metadata": {
        "colab": {
          "base_uri": "https://localhost:8080/"
        },
        "id": "cjLEdVry6ro8",
        "outputId": "be0ceff1-d160-43ab-f786-b8d8558a0395"
      },
      "source": [
        "import numpy as np\r\n",
        "from numpy.linalg import eig\r\n",
        "\r\n",
        "A = np.array([[0, -8], [1, 30]]) # state matrix\r\n",
        "e, v = eig(A)\r\n",
        "print(\"eigenvalues of A:\", e)"
      ],
      "execution_count": null,
      "outputs": [
        {
          "output_type": "stream",
          "text": [
            "eigenvalues of A: [ 0.26908014 29.73091986]\n"
          ],
          "name": "stdout"
        }
      ]
    },
    {
      "cell_type": "markdown",
      "metadata": {
        "id": "e1_cEDkW7bKf"
      },
      "source": [
        "System is unstable, so we stabilise it. \\\\\r\n",
        "Let me solve this and following tasks using code, since first system was already solved by hand."
      ]
    },
    {
      "cell_type": "code",
      "metadata": {
        "colab": {
          "base_uri": "https://localhost:8080/"
        },
        "id": "u2dkxx6kgj30",
        "outputId": "3ed5162b-5240-44ff-e6a5-3201852a8728"
      },
      "source": [
        "import numpy as np\r\n",
        "from numpy.linalg import eig\r\n",
        "from scipy.integrate import odeint\r\n",
        "from scipy.signal import place_poles\r\n",
        "\r\n",
        "n = 2\r\n",
        "A = np.array([[0, -8], [1, 30]])\r\n",
        "B = np.array([[-2], [1]])\r\n",
        "\r\n",
        "def StateSpace(x, t):\r\n",
        "    return A.dot(x)\r\n",
        "\r\n",
        "time = np.linspace(0, 1, 1000)   \r\n",
        "x0 = np.random.rand(n)  # initial state\r\n",
        "\r\n",
        "solution = {\"SS\": odeint(StateSpace, x0, time)}\r\n",
        "\r\n",
        "#setting the desired poles\r\n",
        "poles = np.array([-5, -6])\r\n",
        "place_obj = place_poles(A, B, poles)\r\n",
        "\r\n",
        "#found control gains\r\n",
        "K = place_obj.gain_matrix;\r\n",
        "print(\"K:\", K)\r\n",
        "\r\n",
        "#test that eigenvalues of the closed loop system are what they are supposed to be \r\n",
        "e, v = eig((A - B.dot(K)))\r\n",
        "print(\"eigenvalues of A - B*K:\", e)"
      ],
      "execution_count": null,
      "outputs": [
        {
          "output_type": "stream",
          "text": [
            "K: [[ 2.16666667 45.33333333]]\n",
            "eigenvalues of A - B*K: [-5. -6.]\n"
          ],
          "name": "stdout"
        }
      ]
    },
    {
      "cell_type": "markdown",
      "metadata": {
        "id": "A8pDGDdpbwq3"
      },
      "source": [
        "###3)\r\n",
        " $$\\dot x = \r\n",
        "\\begin{pmatrix} 2 & 2 \\\\ -6 & 10\r\n",
        "\\end{pmatrix}\r\n",
        "x\r\n",
        "+\r\n",
        "\\begin{pmatrix} \r\n",
        "0 \\\\ 5\r\n",
        "\\end{pmatrix}\r\n",
        "u\r\n",
        "$$"
      ]
    },
    {
      "cell_type": "code",
      "metadata": {
        "colab": {
          "base_uri": "https://localhost:8080/"
        },
        "id": "n2aorxrBhryC",
        "outputId": "f27efd79-7f7b-466d-ef57-b9c130ed5920"
      },
      "source": [
        "import numpy as np\r\n",
        "from numpy.linalg import eig\r\n",
        "\r\n",
        "A = np.array([[2, 2], [-6, 10]]) # state matrix\r\n",
        "e, v = eig(A)\r\n",
        "print(\"eigenvalues of A:\", e)"
      ],
      "execution_count": null,
      "outputs": [
        {
          "output_type": "stream",
          "text": [
            "eigenvalues of A: [4. 8.]\n"
          ],
          "name": "stdout"
        }
      ]
    },
    {
      "cell_type": "markdown",
      "metadata": {
        "id": "DkTosY8ZhryF"
      },
      "source": [
        "System is unstable, so we stabilise it. \\\\"
      ]
    },
    {
      "cell_type": "code",
      "metadata": {
        "colab": {
          "base_uri": "https://localhost:8080/"
        },
        "id": "UzX18D7IhryG",
        "outputId": "299dbe53-9bdf-48bd-b05f-83b800002da2"
      },
      "source": [
        "import numpy as np\r\n",
        "from numpy.linalg import eig\r\n",
        "from scipy.integrate import odeint\r\n",
        "from scipy.signal import place_poles\r\n",
        "\r\n",
        "n = 2\r\n",
        "A = np.array([[2, 2], [-6, 10]])\r\n",
        "B = np.array([[0], [5]])\r\n",
        "\r\n",
        "def StateSpace(x, t):\r\n",
        "    return A.dot(x)\r\n",
        "\r\n",
        "time = np.linspace(0, 1, 1000)   \r\n",
        "x0 = np.random.rand(n)  # initial state\r\n",
        "\r\n",
        "solution = {\"SS\": odeint(StateSpace, x0, time)}\r\n",
        "\r\n",
        "#setting the desired poles\r\n",
        "poles = np.array([-5, -6])\r\n",
        "place_obj = place_poles(A, B, poles)\r\n",
        "\r\n",
        "#found control gains\r\n",
        "K = place_obj.gain_matrix;\r\n",
        "print(\"K:\", K)\r\n",
        "\r\n",
        "#test that eigenvalues of the closed loop system are what they are supposed to be \r\n",
        "e, v = eig((A - B.dot(K)))\r\n",
        "print(\"eigenvalues of A - B*K:\", e)"
      ],
      "execution_count": null,
      "outputs": [
        {
          "output_type": "stream",
          "text": [
            "K: [[4.4 4.6]]\n",
            "eigenvalues of A - B*K: [-5. -6.]\n"
          ],
          "name": "stdout"
        }
      ]
    },
    {
      "cell_type": "markdown",
      "metadata": {
        "id": "3tHQRER8bxS5"
      },
      "source": [
        "###4) \r\n",
        "$$\\dot x = \r\n",
        "\\begin{pmatrix} 5 & -5 \\\\ 6 & 15\r\n",
        "\\end{pmatrix}\r\n",
        "x\r\n",
        "+\r\n",
        "\\begin{pmatrix} \r\n",
        "-10 \\\\ 10\r\n",
        "\\end{pmatrix}\r\n",
        "u\r\n",
        "$$\r\n",
        "\r\n"
      ]
    },
    {
      "cell_type": "code",
      "metadata": {
        "colab": {
          "base_uri": "https://localhost:8080/"
        },
        "id": "xsyFHaZMiIWv",
        "outputId": "4f023be0-5b4d-4847-dd0b-8ff76e0ddbaa"
      },
      "source": [
        "import numpy as np\r\n",
        "from numpy.linalg import eig\r\n",
        "\r\n",
        "A = np.array([[5, -5], [6, 15]]) # state matrix\r\n",
        "e, v = eig(A)\r\n",
        "print(\"eigenvalues of A:\", e)"
      ],
      "execution_count": null,
      "outputs": [
        {
          "output_type": "stream",
          "text": [
            "eigenvalues of A: [10.+2.23606798j 10.-2.23606798j]\n"
          ],
          "name": "stdout"
        }
      ]
    },
    {
      "cell_type": "markdown",
      "metadata": {
        "id": "eGgenQboiIWy"
      },
      "source": [
        "System is unstable, so we stabilise it. \\\\"
      ]
    },
    {
      "cell_type": "code",
      "metadata": {
        "colab": {
          "base_uri": "https://localhost:8080/"
        },
        "id": "0EVgnt0NiIWz",
        "outputId": "3109719b-5b6b-452e-e9d2-289d41ac0145"
      },
      "source": [
        "import numpy as np\r\n",
        "from numpy.linalg import eig\r\n",
        "from scipy.integrate import odeint\r\n",
        "from scipy.signal import place_poles\r\n",
        "\r\n",
        "n = 2\r\n",
        "A = np.array([[5, -5], [6, 15]])\r\n",
        "B = np.array([[-10], [10]])\r\n",
        "\r\n",
        "def StateSpace(x, t):\r\n",
        "    return A.dot(x)\r\n",
        "\r\n",
        "time = np.linspace(0, 1, 1000)   \r\n",
        "x0 = np.random.rand(n)  # initial state\r\n",
        "\r\n",
        "solution = {\"SS\": odeint(StateSpace, x0, time)}\r\n",
        "\r\n",
        "#setting the desired poles\r\n",
        "poles = np.array([-5, -6])\r\n",
        "place_obj = place_poles(A, B, poles)\r\n",
        "\r\n",
        "#found control gains\r\n",
        "K = place_obj.gain_matrix;\r\n",
        "print(\"K:\", K)\r\n",
        "\r\n",
        "#test that eigenvalues of the closed loop system are what they are supposed to be \r\n",
        "e, v = eig((A - B.dot(K)))\r\n",
        "print(\"eigenvalues of A - B*K:\", e)"
      ],
      "execution_count": null,
      "outputs": [
        {
          "output_type": "stream",
          "text": [
            "K: [[-26.6 -23.5]]\n",
            "eigenvalues of A - B*K: [-6. -5.]\n"
          ],
          "name": "stdout"
        }
      ]
    },
    {
      "cell_type": "markdown",
      "metadata": {
        "id": "4dxpeSbob6Gk"
      },
      "source": [
        "##Subtask 1.2"
      ]
    },
    {
      "cell_type": "markdown",
      "metadata": {
        "id": "8oLVfxw1b9D_"
      },
      "source": [
        "###1)\r\n",
        "$$\\dot x = \r\n",
        "\\begin{pmatrix} 10 & 0 \\\\ -5 & 10\r\n",
        "\\end{pmatrix}\r\n",
        "x\r\n",
        "+\r\n",
        "\\begin{pmatrix} \r\n",
        "2 & 1 \\\\ 0 & -1\r\n",
        "\\end{pmatrix}\r\n",
        "u\r\n",
        "$$"
      ]
    },
    {
      "cell_type": "code",
      "metadata": {
        "colab": {
          "base_uri": "https://localhost:8080/"
        },
        "id": "2Gub8fFui6w0",
        "outputId": "88143429-5c66-47c5-f8bc-16e814a8d496"
      },
      "source": [
        "import numpy as np\r\n",
        "from numpy.linalg import eig\r\n",
        "\r\n",
        "A = np.array([[10, 0], [-5, 10]]) # state matrix\r\n",
        "e, v = eig(A)\r\n",
        "print(\"eigenvalues of A:\", e)"
      ],
      "execution_count": null,
      "outputs": [
        {
          "output_type": "stream",
          "text": [
            "eigenvalues of A: [10. 10.]\n"
          ],
          "name": "stdout"
        }
      ]
    },
    {
      "cell_type": "markdown",
      "metadata": {
        "id": "BWY5mKcdtWUE"
      },
      "source": [
        "System is unstable, so we stabilise it. \\\\\r\n",
        "\r\n",
        "\r\n",
        "We substitute the matrix $K$ into $u$ such that matrix $B*K$ is the same dimension as matrix $A$, so we can add them to get matrix $A_{cl}$:\r\n",
        "$$\r\n",
        "u = -\r\n",
        "\\begin{pmatrix} \r\n",
        "k_1 & k_2 \\\\ \r\n",
        "k_3 & k_4\r\n",
        "\\end{pmatrix}\r\n",
        "x\r\n",
        "$$\r\n",
        "\r\n",
        "$$\\dot x = \r\n",
        "\\begin{pmatrix} 10 & 0 \\\\ -5 & 10\r\n",
        "\\end{pmatrix}\r\n",
        "x\r\n",
        "-\r\n",
        "\\begin{pmatrix} \r\n",
        "2k_1 + k_3 & 2k_2 + k_4 \\\\\r\n",
        "-k_3 & -k_4 \\\\\r\n",
        "\\end{pmatrix}\r\n",
        "x\r\n",
        "=\r\n",
        "\\begin{pmatrix} \r\n",
        "10 - 2k_1 -k_3 & - 2k_2 -k_4\\\\\r\n",
        "-5 + k_3 & 10 + k_4\\\\\r\n",
        "\\end{pmatrix}\r\n",
        "x\r\n",
        "$$\r\n",
        "\r\n",
        "Now we express the determinant of the matrix $(A_{cl} - sI)$: \\\\\r\n",
        "\r\n",
        "\r\n",
        "$ (10 - 2k_1 -k_3 - s)(10 + k_4 - s) - (-5 + k_3)(- 2k_2 -k_4) $ \\\\"
      ]
    },
    {
      "cell_type": "code",
      "metadata": {
        "colab": {
          "base_uri": "https://localhost:8080/"
        },
        "id": "XGm9WwQZtA5A",
        "outputId": "6d075899-6a40-4764-bf5f-e23dfd53b63e"
      },
      "source": [
        "import numpy as np\r\n",
        "from numpy.linalg import eig\r\n",
        "from scipy.integrate import odeint\r\n",
        "from scipy.signal import place_poles\r\n",
        "\r\n",
        "n = 2\r\n",
        "A = np.array([[10, 0], [-5, 10]])\r\n",
        "B = np.array([[2, 1], [0, -1]])\r\n",
        "\r\n",
        "def StateSpace(x, t):\r\n",
        "    return A.dot(x)\r\n",
        "\r\n",
        "time = np.linspace(0, 1, 1000)   \r\n",
        "x0 = np.random.rand(n)  # initial state\r\n",
        "\r\n",
        "solution = {\"SS\": odeint(StateSpace, x0, time)}\r\n",
        "\r\n",
        "#setting the desired poles\r\n",
        "poles = np.array([-5, -6])\r\n",
        "place_obj = place_poles(A, B, poles)\r\n",
        "\r\n",
        "#found control gains\r\n",
        "K = place_obj.gain_matrix;\r\n",
        "print(\"K:\", K)\r\n",
        "\r\n",
        "#test that eigenvalues of the closed loop system are what they are supposed to be \r\n",
        "e, v = eig((A - B.dot(K)))\r\n",
        "print(\"eigenvalues of A - B*K:\", e)"
      ],
      "execution_count": null,
      "outputs": [
        {
          "output_type": "stream",
          "text": [
            "K: [[  5.5   7.5]\n",
            " [  5.  -15. ]]\n",
            "eigenvalues of A - B*K: [-5. -6.]\n"
          ],
          "name": "stdout"
        }
      ]
    },
    {
      "cell_type": "markdown",
      "metadata": {
        "id": "anpI2scbcBg7"
      },
      "source": [
        "###2)\r\n",
        "$$\\dot x = \r\n",
        "\\begin{pmatrix} 0 & -8 \\\\ 1 & 30\r\n",
        "\\end{pmatrix}\r\n",
        "x\r\n",
        "+\r\n",
        "\\begin{pmatrix} \r\n",
        "-2 & 1 \\\\ 1 & 1\r\n",
        "\\end{pmatrix}\r\n",
        "u\r\n",
        "$$"
      ]
    },
    {
      "cell_type": "code",
      "metadata": {
        "colab": {
          "base_uri": "https://localhost:8080/"
        },
        "id": "dPWKcflzwHwm",
        "outputId": "f5dc7930-1127-4a10-ee06-17c0e697f7aa"
      },
      "source": [
        "import numpy as np\r\n",
        "from numpy.linalg import eig\r\n",
        "\r\n",
        "A = np.array([[0, -8], [1, 30]]) # state matrix\r\n",
        "e, v = eig(A)\r\n",
        "print(\"eigenvalues of A:\", e)"
      ],
      "execution_count": null,
      "outputs": [
        {
          "output_type": "stream",
          "text": [
            "eigenvalues of A: [ 0.26908014 29.73091986]\n"
          ],
          "name": "stdout"
        }
      ]
    },
    {
      "cell_type": "markdown",
      "metadata": {
        "id": "zN5m1I7vwHwr"
      },
      "source": [
        "System is unstable, so we stabilise it. \\\\"
      ]
    },
    {
      "cell_type": "code",
      "metadata": {
        "colab": {
          "base_uri": "https://localhost:8080/"
        },
        "id": "wrPOCRkFwHws",
        "outputId": "19e5a0c5-842c-4eb4-802c-483748e1a7f2"
      },
      "source": [
        "import numpy as np\r\n",
        "from numpy.linalg import eig\r\n",
        "from scipy.integrate import odeint\r\n",
        "from scipy.signal import place_poles\r\n",
        "\r\n",
        "n = 2\r\n",
        "A = np.array([[0, -8], [1, 30]])\r\n",
        "B = np.array([[-2, 1], [1, 1]])\r\n",
        "\r\n",
        "def StateSpace(x, t):\r\n",
        "    return A.dot(x)\r\n",
        "\r\n",
        "time = np.linspace(0, 1, 1000)   \r\n",
        "x0 = np.random.rand(n)  # initial state\r\n",
        "\r\n",
        "solution = {\"SS\": odeint(StateSpace, x0, time)}\r\n",
        "\r\n",
        "#setting the desired poles\r\n",
        "poles = np.array([-5, -6])\r\n",
        "place_obj = place_poles(A, B, poles)\r\n",
        "\r\n",
        "#found control gains\r\n",
        "K = place_obj.gain_matrix;\r\n",
        "print(\"K:\", K)\r\n",
        "\r\n",
        "#test that eigenvalues of the closed loop system are what they are supposed to be \r\n",
        "e, v = eig((A - B.dot(K)))\r\n",
        "print(\"eigenvalues of A - B*K:\", e)"
      ],
      "execution_count": null,
      "outputs": [
        {
          "output_type": "stream",
          "text": [
            "K: [[-1.66666667 14.33333333]\n",
            " [ 2.66666667 20.66666667]]\n",
            "eigenvalues of A - B*K: [-6. -5.]\n"
          ],
          "name": "stdout"
        }
      ]
    },
    {
      "cell_type": "markdown",
      "metadata": {
        "id": "HgTelflicEnL"
      },
      "source": [
        "###3)\r\n",
        "$$\\dot x = \r\n",
        "\\begin{pmatrix} 2 & 2 \\\\ -6 & 10\r\n",
        "\\end{pmatrix}\r\n",
        "x\r\n",
        "+\r\n",
        "\\begin{pmatrix} \r\n",
        "0 & -1 \\\\ 5 & -1\r\n",
        "\\end{pmatrix}\r\n",
        "u\r\n",
        "$$"
      ]
    },
    {
      "cell_type": "code",
      "metadata": {
        "colab": {
          "base_uri": "https://localhost:8080/"
        },
        "id": "6vJGgCEowkbj",
        "outputId": "26a11d40-d7da-45db-b08d-f3c14971b6b9"
      },
      "source": [
        "import numpy as np\r\n",
        "from numpy.linalg import eig\r\n",
        "\r\n",
        "A = np.array([[2, 2], [-6, 10]]) # state matrix\r\n",
        "e, v = eig(A)\r\n",
        "print(\"eigenvalues of A:\", e)"
      ],
      "execution_count": null,
      "outputs": [
        {
          "output_type": "stream",
          "text": [
            "eigenvalues of A: [4. 8.]\n"
          ],
          "name": "stdout"
        }
      ]
    },
    {
      "cell_type": "markdown",
      "metadata": {
        "id": "lkk1HTntwkbr"
      },
      "source": [
        "System is unstable, so we stabilise it. \\\\"
      ]
    },
    {
      "cell_type": "code",
      "metadata": {
        "colab": {
          "base_uri": "https://localhost:8080/"
        },
        "id": "ndhGSSOYwkbu",
        "outputId": "c2aa90af-2337-4d19-def1-177c2dc7e80b"
      },
      "source": [
        "import numpy as np\r\n",
        "from numpy.linalg import eig\r\n",
        "from scipy.integrate import odeint\r\n",
        "from scipy.signal import place_poles\r\n",
        "\r\n",
        "n = 2\r\n",
        "A = np.array([[2, 2], [-6, 10]])\r\n",
        "B = np.array([[0, -1], [5, -1]])\r\n",
        "\r\n",
        "def StateSpace(x, t):\r\n",
        "    return A.dot(x)\r\n",
        "\r\n",
        "time = np.linspace(0, 1, 1000)   \r\n",
        "x0 = np.random.rand(n)  # initial state\r\n",
        "\r\n",
        "solution = {\"SS\": odeint(StateSpace, x0, time)}\r\n",
        "\r\n",
        "#setting the desired poles\r\n",
        "poles = np.array([-5, -6])\r\n",
        "place_obj = place_poles(A, B, poles)\r\n",
        "\r\n",
        "#found control gains\r\n",
        "K = place_obj.gain_matrix;\r\n",
        "print(\"K:\", K)\r\n",
        "\r\n",
        "#test that eigenvalues of the closed loop system are what they are supposed to be \r\n",
        "e, v = eig((A - B.dot(K)))\r\n",
        "print(\"eigenvalues of A - B*K:\", e)"
      ],
      "execution_count": null,
      "outputs": [
        {
          "output_type": "stream",
          "text": [
            "K: [[-2.8  2.6]\n",
            " [-8.  -2. ]]\n",
            "eigenvalues of A - B*K: [-6. -5.]\n"
          ],
          "name": "stdout"
        }
      ]
    },
    {
      "cell_type": "markdown",
      "metadata": {
        "id": "FTIlQblHcGwp"
      },
      "source": [
        "###4)\r\n",
        " $$\\dot x = \r\n",
        "\\begin{pmatrix} 5 & -5 \\\\ 6 & 15\r\n",
        "\\end{pmatrix}\r\n",
        "x\r\n",
        "+\r\n",
        "\\begin{pmatrix} \r\n",
        "-10 & 3 \\\\ 10 & 3\r\n",
        "\\end{pmatrix}\r\n",
        "u\r\n",
        "$$"
      ]
    },
    {
      "cell_type": "code",
      "metadata": {
        "colab": {
          "base_uri": "https://localhost:8080/"
        },
        "id": "wQQHf08NwnGB",
        "outputId": "aeb4fe44-08cd-4fe4-caf4-2db6d1fb75ce"
      },
      "source": [
        "import numpy as np\r\n",
        "from numpy.linalg import eig\r\n",
        "\r\n",
        "A = np.array([[5, -5], [6, 15]]) # state matrix\r\n",
        "e, v = eig(A)\r\n",
        "print(\"eigenvalues of A:\", e)"
      ],
      "execution_count": null,
      "outputs": [
        {
          "output_type": "stream",
          "text": [
            "eigenvalues of A: [10.+2.23606798j 10.-2.23606798j]\n"
          ],
          "name": "stdout"
        }
      ]
    },
    {
      "cell_type": "markdown",
      "metadata": {
        "id": "x1dRPs6NwnGD"
      },
      "source": [
        "System is unstable, so we stabilise it. \\\\"
      ]
    },
    {
      "cell_type": "code",
      "metadata": {
        "colab": {
          "base_uri": "https://localhost:8080/"
        },
        "id": "1RO-ebvMwnGE",
        "outputId": "9b1f9ddc-5e76-4138-a9d0-3fcb2e84a058"
      },
      "source": [
        "import numpy as np\r\n",
        "from numpy.linalg import eig\r\n",
        "from scipy.integrate import odeint\r\n",
        "from scipy.signal import place_poles\r\n",
        "\r\n",
        "n = 2\r\n",
        "A = np.array([[5, -5], [6, 15]])\r\n",
        "B = np.array([[-10, 3], [10, 3]])\r\n",
        "\r\n",
        "def StateSpace(x, t):\r\n",
        "    return A.dot(x)\r\n",
        "\r\n",
        "time = np.linspace(0, 1, 1000)   \r\n",
        "x0 = np.random.rand(n)  # initial state\r\n",
        "\r\n",
        "solution = {\"SS\": odeint(StateSpace, x0, time)}\r\n",
        "\r\n",
        "#setting the desired poles\r\n",
        "poles = np.array([-5, -6])\r\n",
        "place_obj = place_poles(A, B, poles)\r\n",
        "\r\n",
        "#found control gains\r\n",
        "K = place_obj.gain_matrix;\r\n",
        "print(\"K:\", K)\r\n",
        "\r\n",
        "#test that eigenvalues of the closed loop system are what they are supposed to be \r\n",
        "e, v = eig((A - B.dot(K)))\r\n",
        "print(\"eigenvalues of A - B*K:\", e)"
      ],
      "execution_count": null,
      "outputs": [
        {
          "output_type": "stream",
          "text": [
            "K: [[-0.25        1.25      ]\n",
            " [ 2.83333333  2.5       ]]\n",
            "eigenvalues of A - B*K: [-6. -5.]\n"
          ],
          "name": "stdout"
        }
      ]
    },
    {
      "cell_type": "markdown",
      "metadata": {
        "id": "hMRHIWpotBiX"
      },
      "source": [
        "##Subtask 1.3"
      ]
    },
    {
      "cell_type": "markdown",
      "metadata": {
        "id": "fayu1XRatIxL"
      },
      "source": [
        "* where $B \\in \\mathbb{R}^{2 \\times 1}$\r\n",
        "\r\n",
        "$$\\dot x = \r\n",
        "\\begin{pmatrix} 10 & 0 \\\\ -5 & 10\r\n",
        "\\end{pmatrix}\r\n",
        "x\r\n",
        "+\r\n",
        "\\begin{pmatrix} \r\n",
        "0 \\\\ 2\r\n",
        "\\end{pmatrix}\r\n",
        "u\r\n",
        "$$"
      ]
    },
    {
      "cell_type": "markdown",
      "metadata": {
        "id": "LTohvKFu5v7z"
      },
      "source": [
        "* where $B \\in \\mathbb{R}^{2 \\times 2}$\r\n",
        "\r\n",
        "$$\\dot x = \r\n",
        "\\begin{pmatrix} 10 & 0 \\\\ -5 & 10\r\n",
        "\\end{pmatrix}\r\n",
        "x\r\n",
        "+\r\n",
        "\\begin{pmatrix} \r\n",
        "0 & 0 \\\\ 2 & 3\r\n",
        "\\end{pmatrix}\r\n",
        "u\r\n",
        "$$\r\n"
      ]
    },
    {
      "cell_type": "markdown",
      "metadata": {
        "id": "O0dEItoI5w4d"
      },
      "source": [
        "* where $B \\in \\mathbb{R}^{2 \\times 3}$\r\n",
        "\r\n",
        "$$\\dot x = \r\n",
        "\\begin{pmatrix} 10 & 0 \\\\ -5 & 10\r\n",
        "\\end{pmatrix}\r\n",
        "x\r\n",
        "+\r\n",
        "\\begin{pmatrix} \r\n",
        "0 & 0 & 0\\\\ 2 & 3 & 4\r\n",
        "\\end{pmatrix}\r\n",
        "u\r\n",
        "$$"
      ]
    },
    {
      "cell_type": "markdown",
      "metadata": {
        "id": "Zfc07ThIbWjn"
      },
      "source": [
        "#Task 2"
      ]
    },
    {
      "cell_type": "markdown",
      "metadata": {
        "id": "72Gp0w4HyNGK"
      },
      "source": [
        "##Subtask 2.1"
      ]
    },
    {
      "cell_type": "markdown",
      "metadata": {
        "id": "1HT4sgF9yRJf"
      },
      "source": [
        "* For a system with $A$ with imaginary eigenvalues: \\\\\r\n",
        "\r\n",
        "$$\\dot x = \r\n",
        "\\begin{pmatrix} 0 & -7 \\\\ 8 & 0\r\n",
        "\\end{pmatrix}\r\n",
        "x\r\n",
        "+\r\n",
        "\\begin{pmatrix} \r\n",
        "3 \\\\ 0\r\n",
        "\\end{pmatrix}\r\n",
        "u\r\n",
        "$$"
      ]
    },
    {
      "cell_type": "code",
      "metadata": {
        "colab": {
          "base_uri": "https://localhost:8080/",
          "height": 351
        },
        "id": "peNMsGL-EASE",
        "outputId": "058ca83c-4258-4552-f259-84d2fb452dbe"
      },
      "source": [
        "import matplotlib.pyplot as plt\n",
        "import numpy as np\n",
        "from numpy.linalg import eig\n",
        "\n",
        "A = np.array([[0, -7], [8, 0]])\n",
        "B = np.array([[3], [0]])\n",
        "K0 = np.array([[1., 1.]])\n",
        "\n",
        "k_min = -10;\n",
        "k_max = 10;\n",
        "k_step = 0.01;\n",
        "\n",
        "e, v = eig(A)\n",
        "print(\"eigenvalues of A:\",e);\n",
        "\n",
        "Count = np.floor((k_max-k_min)/k_step)\n",
        "Count = Count.astype(int)\n",
        "\n",
        "k_range = np.linspace(k_min, k_max, Count)\n",
        "\n",
        "E = np.zeros((Count, 4))\n",
        "\n",
        "for i in range(Count):\n",
        "    K0[0, 0] = k_range[i]\n",
        "\n",
        "    ei, v = eig((A - B.dot(K0)))\n",
        "\n",
        "    E[i, 0] = np.real(ei[0])\n",
        "    E[i, 1] = np.imag(ei[0])\n",
        "    E[i, 2] = np.real(ei[1])\n",
        "    E[i, 3] = np.imag(ei[1])\n",
        "\n",
        "    #print(\"eigenvalues of A - B*K:\", ei)\n",
        "\n",
        "plt.rcParams['figure.figsize'] = [5, 5]\n",
        "plt.plot(E[:, 0], E[:, 1])\n",
        "plt.plot(E[:, 2], E[:, 3])\n",
        "plt.xlabel('real')\n",
        "plt.ylabel('imag')\n",
        "plt.show()\n"
      ],
      "execution_count": null,
      "outputs": [
        {
          "output_type": "stream",
          "text": [
            "eigenvalues of A: [0.+7.48331477j 0.-7.48331477j]\n"
          ],
          "name": "stdout"
        },
        {
          "output_type": "display_data",
          "data": {
            "image/png": "[encoded data removed]",
            "text/plain": [
              "<Figure size 360x360 with 1 Axes>"
            ]
          },
          "metadata": {
            "tags": [],
            "needs_background": "light"
          }
        }
      ]
    },
    {
      "cell_type": "markdown",
      "metadata": {
        "id": "XCcWd6vOz-ZW"
      },
      "source": [
        "* For a system with $A$ with real eigenvalues: \\\\\r\n",
        "\r\n",
        "$$\\dot x = \r\n",
        "\\begin{pmatrix} 10 & 0 \\\\ -5 & 10\r\n",
        "\\end{pmatrix}\r\n",
        "x\r\n",
        "+\r\n",
        "\\begin{pmatrix} \r\n",
        "2 \\\\ 0\r\n",
        "\\end{pmatrix}\r\n",
        "u\r\n",
        "$$"
      ]
    },
    {
      "cell_type": "code",
      "metadata": {
        "colab": {
          "base_uri": "https://localhost:8080/",
          "height": 351
        },
        "id": "Mm8bCmXEz-ZY",
        "outputId": "cd229e10-353f-45ab-8a93-58e1b489fb7d"
      },
      "source": [
        "import matplotlib.pyplot as plt\n",
        "import numpy as np\n",
        "from numpy.linalg import eig\n",
        "\n",
        "A = np.array([[10, 0], [-5, 10]])\n",
        "B = np.array([[2], [0]])\n",
        "K0 = np.array([[1., 1.]]);\n",
        "\n",
        "k_min = -10;\n",
        "k_max = 10;\n",
        "k_step = 0.1;\n",
        "\n",
        "e, v = eig(A)\n",
        "\n",
        "print(\"eigenvalues of A:\",e);\n",
        "\n",
        "Count = np.floor((k_max-k_min)/k_step)\n",
        "Count = Count.astype(int)\n",
        "\n",
        "k_range = np.linspace(k_min, k_max, Count)\n",
        "\n",
        "E = np.zeros((Count, 4))\n",
        "\n",
        "for i in range(Count):\n",
        "    K0[0, 0] = k_range[i]\n",
        "\n",
        "    ei, v = eig((A - B.dot(K0)))\n",
        "\n",
        "    E[i, 0] = np.real(ei[0])\n",
        "    E[i, 1] = np.imag(ei[0])\n",
        "    E[i, 2] = np.real(ei[1])\n",
        "    E[i, 3] = np.imag(ei[1])\n",
        "\n",
        "    #print(\"eigenvalues of A - B*K:\", ei)\n",
        "\n",
        "plt.rcParams['figure.figsize'] = [5, 5]\n",
        "plt.plot(E[:, 0], E[:, 1])\n",
        "plt.plot(E[:, 2], E[:, 3])\n",
        "plt.xlabel('real')\n",
        "plt.ylabel('imag')\n",
        "plt.show()\n"
      ],
      "execution_count": null,
      "outputs": [
        {
          "output_type": "stream",
          "text": [
            "eigenvalues of A: [10. 10.]\n"
          ],
          "name": "stdout"
        },
        {
          "output_type": "display_data",
          "data": {
            "image/png": "[encoded data removed]",
            "text/plain": [
              "<Figure size 360x360 with 1 Axes>"
            ]
          },
          "metadata": {
            "tags": [],
            "needs_background": "light"
          }
        }
      ]
    },
    {
      "cell_type": "markdown",
      "metadata": {
        "id": "oa3fiA_Z0tb3"
      },
      "source": [
        "* For a system where real parts of eigenvalues of $(A - BK)$ are all positive \\\\\r\n",
        "\r\n",
        "$$\\dot x = \r\n",
        "\\begin{pmatrix} 10 & 7 \\\\ -2 & 10\r\n",
        "\\end{pmatrix}\r\n",
        "x\r\n",
        "+\r\n",
        "\\begin{pmatrix} \r\n",
        "1 \\\\ 0\r\n",
        "\\end{pmatrix}\r\n",
        "u\r\n",
        "$$"
      ]
    },
    {
      "cell_type": "code",
      "metadata": {
        "colab": {
          "base_uri": "https://localhost:8080/",
          "height": 351
        },
        "id": "dL2WoUNs0tb5",
        "outputId": "7cca80d8-4d78-46c5-f9ef-12dc33eb69b6"
      },
      "source": [
        "import matplotlib.pyplot as plt\n",
        "import numpy as np\n",
        "from numpy.linalg import eig\n",
        "\n",
        "A = np.array([[10, 7], [-2, 10]])\n",
        "B = np.array([[1], [0]])\n",
        "K0 = np.array([[1., 1.]]);\n",
        "\n",
        "k_min = -10;\n",
        "k_max = 10;\n",
        "k_step = 0.01;\n",
        "\n",
        "e, v = eig(A - B.dot(K0))\n",
        "print(\"eigenvalues of A - B*K:\", e)\n",
        "\n",
        "Count = np.floor((k_max-k_min)/k_step)\n",
        "Count = Count.astype(int)\n",
        "\n",
        "k_range = np.linspace(k_min, k_max, Count)\n",
        "\n",
        "E = np.zeros((Count, 4))\n",
        "\n",
        "for i in range(Count):\n",
        "    K0[0, 0] = k_range[i]\n",
        "\n",
        "    ei, v = eig((A - B.dot(K0)))\n",
        "\n",
        "    E[i, 0] = np.real(ei[0])\n",
        "    E[i, 1] = np.imag(ei[0])\n",
        "    E[i, 2] = np.real(ei[1])\n",
        "    E[i, 3] = np.imag(ei[1])\n",
        "\n",
        "    #print(\"eigenvalues of A - B*K:\", ei)\n",
        "\n",
        "\n",
        "plt.plot(E[:, 0], E[:, 1])\n",
        "plt.plot(E[:, 2], E[:, 3])\n",
        "plt.xlabel('real')\n",
        "plt.ylabel('imag')\n",
        "plt.show()\n"
      ],
      "execution_count": null,
      "outputs": [
        {
          "output_type": "stream",
          "text": [
            "eigenvalues of A - B*K: [9.5+3.4278273j 9.5-3.4278273j]\n"
          ],
          "name": "stdout"
        },
        {
          "output_type": "display_data",
          "data": {
            "image/png": "[encoded data removed]",
            "text/plain": [
              "<Figure size 360x360 with 1 Axes>"
            ]
          },
          "metadata": {
            "tags": [],
            "needs_background": "light"
          }
        }
      ]
    },
    {
      "cell_type": "markdown",
      "metadata": {
        "id": "YE5oMMBzXi8b"
      },
      "source": [
        "* For a system where real parts of eigenvalues of $(A - BK)$ are all negative \\\\\r\n",
        "\r\n",
        "$$\\dot x = \r\n",
        "\\begin{pmatrix} -5 & 7 \\\\ -2 & -6\r\n",
        "\\end{pmatrix}\r\n",
        "x\r\n",
        "+\r\n",
        "\\begin{pmatrix} \r\n",
        "1 \\\\ 0\r\n",
        "\\end{pmatrix}\r\n",
        "u\r\n",
        "$$"
      ]
    },
    {
      "cell_type": "code",
      "metadata": {
        "colab": {
          "base_uri": "https://localhost:8080/",
          "height": 351
        },
        "id": "toNRlIuzXi8d",
        "outputId": "cc1d4646-8aa2-4932-810b-f3e5b5d23f0c"
      },
      "source": [
        "import matplotlib.pyplot as plt\n",
        "import numpy as np\n",
        "from numpy.linalg import eig\n",
        "\n",
        "A = np.array([[-5, 7], [-2, -6]])\n",
        "B = np.array([[1], [0]])\n",
        "K0 = np.array([[1., 1.]]);\n",
        "\n",
        "k_min = -10;\n",
        "k_max = 10;\n",
        "k_step = 0.01;\n",
        "\n",
        "e, v = eig(A - B.dot(K0))\n",
        "print(\"eigenvalues of A - B*K:\", e)\n",
        "\n",
        "Count = np.floor((k_max-k_min)/k_step)\n",
        "Count = Count.astype(int)\n",
        "\n",
        "k_range = np.linspace(k_min, k_max, Count)\n",
        "\n",
        "E = np.zeros((Count, 4))\n",
        "\n",
        "for i in range(Count):\n",
        "    K0[0, 0] = k_range[i]\n",
        "\n",
        "    ei, v = eig((A - B.dot(K0)))\n",
        "\n",
        "    E[i, 0] = np.real(ei[0])\n",
        "    E[i, 1] = np.imag(ei[0])\n",
        "    E[i, 2] = np.real(ei[1])\n",
        "    E[i, 3] = np.imag(ei[1])\n",
        "\n",
        "    #print(\"eigenvalues of A - B*K:\", ei)\n",
        "\n",
        "\n",
        "plt.plot(E[:, 0], E[:, 1])\n",
        "plt.plot(E[:, 2], E[:, 3])\n",
        "plt.xlabel('real')\n",
        "plt.ylabel('imag')\n",
        "plt.show()\n"
      ],
      "execution_count": null,
      "outputs": [
        {
          "output_type": "stream",
          "text": [
            "eigenvalues of A - B*K: [-6.+3.46410162j -6.-3.46410162j]\n"
          ],
          "name": "stdout"
        },
        {
          "output_type": "display_data",
          "data": {
            "image/png": "[encoded data removed]",
            "text/plain": [
              "<Figure size 360x360 with 1 Axes>"
            ]
          },
          "metadata": {
            "tags": [],
            "needs_background": "light"
          }
        }
      ]
    },
    {
      "cell_type": "markdown",
      "metadata": {
        "id": "AA4JnVX8bZDq"
      },
      "source": [
        "#Task 3"
      ]
    },
    {
      "cell_type": "markdown",
      "metadata": {
        "id": "bdBSPxBSpPF7"
      },
      "source": [
        "##Subtask 3.1"
      ]
    },
    {
      "cell_type": "markdown",
      "metadata": {
        "id": "Xk8CWFk8pSf2"
      },
      "source": [
        "$$\\dot x = \r\n",
        "\\begin{pmatrix} 2 & -9 \\\\ 6 & -15\r\n",
        "\\end{pmatrix}\r\n",
        "x\r\n",
        "+\r\n",
        "\\begin{pmatrix} \r\n",
        "1 \\\\ 0\r\n",
        "\\end{pmatrix}\r\n",
        "u\r\n",
        "$$"
      ]
    },
    {
      "cell_type": "code",
      "metadata": {
        "colab": {
          "base_uri": "https://localhost:8080/"
        },
        "id": "3DAJndyPKdld",
        "outputId": "53b91290-22cb-47e3-d34f-dc3723a79055"
      },
      "source": [
        "import numpy as np\r\n",
        "from scipy import signal\r\n",
        "import matplotlib.pyplot as plt\r\n",
        "\r\n",
        "t1=3\r\n",
        "\r\n",
        "def f1(t):\r\n",
        "    if t >= t1:\r\n",
        "      return 1\r\n",
        "    return 0\r\n",
        "\r\n",
        "A = np.array([[2, -9], [6, -15]])\r\n",
        "B = np.array([[1], [0]])\r\n",
        "C = np.array([1, 1])\r\n",
        "D = np.array([0])\r\n",
        "\r\n",
        "t0 = 0  # Initial time \r\n",
        "tf = 5  # Final time\r\n",
        "rng = np.linspace(t0, tf, 1000)\r\n",
        "\r\n",
        "u = []\r\n",
        "\r\n",
        "for t in rng:\r\n",
        "    u.append(f1(t))\r\n",
        "\r\n",
        "num, den = signal.ss2tf(A, B, C, D)\r\n",
        "\r\n",
        "tout, yout, _ = signal.lsim((num, den), u, rng)\r\n",
        "plt.plot(tout, yout)\r\n",
        "plt.show()"
      ],
      "execution_count": null,
      "outputs": [
        {
          "output_type": "stream",
          "text": [
            "/usr/local/lib/python3.7/dist-packages/scipy/signal/filter_design.py:1622: BadCoefficients: Badly conditioned filter coefficients (numerator): the results may be meaningless\n",
            "  \"results may be meaningless\", BadCoefficients)\n"
          ],
          "name": "stderr"
        },
        {
          "output_type": "display_data",
          "data": {
            "image/png": "[encoded data removed]",
            "text/plain": [
              "<Figure size 432x288 with 1 Axes>"
            ]
          },
          "metadata": {
            "tags": [],
            "needs_background": "light"
          }
        }
      ]
    },
    {
      "cell_type": "markdown",
      "metadata": {
        "id": "weg3CNjGpQ3o"
      },
      "source": [
        "##Subtask 3.2"
      ]
    },
    {
      "cell_type": "markdown",
      "metadata": {
        "id": "ohXi-JFj4Ylb"
      },
      "source": [
        "$$\\dot x = \r\n",
        "\\begin{pmatrix} 2 & -9 \\\\ 6 & -15\r\n",
        "\\end{pmatrix}\r\n",
        "x\r\n",
        "+\r\n",
        "\\begin{pmatrix} \r\n",
        "1 \\\\ 0\r\n",
        "\\end{pmatrix}\r\n",
        "u\r\n",
        "$$"
      ]
    },
    {
      "cell_type": "code",
      "metadata": {
        "id": "KtKNoTz-Lg51",
        "colab": {
          "base_uri": "https://localhost:8080/"
        },
        "outputId": "787ea982-c91c-48c3-fe83-ab9171d921de"
      },
      "source": [
        "import numpy as np\r\n",
        "from scipy import signal\r\n",
        "import matplotlib.pyplot as plt\r\n",
        "\r\n",
        "t1=7\r\n",
        "t2=2\r\n",
        "def f1(t):\r\n",
        "    if t >= t1:\r\n",
        "      return 1\r\n",
        "    return 0\r\n",
        "\r\n",
        "def f2(t):\r\n",
        "  if t >= t2: \r\n",
        "    return 1\r\n",
        "  return 0\r\n",
        "\r\n",
        "def sm(t):\r\n",
        "  return f1(t) + f2(t)\r\n",
        "\r\n",
        "A = np.array([[2, -9], [6, -15]])\r\n",
        "B = np.array([[1], [0]])\r\n",
        "C = np.array([1, 1])\r\n",
        "D = np.array([0])\r\n",
        "\r\n",
        "t0 = 0  # Initial time \r\n",
        "tf = 10  # Final time\r\n",
        "rng = np.linspace(t0, tf, 1000)\r\n",
        "\r\n",
        "u1 = []\r\n",
        "u2 = []\r\n",
        "u3 = []\r\n",
        "\r\n",
        "for t in rng:\r\n",
        "    u1.append(f1(t))\r\n",
        "    u2.append(f2(t))\r\n",
        "    u3.append(sm(t))\r\n",
        "\r\n",
        "num, den = signal.ss2tf(A, B, C, D)\r\n",
        "\r\n",
        "tout, yout, _ = signal.lsim((num, den), u1, rng)\r\n",
        "plt.plot(tout, yout)\r\n",
        "plt.show()\r\n",
        "\r\n",
        "tout, yout, _ = signal.lsim((num, den), u2, rng)\r\n",
        "plt.plot(tout, yout)\r\n",
        "plt.show()\r\n",
        "\r\n",
        "\r\n",
        "tout, yout, _ = signal.lsim((num, den), u3, rng)\r\n",
        "plt.plot(tout, yout)\r\n",
        "plt.show()"
      ],
      "execution_count": null,
      "outputs": [
        {
          "output_type": "stream",
          "text": [
            "/usr/local/lib/python3.7/dist-packages/scipy/signal/filter_design.py:1622: BadCoefficients: Badly conditioned filter coefficients (numerator): the results may be meaningless\n",
            "  \"results may be meaningless\", BadCoefficients)\n"
          ],
          "name": "stderr"
        },
        {
          "output_type": "display_data",
          "data": {
            "image/png": "[encoded data removed]",
            "text/plain": [
              "<Figure size 432x288 with 1 Axes>"
            ]
          },
          "metadata": {
            "tags": [],
            "needs_background": "light"
          }
        },
        {
          "output_type": "stream",
          "text": [
            "/usr/local/lib/python3.7/dist-packages/scipy/signal/filter_design.py:1622: BadCoefficients: Badly conditioned filter coefficients (numerator): the results may be meaningless\n",
            "  \"results may be meaningless\", BadCoefficients)\n"
          ],
          "name": "stderr"
        },
        {
          "output_type": "display_data",
          "data": {
            "image/png": "[encoded data removed]",
            "text/plain": [
              "<Figure size 432x288 with 1 Axes>"
            ]
          },
          "metadata": {
            "tags": [],
            "needs_background": "light"
          }
        },
        {
          "output_type": "stream",
          "text": [
            "/usr/local/lib/python3.7/dist-packages/scipy/signal/filter_design.py:1622: BadCoefficients: Badly conditioned filter coefficients (numerator): the results may be meaningless\n",
            "  \"results may be meaningless\", BadCoefficients)\n"
          ],
          "name": "stderr"
        },
        {
          "output_type": "display_data",
          "data": {
            "image/png": "[encoded data removed]",
            "text/plain": [
              "<Figure size 432x288 with 1 Axes>"
            ]
          },
          "metadata": {
            "tags": [],
            "needs_background": "light"
          }
        }
      ]
    },
    {
      "cell_type": "markdown",
      "metadata": {
        "id": "0rQLCG8TbbG1"
      },
      "source": [
        "#Task 4"
      ]
    },
    {
      "cell_type": "markdown",
      "metadata": {
        "id": "VD9qm9vgqWQ0"
      },
      "source": [
        "##Subtask 4.1"
      ]
    },
    {
      "cell_type": "markdown",
      "metadata": {
        "id": "sOplk_cu5IKo"
      },
      "source": [
        "$$\\dot x = \r\n",
        "\\begin{pmatrix} 2 & -9 \\\\ 6 & -15\r\n",
        "\\end{pmatrix}\r\n",
        "x\r\n",
        "+\r\n",
        "\\begin{pmatrix} \r\n",
        "1 \\\\ 0\r\n",
        "\\end{pmatrix}\r\n",
        "u\r\n",
        "$$"
      ]
    },
    {
      "cell_type": "code",
      "metadata": {
        "colab": {
          "base_uri": "https://localhost:8080/"
        },
        "id": "YAaINGBms4Kx",
        "outputId": "d08a577c-f783-4f5b-fd9b-8a5ba5a2a087"
      },
      "source": [
        "import numpy as np\r\n",
        "from scipy import signal\r\n",
        "import matplotlib.pyplot as plt\r\n",
        "\r\n",
        "\r\n",
        "n = 2\r\n",
        "\r\n",
        "A = np.array([[2, -9], [6, -15]])\r\n",
        "B = np.array([[1], [0]])\r\n",
        "C = np.array([1, 1])\r\n",
        "D = np.array([0])\r\n",
        "\r\n",
        "def u(t):\r\n",
        "   w = 3      #changes the shape of the graph (bigger w makes \"waves\" narrow and low, little w makes \"waves\" wide and high)\r\n",
        "   x = np.sin(w*t)\r\n",
        "   return x\r\n",
        "\r\n",
        "num, den = signal.ss2tf(A, B, C, D)\r\n",
        "rng = np.linspace(t0, tf, 1000)\r\n",
        "v=[]\r\n",
        "\r\n",
        "for t in rng:\r\n",
        "    v.append(u(t))\r\n",
        "\r\n",
        "time = np.linspace(0, 0.3, 1000)    \r\n",
        "x0 = np.random.rand(n)            # initial state\r\n",
        "\r\n",
        "tout, yout, _ = signal.lsim((num, den) , v, rng)\r\n",
        "plt.plot(tout, yout)\r\n",
        "plt.show()"
      ],
      "execution_count": null,
      "outputs": [
        {
          "output_type": "stream",
          "text": [
            "/usr/local/lib/python3.7/dist-packages/scipy/signal/filter_design.py:1622: BadCoefficients: Badly conditioned filter coefficients (numerator): the results may be meaningless\n",
            "  \"results may be meaningless\", BadCoefficients)\n"
          ],
          "name": "stderr"
        },
        {
          "output_type": "display_data",
          "data": {
            "image/png": "[encoded data removed]",
            "text/plain": [
              "<Figure size 432x288 with 1 Axes>"
            ]
          },
          "metadata": {
            "tags": [],
            "needs_background": "light"
          }
        }
      ]
    },
    {
      "cell_type": "markdown",
      "metadata": {
        "id": "g9pdKbfvqYXT"
      },
      "source": [
        "##Subtask 4.2"
      ]
    },
    {
      "cell_type": "markdown",
      "metadata": {
        "id": "TnvCqTzOq9E0"
      },
      "source": [
        "### 1)\r\n",
        "$$\\dot x = \r\n",
        "\\begin{pmatrix} 10 & 0 \\\\ -5 & 10\r\n",
        "\\end{pmatrix}\r\n",
        "x\r\n",
        "+\r\n",
        "\\begin{pmatrix} \r\n",
        "2 \\\\ 0\r\n",
        "\\end{pmatrix}\r\n",
        "u\r\n",
        "$$\r\n",
        "\r\n",
        "From the task 1.1"
      ]
    },
    {
      "cell_type": "code",
      "metadata": {
        "colab": {
          "base_uri": "https://localhost:8080/",
          "height": 511
        },
        "id": "vMIyz47dMV-6",
        "outputId": "f01fc807-458f-425d-f71a-99ea4267f072"
      },
      "source": [
        "from scipy.signal import ss2tf\r\n",
        "from scipy.signal import freqz\r\n",
        "\r\n",
        "#system 1\r\n",
        "A = np.array([[10, 0], [-5, 10]])\r\n",
        "B = np.array([[2], [0]])\r\n",
        "C = np.eye(2)\r\n",
        "D = np.zeros((2, 1))\r\n",
        "\r\n",
        "num, den = ss2tf(A, B, C, D)\r\n",
        "\r\n",
        "print(\"num:\", num)\r\n",
        "print(\"den:\", den)\r\n",
        "\r\n",
        "w1, h1 = freqz(num[0, :], den)\r\n",
        "w2, h2 = freqz(num[1, :], den)\r\n",
        "\r\n",
        "plt.rcParams['figure.figsize'] = [5, 7]\r\n",
        "\r\n",
        "plt.subplot(211)\r\n",
        "plt.plot(w1, 20 * np.log10(abs(h1)), 'b')\r\n",
        "plt.ylabel('Amplitude [dB]', color='b')\r\n",
        "plt.xlabel('Frequency [rad/sample]')\r\n",
        "\r\n",
        "plt.subplot(212)\r\n",
        "plt.plot(w2, 20 * np.log10(abs(h2)), 'b')\r\n",
        "plt.ylabel('Amplitude [dB]', color='b')\r\n",
        "plt.xlabel('Frequency [rad/sample]')"
      ],
      "execution_count": null,
      "outputs": [
        {
          "output_type": "stream",
          "text": [
            "num: [[  0.   2. -20.]\n",
            " [  0.   0. -10.]]\n",
            "den: [  1. -20. 100.]\n"
          ],
          "name": "stdout"
        },
        {
          "output_type": "execute_result",
          "data": {
            "text/plain": [
              "Text(0.5, 0, 'Frequency [rad/sample]')"
            ]
          },
          "metadata": {
            "tags": []
          },
          "execution_count": 45
        },
        {
          "output_type": "display_data",
          "data": {
            "image/png": "[encoded data removed]",
            "text/plain": [
              "<Figure size 360x504 with 2 Axes>"
            ]
          },
          "metadata": {
            "tags": [],
            "needs_background": "light"
          }
        }
      ]
    },
    {
      "cell_type": "markdown",
      "metadata": {
        "id": "wJt_EcbAZIzX"
      },
      "source": [
        "### 2)\r\n",
        "\r\n",
        "$$\\dot x = \r\n",
        "\\begin{pmatrix} 10 & 0 \\\\ -5 & 10\r\n",
        "\\end{pmatrix}\r\n",
        "x\r\n",
        "+\r\n",
        "\\begin{pmatrix} \r\n",
        "2 & 1 \\\\ 0 & -1\r\n",
        "\\end{pmatrix}\r\n",
        "u\r\n",
        "$$\r\n",
        "\r\n",
        "From the task 1.2\r\n"
      ]
    },
    {
      "cell_type": "code",
      "metadata": {
        "colab": {
          "base_uri": "https://localhost:8080/",
          "height": 511
        },
        "id": "twHRFRkJZGn0",
        "outputId": "a369711a-d5e8-4149-f86c-bf66801da721"
      },
      "source": [
        "from scipy.signal import ss2tf\r\n",
        "from scipy.signal import freqz\r\n",
        "\r\n",
        "#system 1\r\n",
        "A = np.array([[10, 0], [-5, 10]])\r\n",
        "B = np.array([[2, 1], [0, -1]])\r\n",
        "C = np.eye(2)\r\n",
        "D = np.zeros((2, 2))\r\n",
        "\r\n",
        "num, den = ss2tf(A, B, C, D)\r\n",
        "\r\n",
        "print(\"num:\", num)\r\n",
        "print(\"den:\", den)\r\n",
        "\r\n",
        "w1, h1 = freqz(num[0, :], den)\r\n",
        "w2, h2 = freqz(num[1, :], den)\r\n",
        "\r\n",
        "plt.rcParams['figure.figsize'] = [5, 7]\r\n",
        "\r\n",
        "plt.subplot(211)\r\n",
        "plt.plot(w1, 20 * np.log10(abs(h1)), 'b')\r\n",
        "plt.ylabel('Amplitude [dB]', color='b')\r\n",
        "plt.xlabel('Frequency [rad/sample]')\r\n",
        "\r\n",
        "plt.subplot(212)\r\n",
        "plt.plot(w2, 20 * np.log10(abs(h2)), 'b')\r\n",
        "plt.ylabel('Amplitude [dB]', color='b')\r\n",
        "plt.xlabel('Frequency [rad/sample]')"
      ],
      "execution_count": null,
      "outputs": [
        {
          "output_type": "stream",
          "text": [
            "num: [[  0.   2. -20.]\n",
            " [  0.   0. -10.]]\n",
            "den: [  1. -20. 100.]\n"
          ],
          "name": "stdout"
        },
        {
          "output_type": "execute_result",
          "data": {
            "text/plain": [
              "Text(0.5, 0, 'Frequency [rad/sample]')"
            ]
          },
          "metadata": {
            "tags": []
          },
          "execution_count": 46
        },
        {
          "output_type": "display_data",
          "data": {
            "image/png": "[encoded data removed]",
            "text/plain": [
              "<Figure size 360x504 with 2 Axes>"
            ]
          },
          "metadata": {
            "tags": [],
            "needs_background": "light"
          }
        }
      ]
    },
    {
      "cell_type": "markdown",
      "metadata": {
        "id": "1iyQd7yWbch_"
      },
      "source": [
        "#Task 5"
      ]
    },
    {
      "cell_type": "markdown",
      "metadata": {
        "id": "J_xg21wtkh_m"
      },
      "source": [
        "##Subtask 5.1"
      ]
    },
    {
      "cell_type": "markdown",
      "metadata": {
        "id": "L_vnMU-Akv2m"
      },
      "source": [
        "### 1) \r\n",
        "$$\\dot x = \r\n",
        "\\begin{pmatrix} 2 & 2 \\\\ -6 & 10\r\n",
        "\\end{pmatrix}\r\n",
        "x\r\n",
        "+\r\n",
        "\\begin{pmatrix} \r\n",
        "1 \\\\ 5\r\n",
        "\\end{pmatrix}\r\n",
        "u\r\n",
        "$$\r\n",
        "\r\n",
        "\\\\\r\n",
        "\r\n",
        "Let us drive it towards the point $x^* = \\begin{pmatrix} 0 \\\\ 1 \\end{pmatrix}$\r\n"
      ]
    },
    {
      "cell_type": "markdown",
      "metadata": {
        "id": "A5-2Sobn6Pmg"
      },
      "source": [
        "We define our control as:\r\n",
        "\r\n",
        "$$u = \r\n",
        "-K (x - x^*) + u^*\r\n",
        "$$\r\n",
        "\r\n",
        "\r\n",
        "We know that $\\dot x^* = 0$ and that at the node our dynamics obtains the form:\r\n",
        "\r\n",
        "$$0 = \r\n",
        "\\begin{pmatrix} 2 & 2 \\\\ -6 & 10\r\n",
        "\\end{pmatrix}\r\n",
        "\\begin{pmatrix} 0 \\\\ 1 \\end{pmatrix}\r\n",
        "+\r\n",
        "\\begin{pmatrix} \r\n",
        "1 \\\\ 5\r\n",
        "\\end{pmatrix}\r\n",
        "u^*\r\n",
        "$$\r\n",
        "\r\n",
        "In other words, $u^* = -2$.\r\n",
        "\r\n",
        "\\\\\r\n",
        "\r\n",
        "We define control error as $e = x - x^*$. \r\n",
        "\r\n",
        "\r\n",
        "Now we write error dynamics:\r\n",
        "\r\n",
        "$$\\dot x - \\dot x^* = \r\n",
        "\\begin{pmatrix}  2 & 2 \\\\ -6 & 10\r\n",
        "\\end{pmatrix}\r\n",
        "x\r\n",
        " - \r\n",
        "\\begin{pmatrix}  2 & 2 \\\\ -6 & 10\r\n",
        "\\end{pmatrix}\r\n",
        "x^*\r\n",
        "+\r\n",
        "\\begin{pmatrix} \r\n",
        "1 \\\\ 5\r\n",
        "\\end{pmatrix}\r\n",
        "(-K (x - x^*) + u^*)\r\n",
        "-\r\n",
        "\\begin{pmatrix} \r\n",
        "1\\\\ 5\r\n",
        "\\end{pmatrix}\r\n",
        "u^*\r\n",
        "$$\r\n",
        "\r\n",
        "\r\n",
        "$$\\dot e = \r\n",
        "\\begin{pmatrix} 2 & 2 \\\\ -6 & 10\r\n",
        "\\end{pmatrix}\r\n",
        "e\r\n",
        "-\r\n",
        "\\begin{pmatrix} \r\n",
        "1 \\\\ 5\r\n",
        "\\end{pmatrix}\r\n",
        "K e\r\n",
        "$$\r\n",
        "\r\n"
      ]
    },
    {
      "cell_type": "code",
      "metadata": {
        "colab": {
          "base_uri": "https://localhost:8080/",
          "height": 378
        },
        "id": "M3VDll6K92H2",
        "outputId": "d77b4da4-1be1-4b66-c22b-34aeedd82c09"
      },
      "source": [
        "import numpy as np\r\n",
        "from numpy.linalg import eig\r\n",
        "from scipy.integrate import odeint\r\n",
        "from scipy.signal import place_poles\r\n",
        "n = 2\r\n",
        "A = np.array([[2, 2], [-6, -10]])\r\n",
        "B = np.array([[1], [5]])\r\n",
        "\r\n",
        "#desired eigenvalues\r\n",
        "poles = np.array([-5, -6])\r\n",
        "place_obj = place_poles(A, B, poles)\r\n",
        "\r\n",
        "#found control gains\r\n",
        "K = place_obj.gain_matrix;\r\n",
        "print(\"K:\", K)\r\n",
        "\r\n",
        "#test that eigenvalues of the closed loop system are what they are supposed to be \r\n",
        "e, v = eig((A - B.dot(K)))\r\n",
        "print(\"eigenvalues of A - B*K:\", e)\r\n",
        "\r\n",
        "x_desired = np.array([0, 1])\r\n",
        "u_desired = np.array([-2])\r\n",
        "\r\n",
        "\r\n",
        "def StateSpace(x, t):\r\n",
        "    u = -K.dot(x - x_desired) + u_desired\r\n",
        "    return A.dot(x) + B.dot(u)\r\n",
        "\r\n",
        "time = np.linspace(0, 30, 30000)   \r\n",
        "x0 = np.random.rand(n)  # initial state\r\n",
        "\r\n",
        "solution = {\"solution_1\": odeint(StateSpace, x0, time)}    \r\n",
        "\r\n",
        "\r\n",
        "plt.rcParams['figure.figsize'] = [5, 5]\r\n",
        "\r\n",
        "# plt.rcParams[\"font.family\"] = \"Old Times American\"\r\n",
        "plt.rcParams[\"font.size\"] = 16\r\n",
        "plt.rcParams[\"font.weight\"] = 'normal'\r\n",
        "\r\n",
        "\r\n",
        "# plt.subplot(221)\r\n",
        "plt.plot(time, solution[\"solution_1\"], linewidth=2)\r\n",
        "plt.xlabel('time')\r\n",
        "plt.ylabel('x(t)')\r\n",
        "plt.grid(color='k', linestyle='--', linewidth=0.7, alpha=0.3)\r\n",
        "# plt.title('autonomous')"
      ],
      "execution_count": null,
      "outputs": [
        {
          "output_type": "stream",
          "text": [
            "K: [[2.05172414 0.18965517]]\n",
            "eigenvalues of A - B*K: [-5. -6.]\n"
          ],
          "name": "stdout"
        },
        {
          "output_type": "display_data",
          "data": {
            "image/png": "[encoded data removed]",
            "text/plain": [
              "<Figure size 360x360 with 1 Axes>"
            ]
          },
          "metadata": {
            "tags": [],
            "needs_background": "light"
          }
        }
      ]
    },
    {
      "cell_type": "markdown",
      "metadata": {
        "id": "P7cWuXpSq9kq"
      },
      "source": [
        "###2)\r\n",
        " $$\\dot x = \r\n",
        "\\begin{pmatrix} 2 & 2 \\\\ -6 & 10\r\n",
        "\\end{pmatrix}\r\n",
        "x\r\n",
        "+\r\n",
        "\\begin{pmatrix} \r\n",
        "5 & -1 \\\\ -2 & 4\r\n",
        "\\end{pmatrix}\r\n",
        "u\r\n",
        "$$\r\n",
        "\r\n",
        "Let us drive it towards the point $x^* = \\begin{pmatrix} 0 \\\\ 1 \\end{pmatrix}$\r\n"
      ]
    },
    {
      "cell_type": "markdown",
      "metadata": {
        "id": "bNmE25WCLi5p"
      },
      "source": [
        "\r\n",
        "\r\n",
        "\r\n",
        "We define our control as:\r\n",
        "\r\n",
        "$$u = \r\n",
        "-K (x - x^*) + u^*\r\n",
        "$$\r\n",
        "\r\n",
        "\r\n",
        "We know that $\\dot x^* = 0$ and that at the node our dynamics obtains the form:\r\n",
        "\r\n",
        "$$0 = \r\n",
        "\\begin{pmatrix} 2 & 2 \\\\ -6 & 10\r\n",
        "\\end{pmatrix}\r\n",
        "\\begin{pmatrix} 1 \\\\ 2 \\end{pmatrix}\r\n",
        "+\r\n",
        "\\begin{pmatrix} \r\n",
        "5 & -1 \\\\ -2 & 4\r\n",
        "\\end{pmatrix}\r\n",
        "u^*\r\n",
        "$$\r\n",
        "\r\n",
        "In other words, $u^* = \\begin{pmatrix} -1 \\\\ -3 \\end{pmatrix}$.\r\n",
        "\r\n",
        "\\\\\r\n",
        "\r\n",
        "We define control error as $e = x - x^*$. \r\n",
        "\r\n",
        "\r\n",
        "Now we write error dynamics:\r\n",
        "\r\n",
        "$$\\dot x - \\dot x^* = \r\n",
        "\\begin{pmatrix} 2 & 2 \\\\ -6 & 10\r\n",
        "\\end{pmatrix}\r\n",
        "x\r\n",
        " - \r\n",
        "\\begin{pmatrix} 2 & 2 \\\\ -6 & 10\r\n",
        "\\end{pmatrix}\r\n",
        "x^*\r\n",
        "+\r\n",
        "\\begin{pmatrix} \r\n",
        "5 & -1 \\\\ -2 & 4\r\n",
        "\\end{pmatrix}\r\n",
        "(-K (x - x^*) + u^*)\r\n",
        "-\r\n",
        "\\begin{pmatrix} \r\n",
        "5 & -1 \\\\ -2 & 4\r\n",
        "\\end{pmatrix}\r\n",
        "u^*\r\n",
        "$$\r\n",
        "\r\n",
        "\r\n",
        "$$\\dot e = \r\n",
        "\\begin{pmatrix} 2 & 2 \\\\ -6 & 10\r\n",
        "\\end{pmatrix}\r\n",
        "e\r\n",
        "-\r\n",
        "\\begin{pmatrix} \r\n",
        "5 & -1 \\\\ -2 & 4\r\n",
        "\\end{pmatrix}\r\n",
        "K e\r\n",
        "$$"
      ]
    },
    {
      "cell_type": "code",
      "metadata": {
        "colab": {
          "base_uri": "https://localhost:8080/",
          "height": 394
        },
        "id": "opsR8u5Jsb1f",
        "outputId": "668f20d3-c60b-4fb9-c789-295b5ebce49c"
      },
      "source": [
        "import numpy as np\r\n",
        "from numpy.linalg import eig\r\n",
        "from scipy.integrate import odeint\r\n",
        "from scipy.signal import place_poles\r\n",
        "n = 2\r\n",
        "A = np.array([[2, 2], [-6, 10]])\r\n",
        "B = np.array([[5, -1], [-2, 4]])\r\n",
        "\r\n",
        "#desired eigenvalues\r\n",
        "poles = np.array([-5, -6])\r\n",
        "place_obj = place_poles(A, B, poles)\r\n",
        "\r\n",
        "#found control gains\r\n",
        "K = place_obj.gain_matrix;\r\n",
        "print(\"K:\", K)\r\n",
        "\r\n",
        "#test that eigenvalues of the closed loop system are what they are supposed to be \r\n",
        "e, v = eig((A - B.dot(K)))\r\n",
        "print(\"eigenvalues of A - B*K:\", e)\r\n",
        "\r\n",
        "x_desired = np.array([0, 1])\r\n",
        "u_desired = np.array([-1, -3])\r\n",
        "\r\n",
        "\r\n",
        "def StateSpace(x, t):\r\n",
        "    u = -K.dot(x - x_desired) + u_desired\r\n",
        "    return A.dot(x) + B.dot(u)\r\n",
        "\r\n",
        "time = np.linspace(0, 30, 30000)   \r\n",
        "x0 = np.random.rand(n)  # initial state\r\n",
        "\r\n",
        "solution = {\"solution_1\": odeint(StateSpace, x0, time)}    \r\n",
        "\r\n",
        "\r\n",
        "plt.rcParams['figure.figsize'] = [5, 5]\r\n",
        "\r\n",
        "# plt.rcParams[\"font.family\"] = \"Old Times American\"\r\n",
        "plt.rcParams[\"font.size\"] = 16\r\n",
        "plt.rcParams[\"font.weight\"] = 'normal'\r\n",
        "\r\n",
        "\r\n",
        "# plt.subplot(221)\r\n",
        "plt.plot(time, solution[\"solution_1\"], linewidth=2)\r\n",
        "plt.xlabel('time')\r\n",
        "plt.ylabel('x(t)')\r\n",
        "plt.grid(color='k', linestyle='--', linewidth=0.7, alpha=0.3)\r\n",
        "# plt.title('autonomous')"
      ],
      "execution_count": null,
      "outputs": [
        {
          "output_type": "stream",
          "text": [
            "K: [[ 1.44444444  1.27777778]\n",
            " [-0.77777778  4.38888889]]\n",
            "eigenvalues of A - B*K: [-6. -5.]\n"
          ],
          "name": "stdout"
        },
        {
          "output_type": "display_data",
          "data": {
            "image/png": "[encoded data removed]",
            "text/plain": [
              "<Figure size 360x360 with 1 Axes>"
            ]
          },
          "metadata": {
            "tags": [],
            "needs_background": "light"
          }
        }
      ]
    },
    {
      "cell_type": "markdown",
      "metadata": {
        "id": "FJkLmAsOZCKU"
      },
      "source": [
        "#Task 6"
      ]
    },
    {
      "cell_type": "markdown",
      "metadata": {
        "id": "8xT7TavJZED5"
      },
      "source": [
        "##Subtask 6.1"
      ]
    },
    {
      "cell_type": "markdown",
      "metadata": {
        "id": "zw-7bVE1QXxo"
      },
      "source": [
        "1)\r\n",
        "\r\n",
        "$$x_{i+1} = \r\n",
        "\\begin{pmatrix} 0.5 & 0.1 \\\\ -0.05 & 0.2\r\n",
        "\\end{pmatrix}\r\n",
        "x_i\r\n",
        "$$\r\n",
        "\r\n",
        "\\\\\r\n",
        "\r\n",
        "$ det(A - sI) = (0.5 - s)(0.2 - s) + 0.005 = s^2 - 0.7 s + 0.105 = 0 $\r\n",
        "\r\n",
        "\\\\\r\n",
        "\r\n",
        "$ s_1 = \\frac{0.7 + \\sqrt{0.07}}{2}, \\ s_2 = \\frac{0.7 - \\sqrt{0.07}}{2} $\r\n",
        "    \r\n",
        "Answer: $|s_1| < 1$ , $|s_2| < 1$, so the system is stable"
      ]
    },
    {
      "cell_type": "markdown",
      "metadata": {
        "id": "td63CsijTZ_I"
      },
      "source": [
        "2)\r\n",
        "$$x_{i+1} = \r\n",
        "\\begin{pmatrix} 1 & -2 \\\\ 0 & 0.3\r\n",
        "\\end{pmatrix}\r\n",
        "x_i\r\n",
        "$$\r\n",
        "\r\n",
        "\r\n",
        "$$ det(A - sI) = (1 - s)(0.3 - s) = 0 $$\r\n",
        " $$ s_1 = 1 , \\  s_2 = 0.3 $$\r\n",
        "    \r\n",
        " $|s_1| <= 1$ , $|s_2| < 1$, so the system is stable"
      ]
    },
    {
      "cell_type": "markdown",
      "metadata": {
        "id": "Xpuw8edlT9g2"
      },
      "source": [
        "3)\r\n",
        "\r\n",
        "$$x_{i+1} = \r\n",
        "\\begin{pmatrix} -5 & 0 \\\\ -0.1 & 1\r\n",
        "\\end{pmatrix}\r\n",
        "x_i\r\n",
        "+\r\n",
        "\\begin{pmatrix} \r\n",
        "0 \\\\ 0.5\r\n",
        "\\end{pmatrix}\r\n",
        "u_i, \\ \\ \\ \r\n",
        "u_i = \r\n",
        "\\begin{pmatrix} \r\n",
        "0 & 0.2\r\n",
        "\\end{pmatrix}\r\n",
        "x_i\r\n",
        "$$\r\n",
        "\r\n",
        "Substituting $u_i$ :\r\n",
        "\r\n",
        "$$x_{i+1} = \r\n",
        "\\begin{pmatrix} -5 & 0 \\\\ -0.1 & 1.1\r\n",
        "\\end{pmatrix}\r\n",
        "$$\r\n",
        "\r\n",
        "\\\\\r\n",
        "\r\n",
        "$ det(A - sI) = (-5 - s)(1.1 - s) = 0 $\r\n",
        "\r\n",
        "$ s_1 = -5, \\ s_2 = 1.1 $\r\n",
        "    \r\n",
        "Answer: $|s_1| > 1, \\ |s_2| > 1$, so the system is unstable"
      ]
    },
    {
      "cell_type": "markdown",
      "metadata": {
        "id": "8pn4BAXHVdfX"
      },
      "source": [
        "4)\r\n",
        "\r\n",
        "$$x_{i+1} = \r\n",
        "\\begin{pmatrix} -2.2 & -3 \\\\ 0 & 0.5\r\n",
        "\\end{pmatrix}\r\n",
        "x_i\r\n",
        "+\r\n",
        "\\begin{pmatrix} \r\n",
        "-1 \\\\ 1\r\n",
        "\\end{pmatrix}\r\n",
        "u_i, \\ \\ \\ \r\n",
        "u_i = 10\r\n",
        "$$\r\n",
        "\r\n",
        "Substituting $ u_i = \r\n",
        "\\begin{pmatrix} \r\n",
        "10 & 10\r\n",
        "\\end{pmatrix}  x_ i$:\r\n",
        "\r\n",
        "$$x_{i+1} = \r\n",
        "\\begin{pmatrix} -12.2 & -13 \\\\ 10 & 10.5\r\n",
        "\\end{pmatrix}\r\n",
        "$$\r\n",
        "\r\n",
        "$ det(A - sI) = (-12.2 - s)(10.5 - s) + 130 = s^2 + 1.7 s + 1.9 = 0 $\r\n",
        "\r\n",
        "$ s_1 = \\frac{-170 + i\\sqrt{471}}{200}, \\ s_2 = \\frac{-170 - i\\sqrt{471}}{200} $\r\n",
        "    \r\n",
        "Answer: $|\\sqrt{Re(s_1)^2 + Im(s_1)^2}| < 1$ ,  $|\\sqrt{Re(s_2)^2 + Im(s_2)^2}| < 1$, so the system is stable"
      ]
    },
    {
      "cell_type": "markdown",
      "metadata": {
        "id": "526CZbZIZHbb"
      },
      "source": [
        "##Subtask 6.2"
      ]
    },
    {
      "cell_type": "markdown",
      "metadata": {
        "id": "NdSpygzzauPH"
      },
      "source": [
        "###1)\r\n",
        "\r\n",
        "$$x_{i+1} = \r\n",
        "\\begin{pmatrix} 1 & 1 \\\\ -0.4 & 0.1\r\n",
        "\\end{pmatrix}\r\n",
        "x_i\r\n",
        "+\r\n",
        "\\begin{pmatrix} \r\n",
        "0.5 \\\\ 0.5\r\n",
        "\\end{pmatrix}\r\n",
        "u_i\r\n",
        "$$\r\n",
        "\r\n",
        "\\\\\r\n",
        "\r\n",
        "Substituting $ u_i = -\\begin{pmatrix}\r\n",
        "k_1 & k_2\r\n",
        "\\end{pmatrix} x_i$:\r\n",
        "\r\n",
        "\\\\\r\n",
        "\r\n",
        "$$x_{i+1} = \r\n",
        "\\begin{pmatrix} 1 & 1 \\\\ -0.4 & 0.1\r\n",
        "\\end{pmatrix}\r\n",
        "x_i\r\n",
        "-\r\n",
        "\\begin{pmatrix} \r\n",
        "0.5 \\\\ 0.5\r\n",
        "\\end{pmatrix}\r\n",
        "\\begin{pmatrix}\r\n",
        "k_1 & k_2\r\n",
        "\\end{pmatrix} x_i\r\n",
        "$$\r\n",
        "\r\n",
        "$$x_{i+1} = \r\n",
        "\\begin{pmatrix} 1 - 0.5k_1 & 1-0.5k_2 \\\\ -0.4 - 0.5k_1 & 0.1 - 0.5k_2\r\n",
        "\\end{pmatrix}\r\n",
        "$$\r\n",
        "\r\n",
        "\\\\\r\n",
        "\r\n",
        "$ det(A-sI) = (1 - 0.5k_1 - s)(0.1 - 0.5k_2 - s) - (-0.4 - 0.5k_1)(1 - 0.5k_2) = s^2  + s(- 1.1 + 0.5k_1 + 0.05k_2) + 0.5 + 0.45k_1 - 0.7k_2 = 0$\r\n",
        "\r\n",
        "\\\\\r\n",
        "\r\n",
        "\r\n",
        "Let us set the desired poles to (-0.5; -0.6). For these poles the equation should be $s^2 - 1.1s + 0.3 = 0$ \r\n",
        " \\\\\r\n",
        "\r\n",
        "This gives us the system of 2 equations: \\\\\r\n",
        "$$ \\begin{cases}\r\n",
        "-1.1 + 0.5k_1 + 0.05k_2 = -1.1 \\\\\r\n",
        " 0.5 + 0.45k_1 - 0.7k_2 = 0.3\r\n",
        "\\end{cases}\r\n",
        "$$\r\n",
        "\r\n",
        "After solving it we get:\r\n",
        "$ k_1 = \\frac{-4}{149}, \\ k_2 = \\frac{40}{149}$\r\n",
        "\r\n",
        "Answer: $ u_i = \\begin{pmatrix}\r\n",
        "\\frac{-4}{149} & \\frac{40}{149}\r\n",
        "\\end{pmatrix}\r\n",
        "x_i$"
      ]
    },
    {
      "cell_type": "markdown",
      "metadata": {
        "id": "wZQoVzgGhNXq"
      },
      "source": [
        "###2)\r\n",
        "\r\n",
        "$$x_{i+1} = \r\n",
        "\\begin{pmatrix} 0.8 & -0.3 \\\\ 0 & 0.15\r\n",
        "\\end{pmatrix}\r\n",
        "x_i\r\n",
        "+\r\n",
        "\\begin{pmatrix} \r\n",
        "-1 \\\\ 1\r\n",
        "\\end{pmatrix}\r\n",
        "u_i\r\n",
        "$$\r\n",
        "\r\n",
        "\\\\\r\n",
        "\r\n",
        "Substituting $ u_i = -\\begin{pmatrix}\r\n",
        "k_1 & k_2\r\n",
        "\\end{pmatrix} x_i$:\r\n",
        "\r\n",
        "\\\\\r\n",
        "\r\n",
        "$$x_{i+1} = \r\n",
        "\\begin{pmatrix} 0.8 & -0.3 \\\\ 0 & 0.15\r\n",
        "\\end{pmatrix}\r\n",
        "x_i\r\n",
        "-\r\n",
        "\\begin{pmatrix} \r\n",
        "-1 \\\\ 1\r\n",
        "\\end{pmatrix}\r\n",
        "\\begin{pmatrix}\r\n",
        "k_1 & k_2\r\n",
        "\\end{pmatrix} x_i\r\n",
        "$$\r\n",
        "\r\n",
        "$$x_{i+1} = \r\n",
        "\\begin{pmatrix} 0.8 + k_1 & -0.3 + 5k_2 \\\\ -k_1 & 0.15 - k_2\r\n",
        "\\end{pmatrix}\r\n",
        "$$\r\n",
        "\r\n",
        "\\\\\r\n",
        "\r\n",
        "$$ det(A-sI) = (0.8 + k_1 - s)(0.15 - k_2 - s) + k_1(-0.3 + k_2) = s^2  + s(- 0.95 + k_1 + k_2) + 1.2 - 0.15k_1 - 0.8k_2 = 0$$\r\n",
        "\r\n",
        "\\\\\r\n",
        "\r\n",
        "Let us set the desired poles to (-0.5; -0.6). For these poles the equation should be $s^2 - 1.1s + 0.3 = 0$ \r\n",
        " \\\\\r\n",
        "\r\n",
        "This gives us the system of 2 equations: \\\\\r\n",
        "\r\n",
        "$$ \\begin{cases}\r\n",
        "- 0.95 + k_1 + k_2 = -1.1 \\\\\r\n",
        " 1.2 + 0.15k_1 - 0.8k_2 = 0.3\r\n",
        "\\end{cases}\r\n",
        "$$\r\n",
        "\r\n",
        "After solving it we get: $ k_1 = \\frac{-102}{95}$ and $ k_2 = \\frac{351}{380}$\r\n",
        "\r\n",
        "Answer: $ u_i = \\begin{pmatrix}\r\n",
        "\\frac{-102}{95} & \\frac{351}{380}\r\n",
        "\\end{pmatrix}\r\n",
        "x_i$"
      ]
    },
    {
      "cell_type": "markdown",
      "metadata": {
        "id": "8dVO-zlEUiRP"
      },
      "source": [
        "##Subtask 6.3"
      ]
    },
    {
      "cell_type": "markdown",
      "metadata": {
        "id": "uA038pqBZpiV"
      },
      "source": [
        "###1)"
      ]
    },
    {
      "cell_type": "code",
      "metadata": {
        "colab": {
          "base_uri": "https://localhost:8080/",
          "height": 376
        },
        "id": "i-1PBFpKsgG9",
        "outputId": "2c3e5d70-4654-49d0-dee5-5903450f703a"
      },
      "source": [
        "import numpy as np\n",
        "from numpy.linalg import eig\n",
        "from scipy.integrate import odeint\n",
        "from scipy.signal import place_poles\n",
        "import matplotlib.pyplot as plt\n",
        "\n",
        "n = 2;\n",
        "A = np.array([[0.5, 0.1], [-0.05, 0.2]])\n",
        "B = np.array([[1], [2]])\n",
        "\n",
        "poles = np.array([-0.5, -0.6])\n",
        "place_obj = place_poles(A, B, poles)\n",
        "\n",
        "K = place_obj.gain_matrix;\n",
        "print(\"K:\", K)\n",
        "\n",
        "#test that eigenvalues of the closed loop system are what they are supposed to be \n",
        "e, v = eig((A - B.dot(K)))\n",
        "print(\"eigenvalues of A - B*K:\", e)\n",
        "\n",
        "x_desired = np.array([0, 1])\n",
        "u_desired = np.array([-0.1])\n",
        "\n",
        "def StateSpace(x, t):\n",
        "    u = -K.dot(x - x_desired) + u_desired\n",
        "    return A.dot(x) + B.dot(u)\n",
        "\n",
        "time = np.linspace(0, 30, 30)   \n",
        "x0 = np.random.rand(n)  # initial state\n",
        "\n",
        "solution = {\"solution_1\": odeint(StateSpace, x0, time)}    \n",
        "\n",
        "\n",
        "plt.rcParams['figure.figsize'] = [5, 5]\n",
        "\n",
        "# plt.rcParams[\"font.family\"] = \"Old Times American\"\n",
        "plt.rcParams[\"font.size\"] = 14\n",
        "plt.rcParams[\"font.weight\"] = 'normal'\n",
        "\n",
        "\n",
        "# plt.subplot(221)\n",
        "plt.step(time, solution[\"solution_1\"], where='post')\n",
        "plt.xlabel('time')\n",
        "plt.ylabel('x(t)')\n",
        "plt.grid(color='k', linestyle='--', linewidth=0.7, alpha=0.3)\n",
        "# plt.title('autonomous')"
      ],
      "execution_count": null,
      "outputs": [
        {
          "output_type": "stream",
          "text": [
            "K: [[ 2.17142857 -0.18571429]]\n",
            "eigenvalues of A - B*K: [-0.6 -0.5]\n"
          ],
          "name": "stdout"
        },
        {
          "output_type": "display_data",
          "data": {
            "image/png": "[encoded data removed]",
            "text/plain": [
              "<Figure size 360x360 with 1 Axes>"
            ]
          },
          "metadata": {
            "tags": [],
            "needs_background": "light"
          }
        }
      ]
    },
    {
      "cell_type": "markdown",
      "metadata": {
        "id": "wna3GV6aZtNs"
      },
      "source": [
        "###2)"
      ]
    },
    {
      "cell_type": "code",
      "metadata": {
        "colab": {
          "base_uri": "https://localhost:8080/",
          "height": 393
        },
        "id": "m0ZXs0-GZx2z",
        "outputId": "75bc712f-5d81-4d87-f92a-3fdba69e3530"
      },
      "source": [
        "import numpy as np\n",
        "from numpy.linalg import eig\n",
        "from scipy.integrate import odeint\n",
        "from scipy.signal import place_poles\n",
        "import matplotlib.pyplot as plt\n",
        "\n",
        "n = 2;\n",
        "A = np.array([[0.5, 0.1], [-0.05, 0.2]])\n",
        "B = np.array([[1, 0.4], [6, 0.8]])\n",
        "\n",
        "poles = np.array([-0.5, -0.6])\n",
        "place_obj = place_poles(A, B, poles)\n",
        "\n",
        "K = place_obj.gain_matrix;\n",
        "print(\"K:\", K)\n",
        "\n",
        "#test that eigenvalues of the closed loop system are what they are supposed to be \n",
        "e, v = eig((A - B.dot(K)))\n",
        "print(\"eigenvalues of A - B*K:\", e)\n",
        "\n",
        "x_desired = np.array([0, 1])\n",
        "u_desired = np.array([0, 0.25])\n",
        "\n",
        "def StateSpace(x, t):\n",
        "    u = -K.dot(x - x_desired) + u_desired\n",
        "    return A.dot(x) + B.dot(u)\n",
        "\n",
        "time = np.linspace(0, 30, 30)   \n",
        "x0 = np.random.rand(n)  # initial state\n",
        "\n",
        "solution = {\"solution_1\": odeint(StateSpace, x0, time)}    \n",
        "\n",
        "\n",
        "plt.rcParams['figure.figsize'] = [5, 5]\n",
        "\n",
        "# plt.rcParams[\"font.family\"] = \"Old Times American\"\n",
        "plt.rcParams[\"font.size\"] = 14\n",
        "plt.rcParams[\"font.weight\"] = 'normal'\n",
        "\n",
        "\n",
        "# plt.subplot(221)\n",
        "plt.step(time, solution[\"solution_1\"], where='post')\n",
        "plt.xlabel('time')\n",
        "plt.ylabel('x(t)')\n",
        "plt.grid(color='k', linestyle='--', linewidth=0.7, alpha=0.3)\n",
        "# plt.title('autonomous')"
      ],
      "execution_count": null,
      "outputs": [
        {
          "output_type": "stream",
          "text": [
            "K: [[-0.5625   0.125  ]\n",
            " [ 4.15625 -0.0625 ]]\n",
            "eigenvalues of A - B*K: [-0.6 -0.5]\n"
          ],
          "name": "stdout"
        },
        {
          "output_type": "display_data",
          "data": {
            "image/png": "[encoded data removed]",
            "text/plain": [
              "<Figure size 360x360 with 1 Axes>"
            ]
          },
          "metadata": {
            "tags": [],
            "needs_background": "light"
          }
        }
      ]
    }
  ]
}