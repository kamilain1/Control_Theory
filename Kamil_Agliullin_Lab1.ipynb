{
  "nbformat": 4,
  "nbformat_minor": 0,
  "metadata": {
    "colab": {
      "name": "Lab1_Solution",
      "provenance": [],
      "collapsed_sections": [
        "feqz-qznXEhZ",
        "XDxW2U5OpdDB",
        "nP1D6BalpYoB",
        "_cfvJsLLjCeE",
        "81SD9lTykkIT",
        "J9VUkYaR0QLu",
        "VSAzA2S-i35T",
        "AeknJOg8YaXN"
      ],
      "authorship_tag": "ABX9TyPfl/Duz67h5fxdBAxQMS+F",
      "include_colab_link": true
    },
    "kernelspec": {
      "name": "python3",
      "display_name": "Python 3"
    }
  },
  "cells": [
    {
      "cell_type": "markdown",
      "metadata": {
        "id": "view-in-github",
        "colab_type": "text"
      },
      "source": [
        "<a href=\"https://colab.research.google.com/github/kamilain1/Control_Theory/blob/main/Kamil_Agliullin_Lab1.ipynb\" target=\"_parent\"><img src=\"https://colab.research.google.com/assets/colab-badge.svg\" alt=\"Open In Colab\"/></a>"
      ]
    },
    {
      "cell_type": "markdown",
      "metadata": {
        "id": "feqz-qznXEhZ"
      },
      "source": [
        "# Task 1: ODE to State Space conversion\r\n",
        "\r\n",
        "\r\n"
      ]
    },
    {
      "cell_type": "markdown",
      "metadata": {
        "id": "XDxW2U5OpdDB"
      },
      "source": [
        "## Subtask 1.1"
      ]
    },
    {
      "cell_type": "markdown",
      "metadata": {
        "id": "rpX_NSKXiIR2"
      },
      "source": [
        "1) $10 y^{(4)} -7  y^{(3)} + 2   \\ddot y + 0.5 \\dot y + 4y  = 15$\r\n",
        "\r\n",
        "$ y^{(4)} -7/10  y^{(3)} + 2/10   \\ddot y + 0.5/10 \\dot y + 4/10y  = 15/10$\r\n",
        "\r\n",
        "$x_n = y^{(n-1)} = \\dot x_{n-1}$\r\n",
        "\r\n",
        "$ y^{(4)} = \\dot x_{4} = 0.7  y^{(3)} - 0.2   \\ddot y - 0.05 \\dot y - 0.4 y + 1.5$\r\n",
        "\r\n",
        "$$\\dot x = \r\n",
        "\\begin{pmatrix} \r\n",
        "0 & 1 & 0 & 0\\\\  \r\n",
        "0 & 0 & 1 & 0\\\\\r\n",
        "0 & 0 & 0 & 1\\\\\r\n",
        "- 0.4 & - 0.05 & - 0.2 & 0.7\\\\\r\n",
        "\\end{pmatrix}\r\n",
        "x + \\begin{pmatrix} \r\n",
        "0 \\\\  \r\n",
        "0\\\\\r\n",
        "0 \\\\\r\n",
        "1.5\\\\\r\n",
        "\\end{pmatrix}\r\n",
        "$$"
      ]
    },
    {
      "cell_type": "markdown",
      "metadata": {
        "id": "DA-5yGn6iWUD"
      },
      "source": [
        "2) $5  y^{(4)} -17 y^{(3)} - 3   \\ddot y + 1.5 \\dot y + 2y  = 25$\r\n",
        "\r\n",
        "$ y^{(4)} -17/5  y^{(3)} -3/5   \\ddot y + 1.5/5 \\dot y + 2/5y  = 5$\r\n",
        "\r\n",
        "$x_n = y^{(n-1)} = \\dot x_{n-1}$\r\n",
        "\r\n",
        "$ y^{(4)} = \\dot x_{4} = 3.4  y^{(3)} + 0.6   \\ddot y - 0.3 \\dot y - 0.4 y + 5$\r\n",
        "\r\n",
        "$$\\dot x = \r\n",
        "\\begin{pmatrix} \r\n",
        "0 & 1 & 0 & 0\\\\  \r\n",
        "0 & 0 & 1 & 0\\\\\r\n",
        "0 & 0 & 0 & 1\\\\\r\n",
        "- 0.4 & - 0.3 & 0.6 & 3.4\\\\\r\n",
        "\\end{pmatrix}\r\n",
        "x + \\begin{pmatrix} \r\n",
        "0 \\\\  \r\n",
        "0\\\\\r\n",
        "0 \\\\\r\n",
        "5\\\\\r\n",
        "\\end{pmatrix}\r\n",
        "$$"
      ]
    },
    {
      "cell_type": "markdown",
      "metadata": {
        "id": "sMNWa_FaiWd8"
      },
      "source": [
        "3) $-3 y^{(4)} + 22 y^{(3)} + 4   \\ddot y + 1.5 \\dot y + 1y  = 15$\r\n",
        "\r\n",
        "$ y^{(4)} - 22/3  y^{(3)} -4/3   \\ddot y -1.5/3 \\dot y -1/3y  = -5$\r\n",
        "\r\n",
        "$x_n = y^{(n-1)} = \\dot x_{n-1}$\r\n",
        "\r\n",
        "$ y^{(4)} = \\dot x_{4} = 22/3  y^{(3)} + 4/3   \\ddot y + 0.5 \\dot y +1/3 y -5$\r\n",
        "\r\n",
        "$$\\dot x = \r\n",
        "\\begin{pmatrix} \r\n",
        "0 & 1 & 0 & 0\\\\  \r\n",
        "0 & 0 & 1 & 0\\\\\r\n",
        "0 & 0 & 0 & 1\\\\\r\n",
        "1/3 & 0.5 & 4/3 & 22/3\\\\\r\n",
        "\\end{pmatrix}\r\n",
        "x + \\begin{pmatrix} \r\n",
        "0 \\\\  \r\n",
        "0\\\\\r\n",
        "0 \\\\\r\n",
        "-5\\\\\r\n",
        "\\end{pmatrix}\r\n",
        "$$"
      ]
    },
    {
      "cell_type": "markdown",
      "metadata": {
        "id": "7pn1IffNiWoY"
      },
      "source": [
        "4) $5  y^{(4)} -17 y^{(3)} - 1.5 \\ddot y + 100 \\dot y + 1.1y= 45$\r\n",
        "\r\n",
        "$ y^{(4)} -17/5  y^{(3)} -1.5/5 \\ddot y + 20 \\dot y + 1.1/5y  = 9$\r\n",
        "\r\n",
        "$x_n = y^{(n-1)} = \\dot x_{n-1}$\r\n",
        "\r\n",
        "$ y^{(4)} = \\dot x_{4} = 3.4  y^{(3)} + 0.3 \\ddot y - 20 \\dot y - 0.22 y + 9$\r\n",
        "\r\n",
        "$$\\dot x = \r\n",
        "\\begin{pmatrix} \r\n",
        "0 & 1 & 0 & 0\\\\  \r\n",
        "0 & 0 & 1 & 0\\\\\r\n",
        "0 & 0 & 0 & 1\\\\\r\n",
        "- 0.22 & - 20 & 0.3 & 3.4\\\\\r\n",
        "\\end{pmatrix}\r\n",
        "x + \\begin{pmatrix} \r\n",
        "0 \\\\  \r\n",
        "0\\\\\r\n",
        "0 \\\\\r\n",
        "9\\\\\r\n",
        "\\end{pmatrix}\r\n",
        "$$"
      ]
    },
    {
      "cell_type": "markdown",
      "metadata": {
        "id": "Do6GhqsWiWx8"
      },
      "source": [
        "5)  $1.5y^{(4)} -23 y^{(3)} - 2.5 \\ddot y + 0.1 \\dot y + 100y= -10$\r\n",
        "\r\n",
        "$ y^{(4)} -23/1.5  y^{(3)} -25/15   \\ddot y + 1/15 \\dot y + 100/1.5y  = -10/1.5$\r\n",
        "\r\n",
        "$x_n = y^{(n-1)} = \\dot x_{n-1}$\r\n",
        "\r\n",
        "$ y^{(4)} = \\dot x_{4} = 46/3  y^{(3)} + 5/3   \\ddot y -1/15 \\dot y - 200/3 y -20/3$\r\n",
        "\r\n",
        "$$\\dot x = \r\n",
        "\\begin{pmatrix} \r\n",
        "0 & 1 & 0 & 0\\\\  \r\n",
        "0 & 0 & 1 & 0\\\\\r\n",
        "0 & 0 & 0 & 1\\\\\r\n",
        "-200/3 & - 1/15 & 5/3 & 46/3\\\\\r\n",
        "\\end{pmatrix}\r\n",
        "x + \\begin{pmatrix} \r\n",
        "0 \\\\  \r\n",
        "0\\\\\r\n",
        "0 \\\\\r\n",
        "-20/3\\\\\r\n",
        "\\end{pmatrix}\r\n",
        "$$\r\n"
      ]
    },
    {
      "cell_type": "markdown",
      "metadata": {
        "id": "nP1D6BalpYoB"
      },
      "source": [
        "##Subtask 1.3\r\n",
        "\r\n"
      ]
    },
    {
      "cell_type": "markdown",
      "metadata": {
        "id": "h3CxARaEpiAe"
      },
      "source": [
        "$10 y^{(4)} -7  y^{(3)} + 2   \\ddot y + 0.5 \\dot y + 4y  = 15$\r\n",
        "\r\n",
        "$$\\dot x = \r\n",
        "\\begin{pmatrix} \r\n",
        "0 & 1 & 0 & 0\\\\  \r\n",
        "0 & 0 & 1 & 0\\\\\r\n",
        "0 & 0 & 0 & 1\\\\\r\n",
        "- 0.4 & - 0.05 & - 0.2 & 0.7\\\\\r\n",
        "\\end{pmatrix}\r\n",
        "x + \\begin{pmatrix} \r\n",
        "0 \\\\  \r\n",
        "0\\\\\r\n",
        "0 \\\\\r\n",
        "1.5\\\\\r\n",
        "\\end{pmatrix}\r\n",
        "$$"
      ]
    },
    {
      "cell_type": "code",
      "metadata": {
        "id": "Tjovkj58sQay",
        "colab": {
          "base_uri": "https://localhost:8080/",
          "height": 573
        },
        "outputId": "9b291922-15cd-4d43-a11a-ac25505d7ebe"
      },
      "source": [
        "from scipy.integrate import odeint\r\n",
        "import matplotlib.pyplot as plt\r\n",
        "import numpy as np\r\n",
        "\r\n",
        "def ode_euler (f, x0, t):\r\n",
        "    y = [x0]\r\n",
        "    for n in range (len(t)-1):\r\n",
        "        y.append(y[n] + f(y[n], t[n])*(t[n+1] - t[n]))\r\n",
        "    return y\r\n",
        "\r\n",
        "n = 5\r\n",
        "A = np.array([[0, 1, 0, 0], [0, 0, 1, 0], [0, 0, 0, 1], [-0.4, -0.05, -0.2, 0.7]])\r\n",
        "B = np.array([0, 0, 0, 1.5])\r\n",
        "\r\n",
        "# x_dot from state space\r\n",
        "def StateSpace(x, t):\r\n",
        "    return A.dot(x) + B\r\n",
        "\r\n",
        "time = np.linspace(0, 10, 1000)   \r\n",
        "x0 = np.array([1, 1, 1, 1])  # initial state\r\n",
        "\r\n",
        "solution_1 = odeint(StateSpace, x0, time)\r\n",
        "solution_2 = ode_euler(StateSpace, x0, time)\r\n",
        "\r\n",
        "plot1 = plt.figure(1)\r\n",
        "plt.plot(time, solution_1)\r\n",
        "plt.title('odeint')\r\n",
        "plt.xlabel('time')\r\n",
        "plt.ylabel('x(t)')\r\n",
        "\r\n",
        "plot2 = plt.figure(2)\r\n",
        "plt.plot(time, solution_2)\r\n",
        "plt.title('euler')\r\n",
        "plt.xlabel('time')\r\n",
        "plt.ylabel('x(t)')\r\n",
        "\r\n",
        "plt.show()"
      ],
      "execution_count": null,
      "outputs": [
        {
          "output_type": "display_data",
          "data": {
            "image/png": "[encoded data removed]",
            "text/plain": [
              "<Figure size 432x288 with 1 Axes>"
            ]
          },
          "metadata": {
            "tags": [],
            "needs_background": "light"
          }
        },
        {
          "output_type": "display_data",
          "data": {
            "image/png": "[encoded data removed]",
            "text/plain": [
              "<Figure size 432x288 with 1 Axes>"
            ]
          },
          "metadata": {
            "tags": [],
            "needs_background": "light"
          }
        }
      ]
    },
    {
      "cell_type": "markdown",
      "metadata": {
        "id": "_cfvJsLLjCeE"
      },
      "source": [
        "# Task 2\r\n"
      ]
    },
    {
      "cell_type": "markdown",
      "metadata": {
        "id": "jKCZ6Ms8iug7"
      },
      "source": [
        "## Subtask 2.1\r\n",
        "\r\n"
      ]
    },
    {
      "cell_type": "markdown",
      "metadata": {
        "id": "Pd5JgJ3njQW7"
      },
      "source": [
        "1) $10 y^{(5)} + 10 y^{(4)} -7  y^{(3)} + 2   \\ddot y + 0.5 \\dot y + 4y  = 0$\r\n",
        "\r\n",
        "$ y^{(5)} + y^{(4)} - 7/10  y^{(3)} +2/10   \\ddot y + 5/100 \\dot y + 0.4y  = 0$\r\n",
        "\r\n",
        "$x_n = y^{(n-1)} = \\dot x_{n-1}$\r\n",
        "\r\n",
        "$ y^{(5)} = \\dot x_{5} = -y^{(4)} + 0.7  y^{(3)} -0.2   \\ddot y -0.05 \\dot y - 0.4 y$\r\n",
        "\r\n",
        "$$\\dot x = \r\n",
        "\\begin{pmatrix} \r\n",
        "0 & 1 & 0 & 0 & 0\\\\  \r\n",
        "0 & 0 & 1 & 0 & 0\\\\\r\n",
        "0 & 0 & 0 & 1 & 0\\\\\r\n",
        "0 & 0 & 0 & 0 & 1\\\\\r\n",
        "-0.4 & - 0.05 & -0.2 & 0.7 & -1\\\\\r\n",
        "\\end{pmatrix}\r\n",
        "x \r\n",
        "$$"
      ]
    },
    {
      "cell_type": "code",
      "metadata": {
        "id": "KVdSvbgknCn3",
        "colab": {
          "base_uri": "https://localhost:8080/",
          "height": 279
        },
        "outputId": "c5f66d2f-47a2-44b0-e9a2-db69af0ce0c5"
      },
      "source": [
        "import numpy as np\r\n",
        "from scipy.integrate import odeint\r\n",
        "import matplotlib.pyplot as plt\r\n",
        "\r\n",
        "n = 6\r\n",
        "A = np.array([[0, 1, 0, 0, 0], [0, 0, 1, 0, 0], [0, 0, 0, 1, 0], [0, 0, 0, 0, 1], [-0.4, -0.05, -0.2, 0.7, -1]])\r\n",
        "\r\n",
        "# x_dot from state space\r\n",
        "def StateSpace(x, t):\r\n",
        "    return A.dot(x)\r\n",
        "\r\n",
        "time = np.linspace(0, 10, 1000)   \r\n",
        "x0 = np.array([1, 1, 1, 1, 1])  # initial state\r\n",
        "\r\n",
        "solution = {\"SS\": odeint(StateSpace, x0, time)}\r\n",
        "\r\n",
        "plt.subplot(121)\r\n",
        "plt.plot(time, solution[\"SS\"])\r\n",
        "plt.xlabel('time')\r\n",
        "plt.ylabel('x(t)')\r\n",
        "\r\n",
        "plt.show()"
      ],
      "execution_count": null,
      "outputs": [
        {
          "output_type": "display_data",
          "data": {
            "image/png": "[encoded data removed]",
            "text/plain": [
              "<Figure size 432x288 with 1 Axes>"
            ]
          },
          "metadata": {
            "tags": [],
            "needs_background": "light"
          }
        }
      ]
    },
    {
      "cell_type": "markdown",
      "metadata": {
        "id": "Rjf-56HFkOUf"
      },
      "source": [
        "2) $1 y^{(5)} + 5  y^{(4)} -17 y^{(3)} - 3   \\ddot y + 1.5 \\dot y + 2y  = 0$\r\n",
        "\r\n",
        "$ y^{(5)} + 5y^{(4)} - 17  y^{(3)} -3   \\ddot y +1.5 \\dot y + 2y  = 0$\r\n",
        "\r\n",
        "$x_n = y^{(n-1)} = \\dot x_{n-1}$\r\n",
        "\r\n",
        "$ y^{(5)} = \\dot x_{5} = -5y^{(4)} + 17  y^{(3)} +3  \\ddot y -1.5 \\dot y - 2y$\r\n",
        "\r\n",
        "$$\\dot x = \r\n",
        "\\begin{pmatrix} \r\n",
        "0 & 1 & 0 & 0 & 0\\\\  \r\n",
        "0 & 0 & 1 & 0 & 0\\\\\r\n",
        "0 & 0 & 0 & 1 & 0\\\\\r\n",
        "0 & 0 & 0 & 0 & 1\\\\\r\n",
        "-2 & -1.5 & 3 & 17 & -5\\\\\r\n",
        "\\end{pmatrix}\r\n",
        "x \r\n",
        "$$"
      ]
    },
    {
      "cell_type": "code",
      "metadata": {
        "id": "IdXta41joh0d",
        "colab": {
          "base_uri": "https://localhost:8080/",
          "height": 290
        },
        "outputId": "940bca08-77c4-4506-ca5e-14bb7aaab71d"
      },
      "source": [
        "import numpy as np\r\n",
        "from scipy.integrate import odeint\r\n",
        "import matplotlib.pyplot as plt\r\n",
        "\r\n",
        "n = 6\r\n",
        "A = np.array([[0, 1, 0, 0, 0], [0, 0, 1, 0, 0], [0, 0, 0, 1, 0], [0, 0, 0, 0, 1], [-2, -1.5, -3, 17, -5]])\r\n",
        "\r\n",
        "# x_dot from state space\r\n",
        "def StateSpace(x, t):\r\n",
        "    return A.dot(x)\r\n",
        "\r\n",
        "time = np.linspace(0, 10, 1000) \r\n",
        "x0 = np.array([1, 1, 1, 1, 1])  # initial state\r\n",
        "\r\n",
        "solution = {\"SS\": odeint(StateSpace, x0, time)}\r\n",
        "\r\n",
        "plt.subplot(121)\r\n",
        "plt.plot(time, solution[\"SS\"])\r\n",
        "plt.xlabel('time')\r\n",
        "plt.ylabel('x(t)')\r\n",
        "\r\n",
        "plt.show()"
      ],
      "execution_count": null,
      "outputs": [
        {
          "output_type": "display_data",
          "data": {
            "image/png": "[encoded data removed]",
            "text/plain": [
              "<Figure size 432x288 with 1 Axes>"
            ]
          },
          "metadata": {
            "tags": [],
            "needs_background": "light"
          }
        }
      ]
    },
    {
      "cell_type": "markdown",
      "metadata": {
        "id": "kAqstGX2kPis"
      },
      "source": [
        "3) $6 y^{(5)} - 3 y^{(4)} + 22 y^{(3)} + 4 \\ddot y + 1.5 \\dot y + 1y  = 0$\r\n",
        "\r\n",
        "$ y^{(5)} - 0.5y^{(4)} + 11/3  y^{(3)} + 2/3   \\ddot y +1.5/6 \\dot y + 1/6y  = 0$\r\n",
        "\r\n",
        "$x_n = y^{(n-1)} = \\dot x_{n-1}$\r\n",
        "\r\n",
        "$ y^{(5)} = \\dot x_{5} = 0.5y^{(4)} -11/3  y^{(3)} -2/3  \\ddot y - 1/4 \\dot y - 1/6y$\r\n",
        "\r\n",
        "$$\\dot x = \r\n",
        "\\begin{pmatrix} \r\n",
        "0 & 1 & 0 & 0 & 0\\\\  \r\n",
        "0 & 0 & 1 & 0 & 0\\\\\r\n",
        "0 & 0 & 0 & 1 & 0\\\\\r\n",
        "0 & 0 & 0 & 0 & 1\\\\\r\n",
        "-1/6 & -1/4 & -2/3 & -11/3 & 0.5\\\\\r\n",
        "\\end{pmatrix}\r\n",
        "x \r\n",
        "$$"
      ]
    },
    {
      "cell_type": "code",
      "metadata": {
        "id": "iCgo3y2_vdmx",
        "colab": {
          "base_uri": "https://localhost:8080/",
          "height": 279
        },
        "outputId": "d7f71985-1ee4-48ad-dfb9-afbcbc73b2df"
      },
      "source": [
        "import numpy as np\r\n",
        "from scipy.integrate import odeint\r\n",
        "\r\n",
        "n = 6\r\n",
        "A = np.array([[0, 1, 0, 0, 0], [0, 0, 1, 0, 0], [0, 0, 0, 1, 0], [0, 0, 0, 0, 1], [-1/6, -1/4, -2/3, -11/3, 0.5]])\r\n",
        "\r\n",
        "# x_dot from state space\r\n",
        "def StateSpace(x, t):\r\n",
        "    return A.dot(x)\r\n",
        "\r\n",
        "time = np.linspace(0, 10, 1000)   \r\n",
        "x0 = np.array([1, 1, 1, 1, 1])  # initial state\r\n",
        "\r\n",
        "solution = {\"SS\": odeint(StateSpace, x0, time)}\r\n",
        "\r\n",
        "import matplotlib.pyplot as plt\r\n",
        "\r\n",
        "plt.subplot(121)\r\n",
        "plt.plot(time, solution[\"SS\"])\r\n",
        "plt.xlabel('time')\r\n",
        "plt.ylabel('x(t)')\r\n",
        "\r\n",
        "plt.show()"
      ],
      "execution_count": null,
      "outputs": [
        {
          "output_type": "display_data",
          "data": {
            "image/png": "[encoded data removed]",
            "text/plain": [
              "<Figure size 432x288 with 1 Axes>"
            ]
          },
          "metadata": {
            "tags": [],
            "needs_background": "light"
          }
        }
      ]
    },
    {
      "cell_type": "markdown",
      "metadata": {
        "id": "s5oV5TFpkQBa"
      },
      "source": [
        "4) $22 y^{(5)} + 5  y^{(4)} -17 y^{(3)} - 1.5 \\ddot y + 100 \\dot y + 1.1y= 0$\r\n",
        "\r\n",
        "$ y^{(5)} + 5/22 y^{(4)} -17/22  y^{(3)} -3/44   \\ddot y + 50/11 \\dot y + 11/220y  = 0$\r\n",
        "\r\n",
        "$x_n = y^{(n-1)} = \\dot x_{n-1}$\r\n",
        "\r\n",
        "$ y^{(5)} = \\dot x_{5} = -5/22y^{(4)} +17/22  y^{(3)} +3/44  \\ddot y -50/11 \\dot y - 1/20y$\r\n",
        "\r\n",
        "$$\\dot x = \r\n",
        "\\begin{pmatrix} \r\n",
        "0 & 1 & 0 & 0 & 0\\\\  \r\n",
        "0 & 0 & 1 & 0 & 0\\\\\r\n",
        "0 & 0 & 0 & 1 & 0\\\\\r\n",
        "0 & 0 & 0 & 0 & 1\\\\\r\n",
        "-1/20 & -50/11 & 3/44 & 17/22 & -5/22\\\\\r\n",
        "\\end{pmatrix}\r\n",
        "x \r\n",
        "$$"
      ]
    },
    {
      "cell_type": "code",
      "metadata": {
        "id": "VoHuBcrjvew-",
        "colab": {
          "base_uri": "https://localhost:8080/",
          "height": 279
        },
        "outputId": "27983f3d-ba25-41db-d230-7e003337fb0d"
      },
      "source": [
        "import numpy as np\r\n",
        "from scipy.integrate import odeint\r\n",
        "\r\n",
        "n = 6\r\n",
        "A = np.array([[0, 1, 0, 0, 0], [0, 0, 1, 0, 0], [0, 0, 0, 1, 0], [0, 0, 0, 0, 1], [-1/20, -50/11, 3/44 , 17/22, -5/22]])\r\n",
        "\r\n",
        "# x_dot from state space\r\n",
        "def StateSpace(x, t):\r\n",
        "    return A.dot(x)\r\n",
        "\r\n",
        "time = np.linspace(0, 5, 1000)   \r\n",
        "x0 = np.array([1, 1, 1, 1, 1])  # initial state\r\n",
        "\r\n",
        "solution = {\"SS\": odeint(StateSpace, x0, time)}\r\n",
        "\r\n",
        "import matplotlib.pyplot as plt\r\n",
        "\r\n",
        "plt.subplot(121)\r\n",
        "plt.plot(time, solution[\"SS\"])\r\n",
        "plt.xlabel('time')\r\n",
        "plt.ylabel('x(t)')\r\n",
        "\r\n",
        "plt.show()"
      ],
      "execution_count": null,
      "outputs": [
        {
          "output_type": "display_data",
          "data": {
            "image/png": "[encoded data removed]",
            "text/plain": [
              "<Figure size 432x288 with 1 Axes>"
            ]
          },
          "metadata": {
            "tags": [],
            "needs_background": "light"
          }
        }
      ]
    },
    {
      "cell_type": "markdown",
      "metadata": {
        "id": "RY4OfaChkNiG"
      },
      "source": [
        "5) $-10 y^{(5)} + 1.5y^{(4)} -23 y^{(3)} - 2.5 \\ddot y + 0.1 \\dot y + 100y= 0$\r\n",
        "\r\n",
        "$ y^{(5)} - 15/100y^{(4)} + 2.3  y^{(3)} + 0.25  \\ddot y -0.01 \\dot y -10y  = 0$\r\n",
        "\r\n",
        "$x_n = y^{(n-1)} = \\dot x_{n-1}$\r\n",
        "\r\n",
        "$ y^{(5)} = \\dot x_{5} = 3/20y^{(4)} -2.3  y^{(3)} - 0.25  \\ddot y + 0.01 \\dot y +10y$\r\n",
        "\r\n",
        "$$\\dot x = \r\n",
        "\\begin{pmatrix} \r\n",
        "0 & 1 & 0 & 0 & 0\\\\  \r\n",
        "0 & 0 & 1 & 0 & 0\\\\\r\n",
        "0 & 0 & 0 & 1 & 0\\\\\r\n",
        "0 & 0 & 0 & 0 & 1\\\\\r\n",
        "10 & 0.01 & -0.25 & -2.3 & 3/20\\\\\r\n",
        "\\end{pmatrix}\r\n",
        "x \r\n",
        "$$"
      ]
    },
    {
      "cell_type": "code",
      "metadata": {
        "id": "p4SIe_Dhvfqn",
        "colab": {
          "base_uri": "https://localhost:8080/",
          "height": 290
        },
        "outputId": "09fb7f71-3619-4e18-db34-9f07b00797fe"
      },
      "source": [
        "import numpy as np\r\n",
        "from scipy.integrate import odeint\r\n",
        "\r\n",
        "n = 6\r\n",
        "A = np.array([[0, 1, 0, 0, 0], [0, 0, 1, 0, 0], [0, 0, 0, 1, 0], [0, 0, 0, 0, 1], [10, 0.01, -0.25, -2.3, 3/20]])\r\n",
        "\r\n",
        "# x_dot from state space\r\n",
        "def StateSpace(x, t):\r\n",
        "    return A.dot(x)\r\n",
        "\r\n",
        "time = np.linspace(0, 10, 1000)   \r\n",
        "x0 = np.array([1, 1, 1, 1, 1])  # initial state\r\n",
        "\r\n",
        "solution = {\"SS\": odeint(StateSpace, x0, time)}\r\n",
        "\r\n",
        "import matplotlib.pyplot as plt\r\n",
        "\r\n",
        "plt.subplot(121)\r\n",
        "plt.plot(time, solution[\"SS\"])\r\n",
        "plt.xlabel('time')\r\n",
        "plt.ylabel('x(t)')\r\n",
        "\r\n",
        "plt.show()"
      ],
      "execution_count": null,
      "outputs": [
        {
          "output_type": "display_data",
          "data": {
            "image/png": "[encoded data removed]",
            "text/plain": [
              "<Figure size 432x288 with 1 Axes>"
            ]
          },
          "metadata": {
            "tags": [],
            "needs_background": "light"
          }
        }
      ]
    },
    {
      "cell_type": "markdown",
      "metadata": {
        "id": "81SD9lTykkIT"
      },
      "source": [
        "\r\n",
        "\r\n",
        "## Subtask 2.3\r\n",
        "\r\n"
      ]
    },
    {
      "cell_type": "markdown",
      "metadata": {
        "id": "beldJfA0jVeP"
      },
      "source": [
        "1) $10 y^{(5)} + 10 y^{(4)} -7  y^{(3)} + 2   \\ddot y + 0.5 \\dot y + 4y  = \\sin(t)$\r\n",
        "\r\n",
        "$ y^{(5)} + y^{(4)} -0.7  y^{(3)} + 0.2  \\ddot y +0.05 \\dot y +0.4y  = 0.1\\sin(t)$\r\n",
        "\r\n",
        "$x_n = y^{(n-1)} = \\dot x_{n-1}$\r\n",
        "\r\n",
        "$ y^{(5)} = \\dot x_{5} = -y^{(4)} + 0.7 y^{(3)} - 0.2  \\ddot y - 0.05 \\dot y - 0.4 y + 0.1\\sin(t)$ \r\n",
        "\r\n",
        "$$\\dot x = \r\n",
        "\\begin{pmatrix} \r\n",
        "0 & 1 & 0 & 0 & 0\\\\  \r\n",
        "0 & 0 & 1 & 0 & 0\\\\\r\n",
        "0 & 0 & 0 & 1 & 0\\\\\r\n",
        "0 & 0 & 0 & 0 & 1\\\\\r\n",
        "-0.4 & -0.05 & -0.2 & 0.7 & -1\\\\\r\n",
        "\\end{pmatrix}\r\n",
        "x + \\begin{pmatrix} \r\n",
        "0 \\\\  \r\n",
        "0\\\\\r\n",
        "0 \\\\\r\n",
        "0 \\\\\r\n",
        "0.1\\sin(t)\\\\\r\n",
        "\\end{pmatrix}\r\n",
        "$$\r\n"
      ]
    },
    {
      "cell_type": "code",
      "metadata": {
        "id": "b6l7JXI22R8W",
        "colab": {
          "base_uri": "https://localhost:8080/",
          "height": 279
        },
        "outputId": "8da7be45-161d-4779-cf9f-1b346f177140"
      },
      "source": [
        "import numpy as np\r\n",
        "from scipy.integrate import odeint\r\n",
        "\r\n",
        "n = 6\r\n",
        "A = np.array([[0, 1, 0, 0, 0], [0, 0, 1, 0, 0], [0, 0, 0, 1, 0], [0, 0, 0, 0, 1], [-0.4, -0.05, -0.2, 0.7, -1]])\r\n",
        "B = np.array([0, 0, 0, 0, 0.1])\r\n",
        "\r\n",
        "# x_dot from state space\r\n",
        "def StateSpace(x, t):\r\n",
        "    return A.dot(x) + B*np.sin(t)\r\n",
        "\r\n",
        "time = np.linspace(0, 10, 1000)   \r\n",
        "x0 = np.array([1, 1, 1, 1, 1])  # initial state\r\n",
        "\r\n",
        "solution = {\"SS\": odeint(StateSpace, x0, time)}\r\n",
        "\r\n",
        "import matplotlib.pyplot as plt\r\n",
        "\r\n",
        "plt.subplot(121)\r\n",
        "plt.plot(time, solution[\"SS\"])\r\n",
        "plt.xlabel('time')\r\n",
        "plt.ylabel('x(t)')\r\n",
        "\r\n",
        "plt.show()"
      ],
      "execution_count": null,
      "outputs": [
        {
          "output_type": "display_data",
          "data": {
            "image/png": "[encoded data removed]",
            "text/plain": [
              "<Figure size 432x288 with 1 Axes>"
            ]
          },
          "metadata": {
            "tags": [],
            "needs_background": "light"
          }
        }
      ]
    },
    {
      "cell_type": "markdown",
      "metadata": {
        "id": "BhzyD5Fu0oxz"
      },
      "source": [
        "2) $1 y^{(5)} + 5  y^{(4)} -17 y^{(3)} - 3   \\ddot y + 1.5 \\dot y + 2y  = \\sin(t)$\r\n",
        "\r\n",
        "$ y^{(5)} + 5y^{(4)} -17  y^{(3)} -3  \\ddot y +1.5 \\dot y +2y  = \\sin(t)$\r\n",
        "\r\n",
        "$x_n = y^{(n-1)} = \\dot x_{n-1}$\r\n",
        "\r\n",
        "$ y^{(5)} = \\dot x_{5} = -5y^{(4)} + 17 y^{(3)} +3  \\ddot y -1.5 \\dot y -2 y + \\sin(t)$ \r\n",
        "\r\n",
        "$$\\dot x = \r\n",
        "\\begin{pmatrix} \r\n",
        "0 & 1 & 0 & 0 & 0\\\\  \r\n",
        "0 & 0 & 1 & 0 & 0\\\\\r\n",
        "0 & 0 & 0 & 1 & 0\\\\\r\n",
        "0 & 0 & 0 & 0 & 1\\\\\r\n",
        "-2 & -1.5 & 3 & 17 & -5\\\\\r\n",
        "\\end{pmatrix}\r\n",
        "x + \\begin{pmatrix} \r\n",
        "0 \\\\  \r\n",
        "0\\\\\r\n",
        "0 \\\\\r\n",
        "0 \\\\\r\n",
        "\\sin(t)\\\\\r\n",
        "\\end{pmatrix}\r\n",
        "$$\r\n"
      ]
    },
    {
      "cell_type": "code",
      "metadata": {
        "id": "kdC4aTID2S9u",
        "colab": {
          "base_uri": "https://localhost:8080/",
          "height": 290
        },
        "outputId": "cf8d97ab-12da-4519-a2c3-86a5a2fa58d5"
      },
      "source": [
        "import numpy as np\r\n",
        "from scipy.integrate import odeint\r\n",
        "\r\n",
        "n = 6\r\n",
        "A = np.array([[0, 1, 0, 0, 0], [0, 0, 1, 0, 0], [0, 0, 0, 1, 0], [0, 0, 0, 0, 1], [-2, -1.5, 3, 17, -5]])\r\n",
        "B = np.array([0, 0, 0, 0, 1])\r\n",
        "\r\n",
        "# x_dot from state space\r\n",
        "def StateSpace(x, t):\r\n",
        "    return A.dot(x) + B*np.sin(t)\r\n",
        "\r\n",
        "time = np.linspace(0, 10, 1000)   \r\n",
        "x0 = np.array([1, 1, 1, 1, 1])  # initial state\r\n",
        "\r\n",
        "solution = {\"SS\": odeint(StateSpace, x0, time)}\r\n",
        "\r\n",
        "import matplotlib.pyplot as plt\r\n",
        "\r\n",
        "plt.subplot(121)\r\n",
        "plt.plot(time, solution[\"SS\"])\r\n",
        "plt.xlabel('time')\r\n",
        "plt.ylabel('x(t)')\r\n",
        "\r\n",
        "plt.show()"
      ],
      "execution_count": null,
      "outputs": [
        {
          "output_type": "display_data",
          "data": {
            "image/png": "[encoded data removed]",
            "text/plain": [
              "<Figure size 432x288 with 1 Axes>"
            ]
          },
          "metadata": {
            "tags": [],
            "needs_background": "light"
          }
        }
      ]
    },
    {
      "cell_type": "markdown",
      "metadata": {
        "id": "vBnLm_nb0omu"
      },
      "source": [
        "3) $6 y^{(5)} -3 y^{(4)} +  22 y^{(3)} + 4   \\ddot y + 1.5 \\dot y + 1y  = \\sin(t)$\r\n",
        "\r\n",
        "$ y^{(5)} -0.5y^{(4)} +11/3  y^{(3)} +2/3  \\ddot y +1/4 \\dot y + 1/6y  = 1/6\\sin(t)$\r\n",
        "\r\n",
        "$x_n = y^{(n-1)} = \\dot x_{n-1}$\r\n",
        "\r\n",
        "$ y^{(5)} = \\dot x_{5} = 0.5y^{(4)} -11/3 y^{(3)} -2/3  \\ddot y -0.25 \\dot y -1/6 y + 1/6\\sin(t)$ \r\n",
        "\r\n",
        "$$\\dot x = \r\n",
        "\\begin{pmatrix} \r\n",
        "0 & 1 & 0 & 0 & 0\\\\  \r\n",
        "0 & 0 & 1 & 0 & 0\\\\\r\n",
        "0 & 0 & 0 & 1 & 0\\\\\r\n",
        "0 & 0 & 0 & 0 & 1\\\\\r\n",
        "-1/6 & -0.25 & -2/3 & -11/3 & 0.5\\\\\r\n",
        "\\end{pmatrix}\r\n",
        "x + \\begin{pmatrix} \r\n",
        "0 \\\\  \r\n",
        "0\\\\\r\n",
        "0 \\\\\r\n",
        "0 \\\\\r\n",
        "1/6\\sin(t)\\\\\r\n",
        "\\end{pmatrix}\r\n",
        "$$"
      ]
    },
    {
      "cell_type": "code",
      "metadata": {
        "id": "Na647yLm2T1H",
        "colab": {
          "base_uri": "https://localhost:8080/",
          "height": 279
        },
        "outputId": "1dae34e2-ff47-448c-a697-7c6d12e02a01"
      },
      "source": [
        "import numpy as np\r\n",
        "from scipy.integrate import odeint\r\n",
        "\r\n",
        "n = 6\r\n",
        "A = np.array([[0, 1, 0, 0, 0], [0, 0, 1, 0, 0], [0, 0, 0, 1, 0], [0, 0, 0, 0, 1], [-1/6, -0.25, -2/3, -11/3, 0.5]])\r\n",
        "B = np.array([0, 0, 0, 0, 1/6])\r\n",
        "\r\n",
        "# x_dot from state space\r\n",
        "def StateSpace(x, t):\r\n",
        "    return A.dot(x) + B*np.sin(t)\r\n",
        "\r\n",
        "time = np.linspace(0, 10, 1000)   \r\n",
        "x0 = np.array([1, 1, 1, 1, 1])  # initial state\r\n",
        "\r\n",
        "solution = {\"SS\": odeint(StateSpace, x0, time)}\r\n",
        "\r\n",
        "import matplotlib.pyplot as plt\r\n",
        "\r\n",
        "plt.subplot(121)\r\n",
        "plt.plot(time, solution[\"SS\"])\r\n",
        "plt.xlabel('time')\r\n",
        "plt.ylabel('x(t)')\r\n",
        "\r\n",
        "plt.show()"
      ],
      "execution_count": null,
      "outputs": [
        {
          "output_type": "display_data",
          "data": {
            "image/png": "[encoded data removed]",
            "text/plain": [
              "<Figure size 432x288 with 1 Axes>"
            ]
          },
          "metadata": {
            "tags": [],
            "needs_background": "light"
          }
        }
      ]
    },
    {
      "cell_type": "markdown",
      "metadata": {
        "id": "CzUhcnWV0oZR"
      },
      "source": [
        "4) $22 y^{(5)} + 5  y^{(4)} -17 y^{(3)} - 1.5 \\ddot y + 100 \\dot y + 1.1y= \\sin(t)$\r\n",
        "\r\n",
        "$ y^{(5)} +5/22 y^{(4)} -17/22  y^{(3)} -3/44  \\ddot y +50/11 \\dot y + 11/220y  = 1/22\\sin(t)$\r\n",
        "\r\n",
        "$x_n = y^{(n-1)} = \\dot x_{n-1}$\r\n",
        "\r\n",
        "$ y^{(5)} = \\dot x_{5} = -5/22y^{(4)} +17/22 y^{(3)} +3/44  \\ddot y -50/11 \\dot y -0.05 y + 1/22\\sin(t)$ \r\n",
        "\r\n",
        "$$\\dot x = \r\n",
        "\\begin{pmatrix} \r\n",
        "0 & 1 & 0 & 0 & 0\\\\  \r\n",
        "0 & 0 & 1 & 0 & 0\\\\\r\n",
        "0 & 0 & 0 & 1 & 0\\\\\r\n",
        "0 & 0 & 0 & 0 & 1\\\\\r\n",
        "-0.05 & -50/11 & 3/44 & 17/22 & -5/22\\\\\r\n",
        "\\end{pmatrix}\r\n",
        "x + \\begin{pmatrix} \r\n",
        "0 \\\\  \r\n",
        "0\\\\\r\n",
        "0 \\\\\r\n",
        "0 \\\\\r\n",
        "1/22\\sin(t)\\\\\r\n",
        "\\end{pmatrix}\r\n",
        "$$"
      ]
    },
    {
      "cell_type": "code",
      "metadata": {
        "id": "YvzjXYJB2Uha",
        "colab": {
          "base_uri": "https://localhost:8080/",
          "height": 279
        },
        "outputId": "9954b2c6-fdba-4087-9399-04e4ac746f7a"
      },
      "source": [
        "import numpy as np\r\n",
        "from scipy.integrate import odeint\r\n",
        "\r\n",
        "n = 6\r\n",
        "A = np.array([[0, 1, 0, 0, 0], [0, 0, 1, 0, 0], [0, 0, 0, 1, 0], [0, 0, 0, 0, 1], [-0.05, -50/11, 3/44, 17/22, -5/22]])\r\n",
        "B = np.array([0, 0, 0, 0, 1/22])\r\n",
        "\r\n",
        "# x_dot from state space\r\n",
        "def StateSpace(x, t):\r\n",
        "    return A.dot(x) + B*np.sin(t)\r\n",
        "\r\n",
        "time = np.linspace(0, 10, 1000)   \r\n",
        "x0 = np.array([1, 1, 1, 1, 1])  # initial state\r\n",
        "\r\n",
        "solution = {\"SS\": odeint(StateSpace, x0, time)}\r\n",
        "\r\n",
        "import matplotlib.pyplot as plt\r\n",
        "\r\n",
        "plt.subplot(121)\r\n",
        "plt.plot(time, solution[\"SS\"])\r\n",
        "plt.xlabel('time')\r\n",
        "plt.ylabel('x(t)')\r\n",
        "\r\n",
        "plt.show()"
      ],
      "execution_count": null,
      "outputs": [
        {
          "output_type": "display_data",
          "data": {
            "image/png": "[encoded data removed]",
            "text/plain": [
              "<Figure size 432x288 with 1 Axes>"
            ]
          },
          "metadata": {
            "tags": [],
            "needs_background": "light"
          }
        }
      ]
    },
    {
      "cell_type": "markdown",
      "metadata": {
        "id": "cndwR4Z20oLd"
      },
      "source": [
        "5) $-10 y^{(5)} + 1.5y^{(4)} -23 y^{(3)} - 2.5 \\ddot y + 0.1 \\dot y + 100y= \\sin(t)$\r\n",
        "\r\n",
        "$ y^{(5)} -0.15 y^{(4)} +2.3  y^{(3)} +0.25  \\ddot y -0.01 \\dot y -10y  = -0.1\\sin(t)$\r\n",
        "\r\n",
        "$x_n = y^{(n-1)} = \\dot x_{n-1}$\r\n",
        "\r\n",
        "$ y^{(5)} = \\dot x_{5} = 0.15y^{(4)} -2/3 y^{(3)} -0.25  \\ddot y +0.01 \\dot y +10 y -0.1\\sin(t)$ \r\n",
        "\r\n",
        "$$\\dot x = \r\n",
        "\\begin{pmatrix} \r\n",
        "0 & 1 & 0 & 0 & 0\\\\  \r\n",
        "0 & 0 & 1 & 0 & 0\\\\\r\n",
        "0 & 0 & 0 & 1 & 0\\\\\r\n",
        "0 & 0 & 0 & 0 & 1\\\\\r\n",
        "10 & 0.01 & -0.25 & -2/3 & 0.15 \\\\\r\n",
        "\\end{pmatrix}\r\n",
        "x + \\begin{pmatrix} \r\n",
        "0 \\\\  \r\n",
        "0\\\\\r\n",
        "0 \\\\\r\n",
        "0 \\\\\r\n",
        "-0.1\\sin(t)\\\\\r\n",
        "\\end{pmatrix}\r\n",
        "$$\r\n"
      ]
    },
    {
      "cell_type": "code",
      "metadata": {
        "id": "SI55Sz2I2VTX",
        "colab": {
          "base_uri": "https://localhost:8080/",
          "height": 290
        },
        "outputId": "2fa43452-52b0-4f36-9d83-5e5ea925cfda"
      },
      "source": [
        "import numpy as np\r\n",
        "from scipy.integrate import odeint\r\n",
        "\r\n",
        "n = 6\r\n",
        "A = np.array([[0, 1, 0, 0, 0], [0, 0, 1, 0, 0], [0, 0, 0, 1, 0], [0, 0, 0, 0, 1], [10, 0.01, -0.25, -2/3, 0.15]])\r\n",
        "B = np.array([0, 0, 0, 0, -0.1])\r\n",
        "\r\n",
        "# x_dot from state space\r\n",
        "def StateSpace(x, t):\r\n",
        "    return A.dot(x) + B*np.sin(t)\r\n",
        "\r\n",
        "time = np.linspace(0, 10, 1000)   \r\n",
        "x0 = np.array([1, 1, 1, 1, 1])  # initial state\r\n",
        "\r\n",
        "solution = {\"SS\": odeint(StateSpace, x0, time)}\r\n",
        "\r\n",
        "import matplotlib.pyplot as plt\r\n",
        "\r\n",
        "plt.subplot(121)\r\n",
        "plt.plot(time, solution[\"SS\"])\r\n",
        "plt.xlabel('time')\r\n",
        "plt.ylabel('x(t)')\r\n",
        "\r\n",
        "plt.show()"
      ],
      "execution_count": null,
      "outputs": [
        {
          "output_type": "display_data",
          "data": {
            "image/png": "[encoded data removed]",
            "text/plain": [
              "<Figure size 432x288 with 1 Axes>"
            ]
          },
          "metadata": {
            "tags": [],
            "needs_background": "light"
          }
        }
      ]
    },
    {
      "cell_type": "markdown",
      "metadata": {
        "id": "4BA-J-8WA-4-"
      },
      "source": [
        "## Subtask 2.4\r\n",
        "\r\n",
        "<p><img alt=\"mbk\" height=\"250px\" src=\"https://drive.google.com/uc?id=1gkp6g7trNmVjWNFTbmrE8m4hU50Oat5W\" align=\"center\" hspace=\"350px\" vspace=\"0px\"></p>\r\n",
        "\r\n",
        "The differential equation that describes a Mass-spring-damper system:\r\n",
        "\r\n",
        "$ m \\ddot{y} + c \\dot{y} + k y = f$\r\n",
        "\r\n",
        "\\\\\r\n",
        "\r\n",
        "y(t) : position of mass [m] at time t [s]\r\n",
        "\r\n",
        "m : mass [kg]\r\n",
        "\r\n",
        "c  : damping coefficient [N*s/m]\r\n",
        "\r\n",
        "k  : spring constant [N/m]\r\n",
        "\r\n",
        "f(t) : external force [N]\r\n",
        "\r\n",
        "\\\\\r\n",
        "\r\n",
        "x1 : position of the mass [m]\r\n",
        "\r\n",
        "x2 : derivative of x1 == velocity of the mass [m/s]\r\n",
        "\r\n",
        "\r\n",
        "$ y^{(n)}=\\dot{x_n}$\r\n",
        "\r\n",
        "\\\\\r\n",
        "\r\n",
        "Substituting into the 2nd order ode:\r\n",
        "$ \\dot{x_2}(t)=\\ddot{y}(t), \\ \\dot{x_1}(t)=\\dot{y}(t),  \\ {x_1}(t)={y}(t)$\r\n",
        "\r\n",
        "$ m \\dot{x_2} + c {x_2} + k x_1 = u$\r\n",
        "\r\n",
        "\r\n",
        "$ \\dot{x_2} = – (c/m) {x_2} – (k/m) x_1 + (1/m) u$\r\n",
        "\r\n",
        "$$\\dot x = \r\n",
        "\\begin{pmatrix} \r\n",
        "0 & 1\\\\  \r\n",
        "-k/m & -c/m\\\\\r\n",
        "\\end{pmatrix}\r\n",
        "x + \\begin{pmatrix} \r\n",
        "0 \\\\  \r\n",
        "1/m\\\\ \r\n",
        "\\end{pmatrix} \r\n",
        "u\r\n",
        "$$\r\n"
      ]
    },
    {
      "cell_type": "code",
      "metadata": {
        "id": "dCPwYCAZ-2wM"
      },
      "source": [
        "import numpy as np\r\n",
        "from scipy.integrate import odeint\r\n",
        "\r\n",
        "n = 3\r\n",
        "A = np.array([[0, 1], [-1, -1]])\r\n",
        "\r\n",
        "# x_dot from state space\r\n",
        "def StateSpace(x, t):\r\n",
        "    return A.dot(x)\r\n",
        "\r\n",
        "time = np.linspace(0, 10, 1000)   \r\n",
        "x0 = np.array([1, 1, 1, 1, 1])  # initial state\r\n",
        "\r\n",
        "solution = {\"SS\": odeint(StateSpace, x0, time)}\r\n",
        "\r\n",
        "import matplotlib.pyplot as plt\r\n",
        "\r\n",
        "plt.subplot(121)\r\n",
        "plt.plot(time, solution[\"SS\"])\r\n",
        "plt.xlabel('time')\r\n",
        "plt.ylabel('x(t)')\r\n",
        "\r\n",
        "plt.show()"
      ],
      "execution_count": null,
      "outputs": []
    },
    {
      "cell_type": "markdown",
      "metadata": {
        "id": "J9VUkYaR0QLu"
      },
      "source": [
        "# Task 3\r\n",
        "\r\n"
      ]
    },
    {
      "cell_type": "markdown",
      "metadata": {
        "id": "VSAzA2S-i35T"
      },
      "source": [
        "## Subtask 3.1.  Convert to transfer functions\r\n",
        "\r\n",
        "\r\n"
      ]
    },
    {
      "cell_type": "markdown",
      "metadata": {
        "id": "vgMnyJ2C5wIs"
      },
      "source": [
        "1)\r\n",
        "$\r\n",
        "\\begin{cases}\r\n",
        "\\ddot x + 0.5 \\dot x + 4x = u \\\\\r\n",
        "y = 1.5 \\dot x + 6 x\r\n",
        "\\end{cases}\r\n",
        "$\r\n",
        "\r\n",
        "$\r\n",
        "\\begin{cases}\r\n",
        "s^2 x + 0.5sx + 4x = u \\\\\r\n",
        "y = 1.5sx + 6 x\r\n",
        "\\end{cases}\r\n",
        "$\r\n",
        "\r\n",
        "$\r\n",
        "\\begin{cases}\r\n",
        "x = \\frac u {s^2  + 0.5s + 4} \\\\\r\n",
        "y = (1.5s + 6)x\r\n",
        "\\end{cases}\r\n",
        "$\r\n",
        "\r\n",
        "$ y = \\frac {(1.5s + 6)u} {s^2  + 0.5s + 4}  $\r\n",
        "\r\n",
        "$y(s) = g(s)u(s) $\r\n",
        "\r\n",
        "$ g(s) = \\frac {1.5s + 6} {s^2  + 0.5s + 4}  $"
      ]
    },
    {
      "cell_type": "markdown",
      "metadata": {
        "id": "L2DSJ4rFTLde"
      },
      "source": [
        "2) \r\n",
        "$\r\n",
        "\\begin{cases}\r\n",
        "10 \\ddot x + 1.5 \\dot x + 8x = 0.5u \\\\\r\n",
        "y = 15 \\dot x + 16 x\r\n",
        "\\end{cases}\r\n",
        "$\r\n",
        "\r\n",
        "$\r\n",
        "\\begin{cases}\r\n",
        "10s^2 x + 1.5sx + 8x = 0.5u \\\\\r\n",
        "y = 15sx + 16 x\r\n",
        "\\end{cases}\r\n",
        "$\r\n",
        "\r\n",
        "$\r\n",
        "\\begin{cases}\r\n",
        "x = \\frac u {20s^2  + 3s + 16} \\\\\r\n",
        "y = (15s + 16)x\r\n",
        "\\end{cases}\r\n",
        "$\r\n",
        "\r\n",
        "$ y = \\frac {(15s + 16)u} {20s^2  + 3s + 16}  $\r\n",
        "\r\n",
        "$y(s) = g(s)u(s) $\r\n",
        "\r\n",
        "$ g(s) = \\frac {(15s + 16)} {20s^2  + 3s + 16}  $"
      ]
    },
    {
      "cell_type": "markdown",
      "metadata": {
        "id": "8aM95lqsTMiN"
      },
      "source": [
        "3)\r\n",
        "$\r\n",
        "\\begin{cases}\r\n",
        "\\ddot x + 2 \\dot x - 5x = u \\\\\r\n",
        "y = 2.5 \\dot x - 7 x\r\n",
        "\\end{cases}\r\n",
        "$\r\n",
        "\r\n",
        "$\r\n",
        "\\begin{cases}\r\n",
        "s^2 x + 2sx - 5x = u \\\\\r\n",
        "y = 2.5sx - 7x\r\n",
        "\\end{cases}\r\n",
        "$\r\n",
        "\r\n",
        "$\r\n",
        "\\begin{cases}\r\n",
        "x = \\frac u {s^2  + 2s -5} \\\\\r\n",
        "y = (2.5s -7)x\r\n",
        "\\end{cases}\r\n",
        "$\r\n",
        "\r\n",
        "$ y = \\frac {(2.5s -7)u} {s^2  + 2s -5}  $\r\n",
        "\r\n",
        "$y(s) = g(s)u(s) $\r\n",
        "\r\n",
        "$ g(s) = \\frac {2.5s -7} {s^2  + 2s -5}  $"
      ]
    },
    {
      "cell_type": "markdown",
      "metadata": {
        "id": "btOdkIERTNVQ"
      },
      "source": [
        "4) \r\n",
        "$\r\n",
        "\\begin{cases}\r\n",
        "\\ddot x + 22 \\dot x + 10x = 10u \\\\\r\n",
        "y = 10.5 \\dot x + 11 x\r\n",
        "\\end{cases}\r\n",
        "$\r\n",
        "\r\n",
        "$\r\n",
        "\\begin{cases}\r\n",
        "s^2 x + 22sx +10x = 10u \\\\\r\n",
        "y = 10.5sx +11 x\r\n",
        "\\end{cases}\r\n",
        "$\r\n",
        "\r\n",
        "$\r\n",
        "\\begin{cases}\r\n",
        "x = \\frac {10u} {s^2  + 22s +10} \\\\\r\n",
        "y = (10.5s +11 )x\r\n",
        "\\end{cases}\r\n",
        "$\r\n",
        "\r\n",
        "$ y = \\frac {(105s + 110)u} {s^2  + 22s +10} $\r\n",
        "\r\n",
        "$y(s) = g(s)u(s) $\r\n",
        "\r\n",
        "$ g(s) = \\frac {105s + 110} {s^2  + 22s +10}  $\r\n"
      ]
    },
    {
      "cell_type": "markdown",
      "metadata": {
        "id": "AeknJOg8YaXN"
      },
      "source": [
        "# Stability tasks\r\n",
        "## Task 1.1, 1.2, 1.3\r\n",
        "\r\n"
      ]
    },
    {
      "cell_type": "markdown",
      "metadata": {
        "id": "pSenySg55_ru"
      },
      "source": [
        "1) $$\\dot x = \r\n",
        "\\begin{pmatrix} 1 & 0 \\\\ -5 & -10\r\n",
        "\\end{pmatrix}\r\n",
        "x\r\n",
        "$$"
      ]
    },
    {
      "cell_type": "code",
      "metadata": {
        "colab": {
          "base_uri": "https://localhost:8080/"
        },
        "id": "T-MyROKuZJfP",
        "outputId": "3b11697b-1345-4977-d0e8-99757b1e2adb"
      },
      "source": [
        "import numpy as np\r\n",
        "from numpy.linalg import eig\r\n",
        "\r\n",
        "A = np.array([[1, 0], [-5, -10]]) # state matrix\r\n",
        "e, v = eig(A)\r\n",
        "print(\"eigenvalues of A:\", e)"
      ],
      "execution_count": null,
      "outputs": [
        {
          "output_type": "stream",
          "text": [
            "eigenvalues of A: [-10.   1.]\n"
          ],
          "name": "stdout"
        }
      ]
    },
    {
      "cell_type": "markdown",
      "metadata": {
        "id": "O5ERjJf6aENd"
      },
      "source": [
        "One of the eigenvalues is positive, so the system is unstable "
      ]
    },
    {
      "cell_type": "markdown",
      "metadata": {
        "id": "oFTgb25Tcc3G"
      },
      "source": [
        "Simulating the system:"
      ]
    },
    {
      "cell_type": "code",
      "metadata": {
        "colab": {
          "base_uri": "https://localhost:8080/",
          "height": 279
        },
        "id": "qJ_yw4UXZRYE",
        "outputId": "aa505840-88f8-4aa3-8ae5-19ccc4480e49"
      },
      "source": [
        "from scipy.integrate import odeint\r\n",
        "import matplotlib.pyplot as plt\r\n",
        "\r\n",
        "def LTI(x, t):\r\n",
        "    return A.dot(x)\r\n",
        "\r\n",
        "time = np.linspace(0, 10, 1000)    # interval from 0 to 10\r\n",
        "x0 = np.random.rand(2)            # initial state\r\n",
        "\r\n",
        "solution = odeint(LTI, x0, time)\r\n",
        "\r\n",
        "plt.plot(time, solution)\r\n",
        "plt.xlabel('time')\r\n",
        "plt.ylabel('x(t)')\r\n",
        "plt.show()"
      ],
      "execution_count": null,
      "outputs": [
        {
          "output_type": "display_data",
          "data": {
            "image/png": "[encoded data removed]",
            "text/plain": [
              "<Figure size 432x288 with 1 Axes>"
            ]
          },
          "metadata": {
            "tags": [],
            "needs_background": "light"
          }
        }
      ]
    },
    {
      "cell_type": "markdown",
      "metadata": {
        "id": "1o1rvobodOKD"
      },
      "source": [
        "Adding a constant term:"
      ]
    },
    {
      "cell_type": "code",
      "metadata": {
        "colab": {
          "base_uri": "https://localhost:8080/",
          "height": 279
        },
        "id": "X9wumkiVdQY1",
        "outputId": "86da0cb4-4aea-4963-965d-175ebb00b3be"
      },
      "source": [
        "from scipy.integrate import odeint\r\n",
        "import matplotlib.pyplot as plt\r\n",
        "import numpy as np\r\n",
        "\r\n",
        "B = np.random.randint(-1,1)\r\n",
        "def LTI(x, t):\r\n",
        "    return A.dot(x) + B\r\n",
        "\r\n",
        "time = np.linspace(0, 10, 1000)    # interval from 0 to 10\r\n",
        "x0 = np.random.rand(2)            # initial state\r\n",
        "\r\n",
        "solution = odeint(LTI, x0, time)\r\n",
        "\r\n",
        "plt.plot(time, solution)\r\n",
        "plt.xlabel('time')\r\n",
        "plt.ylabel('x(t)')\r\n",
        "plt.show()"
      ],
      "execution_count": null,
      "outputs": [
        {
          "output_type": "display_data",
          "data": {
            "image/png": "[encoded data removed]",
            "text/plain": [
              "<Figure size 432x288 with 1 Axes>"
            ]
          },
          "metadata": {
            "tags": [],
            "needs_background": "light"
          }
        }
      ]
    },
    {
      "cell_type": "markdown",
      "metadata": {
        "id": "8JGD1btnYqR7"
      },
      "source": [
        "2) $$\\dot x = \r\n",
        "\\begin{pmatrix} 0 & 8 \\\\ 1 & 3\r\n",
        "\\end{pmatrix}\r\n",
        "x\r\n",
        "$$\r\n"
      ]
    },
    {
      "cell_type": "code",
      "metadata": {
        "colab": {
          "base_uri": "https://localhost:8080/"
        },
        "id": "SMUhmLhUZPnB",
        "outputId": "6beaadd0-0972-4710-8e3d-fa1081552a42"
      },
      "source": [
        "import numpy as np\r\n",
        "from numpy.linalg import eig\r\n",
        "\r\n",
        "A = np.array([[0, 8], [1, 3]]) # state matrix\r\n",
        "e, v = eig(A)\r\n",
        "print(\"eigenvalues of A:\", e)"
      ],
      "execution_count": null,
      "outputs": [
        {
          "output_type": "stream",
          "text": [
            "eigenvalues of A: [-1.70156212  4.70156212]\n"
          ],
          "name": "stdout"
        }
      ]
    },
    {
      "cell_type": "markdown",
      "metadata": {
        "id": "rD0aOjbqaCnp"
      },
      "source": [
        "One of the eigenvalues is positive, so the system is unstable "
      ]
    },
    {
      "cell_type": "markdown",
      "metadata": {
        "id": "eYtliK3Mc65c"
      },
      "source": [
        "Simulating the system:"
      ]
    },
    {
      "cell_type": "code",
      "metadata": {
        "colab": {
          "base_uri": "https://localhost:8080/",
          "height": 290
        },
        "id": "ok4bcgcAZPTg",
        "outputId": "a5f6a6f0-9140-4df5-d46d-2c09a8b5540b"
      },
      "source": [
        "from scipy.integrate import odeint\r\n",
        "import matplotlib.pyplot as plt\r\n",
        "\r\n",
        "def LTI(x, t):\r\n",
        "    return A.dot(x)\r\n",
        "\r\n",
        "time = np.linspace(0, 10, 1000)    # interval from 0 to 10\r\n",
        "x0 = np.random.rand(2)            # initial state\r\n",
        "\r\n",
        "solution = odeint(LTI, x0, time)\r\n",
        "\r\n",
        "plt.plot(time, solution)\r\n",
        "plt.xlabel('time')\r\n",
        "plt.ylabel('x(t)')\r\n",
        "plt.show()"
      ],
      "execution_count": null,
      "outputs": [
        {
          "output_type": "display_data",
          "data": {
            "image/png": "[encoded data removed]",
            "text/plain": [
              "<Figure size 432x288 with 1 Axes>"
            ]
          },
          "metadata": {
            "tags": [],
            "needs_background": "light"
          }
        }
      ]
    },
    {
      "cell_type": "markdown",
      "metadata": {
        "id": "5Salb_7pd1rB"
      },
      "source": [
        "Adding a constant term:"
      ]
    },
    {
      "cell_type": "code",
      "metadata": {
        "colab": {
          "base_uri": "https://localhost:8080/",
          "height": 290
        },
        "id": "jsVdWrT-d1rL",
        "outputId": "49f07863-66f9-4062-9036-8f2d8a7e3950"
      },
      "source": [
        "from scipy.integrate import odeint\r\n",
        "import matplotlib.pyplot as plt\r\n",
        "import numpy as np\r\n",
        "\r\n",
        "B = np.random.randint(-1,1)\r\n",
        "def LTI(x, t):\r\n",
        "    return A.dot(x) + B\r\n",
        "\r\n",
        "time = np.linspace(0, 10, 1000)    # interval from 0 to 10\r\n",
        "x0 = np.random.rand(2)            # initial state\r\n",
        "\r\n",
        "solution = odeint(LTI, x0, time)\r\n",
        "\r\n",
        "plt.plot(time, solution)\r\n",
        "plt.xlabel('time')\r\n",
        "plt.ylabel('x(t)')\r\n",
        "plt.show()"
      ],
      "execution_count": null,
      "outputs": [
        {
          "output_type": "display_data",
          "data": {
            "image/png": "[encoded data removed]",
            "text/plain": [
              "<Figure size 432x288 with 1 Axes>"
            ]
          },
          "metadata": {
            "tags": [],
            "needs_background": "light"
          }
        }
      ]
    },
    {
      "cell_type": "markdown",
      "metadata": {
        "id": "ehaPY9zIYtCz"
      },
      "source": [
        "3) $$\\dot x = \r\n",
        "\\begin{pmatrix} 0 & 8 \\\\ 6 & 0\r\n",
        "\\end{pmatrix}\r\n",
        "x\r\n",
        "$$\r\n"
      ]
    },
    {
      "cell_type": "code",
      "metadata": {
        "colab": {
          "base_uri": "https://localhost:8080/"
        },
        "id": "xJtacUcYZRFq",
        "outputId": "3f5cb562-5584-4a02-f3e4-22edc476c8d8"
      },
      "source": [
        "import numpy as np\r\n",
        "from numpy.linalg import eig\r\n",
        "\r\n",
        "A = np.array([[0, 8], [6, 0]]) # state matrix\r\n",
        "e, v = eig(A)\r\n",
        "print(\"eigenvalues of A:\", e)"
      ],
      "execution_count": null,
      "outputs": [
        {
          "output_type": "stream",
          "text": [
            "eigenvalues of A: [ 6.92820323 -6.92820323]\n"
          ],
          "name": "stdout"
        }
      ]
    },
    {
      "cell_type": "markdown",
      "metadata": {
        "id": "UwFiSQhHaAyB"
      },
      "source": [
        "One of the eigenvalues is positive, so the system is unstable "
      ]
    },
    {
      "cell_type": "markdown",
      "metadata": {
        "id": "sTHbx66Qc-Rp"
      },
      "source": [
        "Simulating the system:"
      ]
    },
    {
      "cell_type": "code",
      "metadata": {
        "colab": {
          "base_uri": "https://localhost:8080/",
          "height": 290
        },
        "id": "2DPOqCtRZOEF",
        "outputId": "a4ee299e-720f-4406-815e-3ec57c7ef413"
      },
      "source": [
        "from scipy.integrate import odeint\r\n",
        "import matplotlib.pyplot as plt\r\n",
        "\r\n",
        "def LTI(x, t):\r\n",
        "    return A.dot(x)\r\n",
        "\r\n",
        "time = np.linspace(0, 10, 1000)    # interval from 0 to 10\r\n",
        "x0 = np.random.rand(2)            # initial state\r\n",
        "\r\n",
        "solution = odeint(LTI, x0, time)\r\n",
        "\r\n",
        "plt.plot(time, solution)\r\n",
        "plt.xlabel('time')\r\n",
        "plt.ylabel('x(t)')\r\n",
        "plt.show()"
      ],
      "execution_count": null,
      "outputs": [
        {
          "output_type": "display_data",
          "data": {
            "image/png": "[encoded data removed]",
            "text/plain": [
              "<Figure size 432x288 with 1 Axes>"
            ]
          },
          "metadata": {
            "tags": [],
            "needs_background": "light"
          }
        }
      ]
    },
    {
      "cell_type": "markdown",
      "metadata": {
        "id": "wEKaLaezd4sZ"
      },
      "source": [
        "Adding a constant term:"
      ]
    },
    {
      "cell_type": "code",
      "metadata": {
        "colab": {
          "base_uri": "https://localhost:8080/",
          "height": 290
        },
        "id": "KCAn1Al8d4sa",
        "outputId": "2d8cb21c-a1e0-44b7-e3b0-be7a71971b68"
      },
      "source": [
        "from scipy.integrate import odeint\r\n",
        "import matplotlib.pyplot as plt\r\n",
        "import numpy as np\r\n",
        "\r\n",
        "B = np.random.randint(-1,1)\r\n",
        "def LTI(x, t):\r\n",
        "    return A.dot(x) + B\r\n",
        "\r\n",
        "time = np.linspace(0, 10, 1000)    # interval from 0 to 10\r\n",
        "x0 = np.random.rand(2)            # initial state\r\n",
        "\r\n",
        "solution = odeint(LTI, x0, time)\r\n",
        "\r\n",
        "plt.plot(time, solution)\r\n",
        "plt.xlabel('time')\r\n",
        "plt.ylabel('x(t)')\r\n",
        "plt.show()"
      ],
      "execution_count": null,
      "outputs": [
        {
          "output_type": "display_data",
          "data": {
            "image/png": "[encoded data removed]",
            "text/plain": [
              "<Figure size 432x288 with 1 Axes>"
            ]
          },
          "metadata": {
            "tags": [],
            "needs_background": "light"
          }
        }
      ]
    },
    {
      "cell_type": "markdown",
      "metadata": {
        "id": "ihN6qHkEYwAc"
      },
      "source": [
        "4) $$\\dot x = \r\n",
        "\\begin{pmatrix} 0 & 1 \\\\ 6 & 3\r\n",
        "\\end{pmatrix}\r\n",
        "x\r\n",
        "$$\r\n"
      ]
    },
    {
      "cell_type": "code",
      "metadata": {
        "colab": {
          "base_uri": "https://localhost:8080/"
        },
        "id": "b2mKPPp1ZS_7",
        "outputId": "70e8a007-2524-48dc-a086-ae772dff2943"
      },
      "source": [
        "import numpy as np\r\n",
        "from numpy.linalg import eig\r\n",
        "\r\n",
        "A = np.array([[0, 1], [6, 3]]) # state matrix\r\n",
        "e, v = eig(A)\r\n",
        "print(\"eigenvalues of A:\", e)"
      ],
      "execution_count": null,
      "outputs": [
        {
          "output_type": "stream",
          "text": [
            "eigenvalues of A: [-1.37228132  4.37228132]\n"
          ],
          "name": "stdout"
        }
      ]
    },
    {
      "cell_type": "markdown",
      "metadata": {
        "id": "N_hTA3ZTZ2ZK"
      },
      "source": [
        "One of the eigenvalues is positive, so the system is unstable "
      ]
    },
    {
      "cell_type": "markdown",
      "metadata": {
        "id": "GXUtg2AQdCUY"
      },
      "source": [
        "Simulating the system:"
      ]
    },
    {
      "cell_type": "code",
      "metadata": {
        "colab": {
          "base_uri": "https://localhost:8080/",
          "height": 290
        },
        "id": "06C1Gtd-ZSxg",
        "outputId": "72159b17-977b-42ab-e2af-63b2b641257b"
      },
      "source": [
        "from scipy.integrate import odeint\r\n",
        "import matplotlib.pyplot as plt\r\n",
        "\r\n",
        "B = np.random.randint(-10,10)\r\n",
        "def LTI(x, t):\r\n",
        "    return A.dot(x)\r\n",
        "\r\n",
        "time = np.linspace(0, 10, 1000)    # interval from 0 to 10\r\n",
        "x0 = np.random.rand(2)            # initial state\r\n",
        "\r\n",
        "solution = odeint(LTI, x0, time)\r\n",
        "\r\n",
        "plt.plot(time, solution)\r\n",
        "plt.xlabel('time')\r\n",
        "plt.ylabel('x(t)')\r\n",
        "plt.show()"
      ],
      "execution_count": null,
      "outputs": [
        {
          "output_type": "display_data",
          "data": {
            "image/png": "[encoded data removed]",
            "text/plain": [
              "<Figure size 432x288 with 1 Axes>"
            ]
          },
          "metadata": {
            "tags": [],
            "needs_background": "light"
          }
        }
      ]
    },
    {
      "cell_type": "markdown",
      "metadata": {
        "id": "14qlomAwd7XC"
      },
      "source": [
        "Adding a constant term:"
      ]
    },
    {
      "cell_type": "code",
      "metadata": {
        "colab": {
          "base_uri": "https://localhost:8080/",
          "height": 290
        },
        "id": "JECiFpYXd7XC",
        "outputId": "3edeeb12-f4e4-4c48-be87-ffa7373db7a5"
      },
      "source": [
        "from scipy.integrate import odeint\r\n",
        "import matplotlib.pyplot as plt\r\n",
        "import numpy as np\r\n",
        "\r\n",
        "B = np.random.randint(-1,1)\r\n",
        "def LTI(x, t):\r\n",
        "    return A.dot(x) + B\r\n",
        "\r\n",
        "time = np.linspace(0, 10, 1000)    # interval from 0 to 10\r\n",
        "x0 = np.random.rand(2)            # initial state\r\n",
        "\r\n",
        "solution = odeint(LTI, x0, time)\r\n",
        "\r\n",
        "plt.plot(time, solution)\r\n",
        "plt.xlabel('time')\r\n",
        "plt.ylabel('x(t)')\r\n",
        "plt.show()"
      ],
      "execution_count": null,
      "outputs": [
        {
          "output_type": "display_data",
          "data": {
            "image/png": "[encoded data removed]",
            "text/plain": [
              "<Figure size 432x288 with 1 Axes>"
            ]
          },
          "metadata": {
            "tags": [],
            "needs_background": "light"
          }
        }
      ]
    }
  ]
}