{
  "nbformat": 4,
  "nbformat_minor": 0,
  "metadata": {
    "colab": {
      "name": "Lab1_Solution",
      "provenance": [],
      "collapsed_sections": [],
      "authorship_tag": "ABX9TyMC0TwVjhC28/+Fn1d09KA/",
      "include_colab_link": true
    },
    "kernelspec": {
      "name": "python3",
      "display_name": "Python 3"
    }
  },
  "cells": [
    {
      "cell_type": "markdown",
      "metadata": {
        "id": "view-in-github",
        "colab_type": "text"
      },
      "source": [
        "<a href=\"https://colab.research.google.com/github/kamilain1/Control_Theory/blob/main/Lab1_Solution.ipynb\" target=\"_parent\"><img src=\"https://colab.research.google.com/assets/colab-badge.svg\" alt=\"Open In Colab\"/></a>"
      ]
    },
    {
      "cell_type": "markdown",
      "metadata": {
        "id": "feqz-qznXEhZ"
      },
      "source": [
        "# Task 1: ODE to State Space conversion\r\n",
        "\r\n",
        "\r\n",
        "1) $10 y^{(4)} -7  y^{(3)} + 2   \\ddot y + 0.5 \\dot y + 4y  = 15$\r\n",
        "\r\n",
        "$ y^{(4)} -7/10  y^{(3)} + 2/10   \\ddot y + 0.5/10 \\dot y + 4/10y  = 15/10$\r\n",
        "\r\n",
        "$x_n = y^{(n-1)} = \\dot x_{n-1}$\r\n",
        "\r\n",
        "$ y^{(4)} = \\dot x_{4} = 0.7  y^{(3)} - 0.2   \\ddot y - 0.05 \\dot y - 0.4 y + 1.5$\r\n",
        "\r\n",
        "$$\\dot x = \r\n",
        "\\begin{pmatrix} \r\n",
        "0 & 1 & 0 & 0\\\\  \r\n",
        "0 & 0 & 1 & 0\\\\\r\n",
        "0 & 0 & 0 & 1\\\\\r\n",
        "- 0.4 & - 0.05 & - 0.2 & 0.7\\\\\r\n",
        "\\end{pmatrix}\r\n",
        "x + \\begin{pmatrix} \r\n",
        "0 \\\\  \r\n",
        "0\\\\\r\n",
        "0 \\\\\r\n",
        "1.5\\\\\r\n",
        "\\end{pmatrix}\r\n",
        "$$"
      ]
    },
    {
      "cell_type": "code",
      "metadata": {
        "id": "pa35uVz7iOBY"
      },
      "source": [
        "import numpy as np\r\n",
        "from scipy.integrate import odeint\r\n",
        "\r\n",
        "n = 5\r\n",
        "A = np.array([[0, 1, 0, 0], [0, 0, 1, 0], [0, 0, 0, 1], [-0.4, -0.05, -0.2, 0.7]])\r\n",
        "B = np.array([0, 0, 0, 1.5])\r\n",
        "\r\n",
        "# x_dot from state space\r\n",
        "def StateSpace(x, t):\r\n",
        "    return A.dot(x) + B\r\n",
        "\r\n",
        "time = np.linspace(0, 1, 1000)   \r\n",
        "x0 = np.random.rand(n-1)  # initial state\r\n",
        "\r\n",
        "solution = {\"SS\": odeint(StateSpace, x0, time)}"
      ],
      "execution_count": 19,
      "outputs": []
    },
    {
      "cell_type": "code",
      "metadata": {
        "colab": {
          "base_uri": "https://localhost:8080/",
          "height": 282
        },
        "id": "m96wVXsfCd7V",
        "outputId": "f9e87afa-2528-4d5a-90b7-bdfff9b317be"
      },
      "source": [
        "import matplotlib.pyplot as plt\r\n",
        "\r\n",
        "plt.subplot(121)\r\n",
        "plt.plot(time, solution[\"SS\"])\r\n",
        "plt.xlabel('time')\r\n",
        "plt.ylabel('x(t)')\r\n",
        "\r\n",
        "plt.show()"
      ],
      "execution_count": 20,
      "outputs": [
        {
          "output_type": "display_data",
          "data": {
            "image/png": "[encoded data removed]",
            "text/plain": [
              "<Figure size 432x288 with 1 Axes>"
            ]
          },
          "metadata": {
            "tags": [],
            "needs_background": "light"
          }
        }
      ]
    },
    {
      "cell_type": "markdown",
      "metadata": {
        "id": "DA-5yGn6iWUD"
      },
      "source": [
        "2) $5  y^{(4)} -17 y^{(3)} - 3   \\ddot y + 1.5 \\dot y + 2y  = 25$\r\n",
        "\r\n",
        "$ y^{(4)} -17/5  y^{(3)} -3/5   \\ddot y + 1.5/5 \\dot y + 2/5y  = 5$\r\n",
        "\r\n",
        "$x_n = y^{(n-1)} = \\dot x_{n-1}$\r\n",
        "\r\n",
        "$ y^{(4)} = \\dot x_{4} = 3.4  y^{(3)} + 0.6   \\ddot y - 0.3 \\dot y - 0.4 y + 5$\r\n",
        "\r\n",
        "$$\\dot x = \r\n",
        "\\begin{pmatrix} \r\n",
        "0 & 1 & 0 & 0\\\\  \r\n",
        "0 & 0 & 1 & 0\\\\\r\n",
        "0 & 0 & 0 & 1\\\\\r\n",
        "- 0.4 & - 0.3 & 0.6 & 3.4\\\\\r\n",
        "\\end{pmatrix}\r\n",
        "x + \\begin{pmatrix} \r\n",
        "0 \\\\  \r\n",
        "0\\\\\r\n",
        "0 \\\\\r\n",
        "5\\\\\r\n",
        "\\end{pmatrix}\r\n",
        "$$"
      ]
    },
    {
      "cell_type": "code",
      "metadata": {
        "id": "8pZDETIi53B8"
      },
      "source": [
        "import numpy as np\r\n",
        "from scipy.integrate import odeint\r\n",
        "\r\n",
        "n = 5\r\n",
        "A = np.array([[0, 1, 0, 0], [0, 0, 1, 0], [0, 0, 0, 1], [-0.4, -0.3, 0.6, 5]])\r\n",
        "B = np.array([0, 0, 0, 5])\r\n",
        "\r\n",
        "# x_dot from state space\r\n",
        "def StateSpace(x, t):\r\n",
        "    return A.dot(x) + B\r\n",
        "\r\n",
        "time = np.linspace(0, 1, 1000)   \r\n",
        "x0 = np.random.rand(n-1)  # initial state\r\n",
        "\r\n",
        "solution = {\"SS\": odeint(StateSpace, x0, time)}"
      ],
      "execution_count": 16,
      "outputs": []
    },
    {
      "cell_type": "code",
      "metadata": {
        "colab": {
          "base_uri": "https://localhost:8080/",
          "height": 279
        },
        "id": "HTBO0Z7U57VD",
        "outputId": "7d191edd-e81d-4c55-8d42-2d98c0904020"
      },
      "source": [
        "import matplotlib.pyplot as plt\r\n",
        "\r\n",
        "plt.subplot(121)\r\n",
        "plt.plot(time, solution[\"SS\"])\r\n",
        "plt.xlabel('time')\r\n",
        "plt.ylabel('x(t)')\r\n",
        "\r\n",
        "plt.show()"
      ],
      "execution_count": 17,
      "outputs": [
        {
          "output_type": "display_data",
          "data": {
            "image/png": "[encoded data removed]",
            "text/plain": [
              "<Figure size 432x288 with 1 Axes>"
            ]
          },
          "metadata": {
            "tags": [],
            "needs_background": "light"
          }
        }
      ]
    },
    {
      "cell_type": "markdown",
      "metadata": {
        "id": "sMNWa_FaiWd8"
      },
      "source": [
        "3) $-3 y^{(4)} + 22 y^{(3)} + 4   \\ddot y + 1.5 \\dot y + 1y  = 15$\r\n",
        "\r\n",
        "$ y^{(4)} - 22/3  y^{(3)} -4/3   \\ddot y -1.5/3 \\dot y -1/3y  = -5$\r\n",
        "\r\n",
        "$x_n = y^{(n-1)} = \\dot x_{n-1}$\r\n",
        "\r\n",
        "$ y^{(4)} = \\dot x_{4} = 22/3  y^{(3)} + 4/3   \\ddot y + 0.5 \\dot y +1/3 y -5$\r\n",
        "\r\n",
        "$$\\dot x = \r\n",
        "\\begin{pmatrix} \r\n",
        "0 & 1 & 0 & 0\\\\  \r\n",
        "0 & 0 & 1 & 0\\\\\r\n",
        "0 & 0 & 0 & 1\\\\\r\n",
        "1/3 & 0.5 & 4/3 & 22/3\\\\\r\n",
        "\\end{pmatrix}\r\n",
        "x + \\begin{pmatrix} \r\n",
        "0 \\\\  \r\n",
        "0\\\\\r\n",
        "0 \\\\\r\n",
        "-5\\\\\r\n",
        "\\end{pmatrix}\r\n",
        "$$"
      ]
    },
    {
      "cell_type": "code",
      "metadata": {
        "id": "rLDUwj746ce6"
      },
      "source": [
        "import numpy as np\r\n",
        "from scipy.integrate import odeint\r\n",
        "\r\n",
        "n = 5\r\n",
        "A = np.array([[0, 1, 0, 0], [0, 0, 1, 0], [0, 0, 0, 1], [1/3, 0.5, 4/3, 22/3]])\r\n",
        "B = np.array([0, 0, 0, -5])\r\n",
        "\r\n",
        "# x_dot from state space\r\n",
        "def StateSpace(x, t):\r\n",
        "    return A.dot(x) + B\r\n",
        "\r\n",
        "time = np.linspace(0, 1, 1000)   \r\n",
        "x0 = np.random.rand(n-1)  # initial state\r\n",
        "\r\n",
        "solution = {\"SS\": odeint(StateSpace, x0, time)}"
      ],
      "execution_count": 23,
      "outputs": []
    },
    {
      "cell_type": "code",
      "metadata": {
        "colab": {
          "base_uri": "https://localhost:8080/",
          "height": 279
        },
        "id": "M5A_CkRE5_d_",
        "outputId": "efcb070b-9761-4492-bfe0-2104706490fd"
      },
      "source": [
        "import matplotlib.pyplot as plt\r\n",
        "\r\n",
        "plt.subplot(121)\r\n",
        "plt.plot(time, solution[\"SS\"])\r\n",
        "plt.xlabel('time')\r\n",
        "plt.ylabel('x(t)')\r\n",
        "\r\n",
        "plt.show()"
      ],
      "execution_count": 24,
      "outputs": [
        {
          "output_type": "display_data",
          "data": {
            "image/png": "[encoded data removed]",
            "text/plain": [
              "<Figure size 432x288 with 1 Axes>"
            ]
          },
          "metadata": {
            "tags": [],
            "needs_background": "light"
          }
        }
      ]
    },
    {
      "cell_type": "markdown",
      "metadata": {
        "id": "7pn1IffNiWoY"
      },
      "source": [
        "4) $5  y^{(4)} -17 y^{(3)} - 1.5 \\ddot y + 100 \\dot y + 1.1y= 45$\r\n",
        "\r\n",
        "$ y^{(4)} -17/5  y^{(3)} -1.5/5 \\ddot y + 20 \\dot y + 1.1/5y  = 9$\r\n",
        "\r\n",
        "$x_n = y^{(n-1)} = \\dot x_{n-1}$\r\n",
        "\r\n",
        "$ y^{(4)} = \\dot x_{4} = 3.4  y^{(3)} + 0.3 \\ddot y - 20 \\dot y - 0.22 y + 9$\r\n",
        "\r\n",
        "$$\\dot x = \r\n",
        "\\begin{pmatrix} \r\n",
        "0 & 1 & 0 & 0\\\\  \r\n",
        "0 & 0 & 1 & 0\\\\\r\n",
        "0 & 0 & 0 & 1\\\\\r\n",
        "- 0.22 & - 20 & 0.3 & 3.4\\\\\r\n",
        "\\end{pmatrix}\r\n",
        "x + \\begin{pmatrix} \r\n",
        "0 \\\\  \r\n",
        "0\\\\\r\n",
        "0 \\\\\r\n",
        "9\\\\\r\n",
        "\\end{pmatrix}\r\n",
        "$$"
      ]
    },
    {
      "cell_type": "code",
      "metadata": {
        "id": "t-Bsvjo26fXp"
      },
      "source": [
        "import numpy as np\r\n",
        "from scipy.integrate import odeint\r\n",
        "\r\n",
        "n = 5\r\n",
        "A = np.array([[0, 1, 0, 0], [0, 0, 1, 0], [0, 0, 0, 1], [-0.22, -20, 0.2, 3.4]])\r\n",
        "B = np.array([0, 0, 0, 9])\r\n",
        "\r\n",
        "# x_dot from state space\r\n",
        "def StateSpace(x, t):\r\n",
        "    return A.dot(x) + B\r\n",
        "\r\n",
        "time = np.linspace(0, 1, 1000)   \r\n",
        "x0 = np.random.rand(n-1)  # initial state\r\n",
        "\r\n",
        "solution = {\"SS\": odeint(StateSpace, x0, time)}"
      ],
      "execution_count": 26,
      "outputs": []
    },
    {
      "cell_type": "code",
      "metadata": {
        "colab": {
          "base_uri": "https://localhost:8080/",
          "height": 279
        },
        "id": "Mq48zJz46Be8",
        "outputId": "788f8236-4d82-43dc-f95e-bfcf3516907a"
      },
      "source": [
        "import matplotlib.pyplot as plt\r\n",
        "\r\n",
        "plt.subplot(121)\r\n",
        "plt.plot(time, solution[\"SS\"])\r\n",
        "plt.xlabel('time')\r\n",
        "plt.ylabel('x(t)')\r\n",
        "\r\n",
        "plt.show()"
      ],
      "execution_count": 27,
      "outputs": [
        {
          "output_type": "display_data",
          "data": {
            "image/png": "[encoded data removed]",
            "text/plain": [
              "<Figure size 432x288 with 1 Axes>"
            ]
          },
          "metadata": {
            "tags": [],
            "needs_background": "light"
          }
        }
      ]
    },
    {
      "cell_type": "markdown",
      "metadata": {
        "id": "Do6GhqsWiWx8"
      },
      "source": [
        "5)  $1.5y^{(4)} -23 y^{(3)} - 2.5 \\ddot y + 0.1 \\dot y + 100y= -10$\r\n",
        "\r\n",
        "$ y^{(4)} -23/1.5  y^{(3)} -25/15   \\ddot y + 1/15 \\dot y + 100/1.5y  = -10/1.5$\r\n",
        "\r\n",
        "$x_n = y^{(n-1)} = \\dot x_{n-1}$\r\n",
        "\r\n",
        "$ y^{(4)} = \\dot x_{4} = 46/3  y^{(3)} + 5/3   \\ddot y -1/15 \\dot y - 200/3 y -20/3$\r\n",
        "\r\n",
        "$$\\dot x = \r\n",
        "\\begin{pmatrix} \r\n",
        "0 & 1 & 0 & 0\\\\  \r\n",
        "0 & 0 & 1 & 0\\\\\r\n",
        "0 & 0 & 0 & 1\\\\\r\n",
        "-200/3 & - 1/15 & 5/3 & 46/3\\\\\r\n",
        "\\end{pmatrix}\r\n",
        "x + \\begin{pmatrix} \r\n",
        "0 \\\\  \r\n",
        "0\\\\\r\n",
        "0 \\\\\r\n",
        "-20/3\\\\\r\n",
        "\\end{pmatrix}\r\n",
        "$$\r\n"
      ]
    },
    {
      "cell_type": "code",
      "metadata": {
        "id": "S7AdwqJa6hkS"
      },
      "source": [
        "import numpy as np\r\n",
        "from scipy.integrate import odeint\r\n",
        "\r\n",
        "n = 5\r\n",
        "A = np.array([[0, 1, 0, 0], [0, 0, 1, 0], [0, 0, 0, 1], [-200/3, -1/15, 5/3, 46/3]])\r\n",
        "B = np.array([0, 0, 0, -20/3])\r\n",
        "\r\n",
        "# x_dot from state space\r\n",
        "def StateSpace(x, t):\r\n",
        "    return A.dot(x) + B\r\n",
        "\r\n",
        "time = np.linspace(0, 1, 1000)   \r\n",
        "x0 = np.random.rand(n-1)  # initial state\r\n",
        "\r\n",
        "solution = {\"SS\": odeint(StateSpace, x0, time)}"
      ],
      "execution_count": 28,
      "outputs": []
    },
    {
      "cell_type": "code",
      "metadata": {
        "colab": {
          "base_uri": "https://localhost:8080/",
          "height": 290
        },
        "id": "U-Afpe-E6EaI",
        "outputId": "96a9b028-7a2f-4c26-bdd7-a1290ecefb71"
      },
      "source": [
        "import matplotlib.pyplot as plt\r\n",
        "\r\n",
        "plt.subplot(121)\r\n",
        "plt.plot(time, solution[\"SS\"])\r\n",
        "plt.xlabel('time')\r\n",
        "plt.ylabel('x(t)')\r\n",
        "\r\n",
        "plt.show()"
      ],
      "execution_count": 29,
      "outputs": [
        {
          "output_type": "display_data",
          "data": {
            "image/png": "[encoded data removed]",
            "text/plain": [
              "<Figure size 432x288 with 1 Axes>"
            ]
          },
          "metadata": {
            "tags": [],
            "needs_background": "light"
          }
        }
      ]
    },
    {
      "cell_type": "markdown",
      "metadata": {
        "id": "_cfvJsLLjCeE"
      },
      "source": [
        "# Task 2\r\n",
        "## Subtask 2.1\r\n",
        "\r\n",
        "1) $10 y^{(5)} + 10 y^{(4)} -7  y^{(3)} + 2   \\ddot y + 0.5 \\dot y + 4y  = 0$\r\n",
        "\r\n",
        "$ y^{(5)} + y^{(4)} - 7/10  y^{(3)} +2/10   \\ddot y + 5/100 \\dot y + 0.4y  = 0$\r\n",
        "\r\n",
        "$x_n = y^{(n-1)} = \\dot x_{n-1}$\r\n",
        "\r\n",
        "$ y^{(5)} = \\dot x_{5} = -y^{(4)} + 0.7  y^{(3)} -0.2   \\ddot y -0.05 \\dot y - 0.4 y$\r\n",
        "\r\n",
        "$$\\dot x = \r\n",
        "\\begin{pmatrix} \r\n",
        "0 & 1 & 0 & 0 & 0\\\\  \r\n",
        "0 & 0 & 1 & 0 & 0\\\\\r\n",
        "0 & 0 & 0 & 1 & 0\\\\\r\n",
        "0 & 0 & 0 & 0 & 1\\\\\r\n",
        "-0.4 & - 0.05 & -0.2 & 0.7 & -1\\\\\r\n",
        "\\end{pmatrix}\r\n",
        "x \r\n",
        "$$"
      ]
    },
    {
      "cell_type": "code",
      "metadata": {
        "id": "KVdSvbgknCn3"
      },
      "source": [
        "import numpy as np\r\n",
        "from scipy.integrate import odeint\r\n",
        "\r\n",
        "n = 6\r\n",
        "A = np.array([[0, 1, 0, 0, 0], [0, 0, 1, 0, 0], [0, 0, 0, 1, 0], [0, 0, 0, 0, 1], [-0.4, -0.05, -0.2, 0.7, -1]])\r\n",
        "\r\n",
        "# x_dot from state space\r\n",
        "def StateSpace(x, t):\r\n",
        "    return A.dot(x)\r\n",
        "\r\n",
        "time = np.linspace(0, 1, 1000)   \r\n",
        "x0 = np.random.rand(n-1)  # initial state\r\n",
        "\r\n",
        "solution = {\"SS\": odeint(StateSpace, x0, time)}"
      ],
      "execution_count": 1,
      "outputs": []
    },
    {
      "cell_type": "code",
      "metadata": {
        "colab": {
          "base_uri": "https://localhost:8080/",
          "height": 279
        },
        "id": "Tb9dk0_anGlz",
        "outputId": "2ffdef84-9610-4f1b-d532-4f58e8cdeb70"
      },
      "source": [
        "import matplotlib.pyplot as plt\r\n",
        "\r\n",
        "plt.subplot(121)\r\n",
        "plt.plot(time, solution[\"SS\"])\r\n",
        "plt.xlabel('time')\r\n",
        "plt.ylabel('x(t)')\r\n",
        "\r\n",
        "plt.show()"
      ],
      "execution_count": 2,
      "outputs": [
        {
          "output_type": "display_data",
          "data": {
            "image/png": "[encoded data removed]",
            "text/plain": [
              "<Figure size 432x288 with 1 Axes>"
            ]
          },
          "metadata": {
            "tags": [],
            "needs_background": "light"
          }
        }
      ]
    },
    {
      "cell_type": "markdown",
      "metadata": {
        "id": "Rjf-56HFkOUf"
      },
      "source": [
        "2) $1 y^{(5)} + 5  y^{(4)} -17 y^{(3)} - 3   \\ddot y + 1.5 \\dot y + 2y  = 0$\r\n",
        "\r\n",
        "$ y^{(5)} + 5y^{(4)} - 17  y^{(3)} -3   \\ddot y +1.5 \\dot y + 2y  = 0$\r\n",
        "\r\n",
        "$x_n = y^{(n-1)} = \\dot x_{n-1}$\r\n",
        "\r\n",
        "$ y^{(5)} = \\dot x_{5} = -5y^{(4)} + 17  y^{(3)} +3  \\ddot y -1.5 \\dot y - 2y$\r\n",
        "\r\n",
        "$$\\dot x = \r\n",
        "\\begin{pmatrix} \r\n",
        "0 & 1 & 0 & 0 & 0\\\\  \r\n",
        "0 & 0 & 1 & 0 & 0\\\\\r\n",
        "0 & 0 & 0 & 1 & 0\\\\\r\n",
        "0 & 0 & 0 & 0 & 1\\\\\r\n",
        "-2 & -1.5 & 3 & 17 & -5\\\\\r\n",
        "\\end{pmatrix}\r\n",
        "x \r\n",
        "$$"
      ]
    },
    {
      "cell_type": "code",
      "metadata": {
        "id": "IdXta41joh0d"
      },
      "source": [
        "import numpy as np\r\n",
        "from scipy.integrate import odeint\r\n",
        "\r\n",
        "n = 6\r\n",
        "A = np.array([[0, 1, 0, 0, 0], [0, 0, 1, 0, 0], [0, 0, 0, 1, 0], [0, 0, 0, 0, 1], [-2, -1.5, -3, 17, -5]])\r\n",
        "\r\n",
        "# x_dot from state space\r\n",
        "def StateSpace(x, t):\r\n",
        "    return A.dot(x)\r\n",
        "\r\n",
        "time = np.linspace(0, 1, 1000) \r\n",
        "x0 = np.random.rand(n-1)  # initial state\r\n",
        "\r\n",
        "solution = {\"SS\": odeint(StateSpace, x0, time)}"
      ],
      "execution_count": 16,
      "outputs": []
    },
    {
      "cell_type": "code",
      "metadata": {
        "colab": {
          "base_uri": "https://localhost:8080/",
          "height": 279
        },
        "id": "XeP8tG1Uokkp",
        "outputId": "e8b13ed9-1a97-4846-812e-dfab0454f9b3"
      },
      "source": [
        "import matplotlib.pyplot as plt\r\n",
        "\r\n",
        "plt.subplot(121)\r\n",
        "plt.plot(time, solution[\"SS\"])\r\n",
        "plt.xlabel('time')\r\n",
        "plt.ylabel('x(t)')\r\n",
        "\r\n",
        "plt.show()"
      ],
      "execution_count": 17,
      "outputs": [
        {
          "output_type": "display_data",
          "data": {
            "image/png": "[encoded data removed]",
            "text/plain": [
              "<Figure size 432x288 with 1 Axes>"
            ]
          },
          "metadata": {
            "tags": [],
            "needs_background": "light"
          }
        }
      ]
    },
    {
      "cell_type": "markdown",
      "metadata": {
        "id": "kAqstGX2kPis"
      },
      "source": [
        "3) $6 y^{(5)} - 3 y^{(4)} + 22 y^{(3)} + 4 \\ddot y + 1.5 \\dot y + 1y  = 0$\r\n",
        "\r\n",
        "$ y^{(5)} - 0.5y^{(4)} + 11/3  y^{(3)} + 2/3   \\ddot y +1.5/6 \\dot y + 1/6y  = 0$\r\n",
        "\r\n",
        "$x_n = y^{(n-1)} = \\dot x_{n-1}$\r\n",
        "\r\n",
        "$ y^{(5)} = \\dot x_{5} = 0.5y^{(4)} -11/3  y^{(3)} -2/3  \\ddot y - 1/4 \\dot y - 1/6y$\r\n",
        "\r\n",
        "$$\\dot x = \r\n",
        "\\begin{pmatrix} \r\n",
        "0 & 1 & 0 & 0 & 0\\\\  \r\n",
        "0 & 0 & 1 & 0 & 0\\\\\r\n",
        "0 & 0 & 0 & 1 & 0\\\\\r\n",
        "0 & 0 & 0 & 0 & 1\\\\\r\n",
        "-1/6 & -1/4 & -2/3 & -11/3 & 0.5\\\\\r\n",
        "\\end{pmatrix}\r\n",
        "x \r\n",
        "$$"
      ]
    },
    {
      "cell_type": "code",
      "metadata": {
        "id": "iCgo3y2_vdmx"
      },
      "source": [
        "import numpy as np\r\n",
        "from scipy.integrate import odeint\r\n",
        "\r\n",
        "n = 6\r\n",
        "A = np.array([[0, 1, 0, 0, 0], [0, 0, 1, 0, 0], [0, 0, 0, 1, 0], [0, 0, 0, 0, 1], [-1/6, -1/4, -2/3, -11/3, 0.5]])\r\n",
        "\r\n",
        "# x_dot from state space\r\n",
        "def StateSpace(x, t):\r\n",
        "    return A.dot(x)\r\n",
        "\r\n",
        "time = np.linspace(0, 1, 1000)   \r\n",
        "x0 = np.random.rand(n-1)  # initial state\r\n",
        "\r\n",
        "solution = {\"SS\": odeint(StateSpace, x0, time)}"
      ],
      "execution_count": 18,
      "outputs": []
    },
    {
      "cell_type": "code",
      "metadata": {
        "colab": {
          "base_uri": "https://localhost:8080/",
          "height": 279
        },
        "id": "rvU2U7bhov0B",
        "outputId": "5d86a607-45b6-46d8-869f-a3cd67e010d4"
      },
      "source": [
        "import matplotlib.pyplot as plt\r\n",
        "\r\n",
        "plt.subplot(121)\r\n",
        "plt.plot(time, solution[\"SS\"])\r\n",
        "plt.xlabel('time')\r\n",
        "plt.ylabel('x(t)')\r\n",
        "\r\n",
        "plt.show()"
      ],
      "execution_count": 19,
      "outputs": [
        {
          "output_type": "display_data",
          "data": {
            "image/png": "[encoded data removed]",
            "text/plain": [
              "<Figure size 432x288 with 1 Axes>"
            ]
          },
          "metadata": {
            "tags": [],
            "needs_background": "light"
          }
        }
      ]
    },
    {
      "cell_type": "markdown",
      "metadata": {
        "id": "s5oV5TFpkQBa"
      },
      "source": [
        "4) $22 y^{(5)} + 5  y^{(4)} -17 y^{(3)} - 1.5 \\ddot y + 100 \\dot y + 1.1y= 0$\r\n",
        "\r\n",
        "$ y^{(5)} + 5/22 y^{(4)} -17/22  y^{(3)} -3/44   \\ddot y + 50/11 \\dot y + 11/220y  = 0$\r\n",
        "\r\n",
        "$x_n = y^{(n-1)} = \\dot x_{n-1}$\r\n",
        "\r\n",
        "$ y^{(5)} = \\dot x_{5} = -5/22y^{(4)} +17/22  y^{(3)} +3/44  \\ddot y -50/11 \\dot y - 1/20y$\r\n",
        "\r\n",
        "$$\\dot x = \r\n",
        "\\begin{pmatrix} \r\n",
        "0 & 1 & 0 & 0 & 0\\\\  \r\n",
        "0 & 0 & 1 & 0 & 0\\\\\r\n",
        "0 & 0 & 0 & 1 & 0\\\\\r\n",
        "0 & 0 & 0 & 0 & 1\\\\\r\n",
        "-1/20 & -50/11 & 3/44 & 17/22 & -5/22\\\\\r\n",
        "\\end{pmatrix}\r\n",
        "x \r\n",
        "$$"
      ]
    },
    {
      "cell_type": "code",
      "metadata": {
        "id": "VoHuBcrjvew-"
      },
      "source": [
        "import numpy as np\r\n",
        "from scipy.integrate import odeint\r\n",
        "\r\n",
        "n = 6\r\n",
        "A = np.array([[0, 1, 0, 0, 0], [0, 0, 1, 0, 0], [0, 0, 0, 1, 0], [0, 0, 0, 0, 1], [-1/20, -50/11, 3/44 , 17/22, -5/22]])\r\n",
        "\r\n",
        "# x_dot from state space\r\n",
        "def StateSpace(x, t):\r\n",
        "    return A.dot(x)\r\n",
        "\r\n",
        "time = np.linspace(0, 1, 1000)   \r\n",
        "x0 = np.random.rand(n-1)  # initial state\r\n",
        "\r\n",
        "solution = {\"SS\": odeint(StateSpace, x0, time)}"
      ],
      "execution_count": 20,
      "outputs": []
    },
    {
      "cell_type": "code",
      "metadata": {
        "colab": {
          "base_uri": "https://localhost:8080/",
          "height": 279
        },
        "id": "WkWyvD42oxbz",
        "outputId": "b65346d7-5a56-45c4-b173-cefe84f754f0"
      },
      "source": [
        "import matplotlib.pyplot as plt\r\n",
        "\r\n",
        "plt.subplot(121)\r\n",
        "plt.plot(time, solution[\"SS\"])\r\n",
        "plt.xlabel('time')\r\n",
        "plt.ylabel('x(t)')\r\n",
        "\r\n",
        "plt.show()"
      ],
      "execution_count": 21,
      "outputs": [
        {
          "output_type": "display_data",
          "data": {
            "image/png": "[encoded data removed]",
            "text/plain": [
              "<Figure size 432x288 with 1 Axes>"
            ]
          },
          "metadata": {
            "tags": [],
            "needs_background": "light"
          }
        }
      ]
    },
    {
      "cell_type": "markdown",
      "metadata": {
        "id": "RY4OfaChkNiG"
      },
      "source": [
        "5) $-10 y^{(5)} + 1.5y^{(4)} -23 y^{(3)} - 2.5 \\ddot y + 0.1 \\dot y + 100y= 0$\r\n",
        "\r\n",
        "$ y^{(5)} - 15/100y^{(4)} + 2.3  y^{(3)} + 0.25  \\ddot y -0.01 \\dot y -10y  = 0$\r\n",
        "\r\n",
        "$x_n = y^{(n-1)} = \\dot x_{n-1}$\r\n",
        "\r\n",
        "$ y^{(5)} = \\dot x_{5} = 3/20y^{(4)} -2.3  y^{(3)} - 0.25  \\ddot y + 0.01 \\dot y +10y$\r\n",
        "\r\n",
        "$$\\dot x = \r\n",
        "\\begin{pmatrix} \r\n",
        "0 & 1 & 0 & 0 & 0\\\\  \r\n",
        "0 & 0 & 1 & 0 & 0\\\\\r\n",
        "0 & 0 & 0 & 1 & 0\\\\\r\n",
        "0 & 0 & 0 & 0 & 1\\\\\r\n",
        "10 & 0.01 & -0.25 & -2.3 & 3/20\\\\\r\n",
        "\\end{pmatrix}\r\n",
        "x \r\n",
        "$$"
      ]
    },
    {
      "cell_type": "code",
      "metadata": {
        "id": "p4SIe_Dhvfqn"
      },
      "source": [
        "import numpy as np\r\n",
        "from scipy.integrate import odeint\r\n",
        "\r\n",
        "n = 6\r\n",
        "A = np.array([[0, 1, 0, 0, 0], [0, 0, 1, 0, 0], [0, 0, 0, 1, 0], [0, 0, 0, 0, 1], [10, 0.01, -0.25, -2.3, 3/20]])\r\n",
        "\r\n",
        "# x_dot from state space\r\n",
        "def StateSpace(x, t):\r\n",
        "    return A.dot(x)\r\n",
        "\r\n",
        "time = np.linspace(0, 1, 1000)   \r\n",
        "x0 = np.random.rand(n-1)  # initial state\r\n",
        "\r\n",
        "solution = {\"SS\": odeint(StateSpace, x0, time)}"
      ],
      "execution_count": 22,
      "outputs": []
    },
    {
      "cell_type": "code",
      "metadata": {
        "colab": {
          "base_uri": "https://localhost:8080/",
          "height": 279
        },
        "id": "RKoeAou1oyTD",
        "outputId": "9d832ffe-7e77-4ffe-b19d-efd0dc51cedd"
      },
      "source": [
        "import matplotlib.pyplot as plt\r\n",
        "\r\n",
        "plt.subplot(121)\r\n",
        "plt.plot(time, solution[\"SS\"])\r\n",
        "plt.xlabel('time')\r\n",
        "plt.ylabel('x(t)')\r\n",
        "\r\n",
        "plt.show()"
      ],
      "execution_count": 23,
      "outputs": [
        {
          "output_type": "display_data",
          "data": {
            "image/png": "[encoded data removed]",
            "text/plain": [
              "<Figure size 432x288 with 1 Axes>"
            ]
          },
          "metadata": {
            "tags": [],
            "needs_background": "light"
          }
        }
      ]
    },
    {
      "cell_type": "markdown",
      "metadata": {
        "id": "81SD9lTykkIT"
      },
      "source": [
        "\r\n",
        "\r\n",
        "## Subtask 2.3\r\n",
        "\r\n",
        "1) $10 y^{(5)} + 10 y^{(4)} -7  y^{(3)} + 2   \\ddot y + 0.5 \\dot y + 4y  = \\sin(t)$\r\n",
        "\r\n",
        "$ y^{(5)} + y^{(4)} -0.7  y^{(3)} + 0.2  \\ddot y +0.05 \\dot y +0.4y  = 0.1\\sin(t)$\r\n",
        "\r\n",
        "$x_n = y^{(n-1)} = \\dot x_{n-1}$\r\n",
        "\r\n",
        "$ y^{(5)} = \\dot x_{5} = -y^{(4)} + 0.7 y^{(3)} - 0.2  \\ddot y - 0.05 \\dot y - 0.4 y + 0.1\\sin(t)$ \r\n",
        "\r\n",
        "$$\\dot x = \r\n",
        "\\begin{pmatrix} \r\n",
        "0 & 1 & 0 & 0 & 0\\\\  \r\n",
        "0 & 0 & 1 & 0 & 0\\\\\r\n",
        "0 & 0 & 0 & 1 & 0\\\\\r\n",
        "0 & 0 & 0 & 0 & 1\\\\\r\n",
        "-0.4 & -0.05 & -0.2 & 0.7 & -1\\\\\r\n",
        "\\end{pmatrix}\r\n",
        "x + \\begin{pmatrix} \r\n",
        "0 \\\\  \r\n",
        "0\\\\\r\n",
        "0 \\\\\r\n",
        "0 \\\\\r\n",
        "0.1\\sin(t)\\\\\r\n",
        "\\end{pmatrix}\r\n",
        "$$\r\n"
      ]
    },
    {
      "cell_type": "code",
      "metadata": {
        "id": "b6l7JXI22R8W"
      },
      "source": [
        "import numpy as np\r\n",
        "from scipy.integrate import odeint\r\n",
        "\r\n",
        "n = 6\r\n",
        "A = np.array([[0, 1, 0, 0, 0], [0, 0, 1, 0, 0], [0, 0, 0, 1, 0], [0, 0, 0, 0, 1], [-0.4, -0.05, -0.2, 0.7, -1]])\r\n",
        "B = np.array([0, 0, 0, 0, 0.1])\r\n",
        "\r\n",
        "# x_dot from state space\r\n",
        "def StateSpace(x, t):\r\n",
        "    return A.dot(x) + B*np.sin(t)\r\n",
        "\r\n",
        "time = np.linspace(0, 1, 1000)   \r\n",
        "x0 = np.random.rand(n-1)  # initial state\r\n",
        "\r\n",
        "solution = {\"SS\": odeint(StateSpace, x0, time)}"
      ],
      "execution_count": 14,
      "outputs": []
    },
    {
      "cell_type": "code",
      "metadata": {
        "colab": {
          "base_uri": "https://localhost:8080/",
          "height": 283
        },
        "id": "7Mx0ytUi2XzI",
        "outputId": "f0f7b57b-078a-48a0-cea5-734a5c2e2ca4"
      },
      "source": [
        "import matplotlib.pyplot as plt\r\n",
        "\r\n",
        "plt.subplot(121)\r\n",
        "plt.plot(time, solution[\"SS\"])\r\n",
        "plt.xlabel('time')\r\n",
        "plt.ylabel('x(t)')\r\n",
        "\r\n",
        "plt.show()"
      ],
      "execution_count": 15,
      "outputs": [
        {
          "output_type": "display_data",
          "data": {
            "image/png": "[encoded data removed]",
            "text/plain": [
              "<Figure size 432x288 with 1 Axes>"
            ]
          },
          "metadata": {
            "tags": [],
            "needs_background": "light"
          }
        }
      ]
    },
    {
      "cell_type": "markdown",
      "metadata": {
        "id": "BhzyD5Fu0oxz"
      },
      "source": [
        "2) $1 y^{(5)} + 5  y^{(4)} -17 y^{(3)} - 3   \\ddot y + 1.5 \\dot y + 2y  = \\sin(t)$\r\n",
        "\r\n",
        "$ y^{(5)} + 5y^{(4)} -17  y^{(3)} -3  \\ddot y +1.5 \\dot y +2y  = \\sin(t)$\r\n",
        "\r\n",
        "$x_n = y^{(n-1)} = \\dot x_{n-1}$\r\n",
        "\r\n",
        "$ y^{(5)} = \\dot x_{5} = -5y^{(4)} + 17 y^{(3)} +3  \\ddot y -1.5 \\dot y -2 y + \\sin(t)$ \r\n",
        "\r\n",
        "$$\\dot x = \r\n",
        "\\begin{pmatrix} \r\n",
        "0 & 1 & 0 & 0 & 0\\\\  \r\n",
        "0 & 0 & 1 & 0 & 0\\\\\r\n",
        "0 & 0 & 0 & 1 & 0\\\\\r\n",
        "0 & 0 & 0 & 0 & 1\\\\\r\n",
        "-2 & -1.5 & 3 & 17 & -5\\\\\r\n",
        "\\end{pmatrix}\r\n",
        "x + \\begin{pmatrix} \r\n",
        "0 \\\\  \r\n",
        "0\\\\\r\n",
        "0 \\\\\r\n",
        "0 \\\\\r\n",
        "\\sin(t)\\\\\r\n",
        "\\end{pmatrix}\r\n",
        "$$\r\n"
      ]
    },
    {
      "cell_type": "code",
      "metadata": {
        "id": "kdC4aTID2S9u"
      },
      "source": [
        "import numpy as np\r\n",
        "from scipy.integrate import odeint\r\n",
        "\r\n",
        "n = 6\r\n",
        "A = np.array([[0, 1, 0, 0, 0], [0, 0, 1, 0, 0], [0, 0, 0, 1, 0], [0, 0, 0, 0, 1], [-2, -1.5, 3, 17, -5]])\r\n",
        "B = np.array([0, 0, 0, 0, 1])\r\n",
        "\r\n",
        "# x_dot from state space\r\n",
        "def StateSpace(x, t):\r\n",
        "    return A.dot(x) + B*np.sin(t)\r\n",
        "\r\n",
        "time = np.linspace(0, 1, 1000)   \r\n",
        "x0 = np.random.rand(n-1)  # initial state\r\n",
        "\r\n",
        "solution = {\"SS\": odeint(StateSpace, x0, time)}"
      ],
      "execution_count": 10,
      "outputs": []
    },
    {
      "cell_type": "code",
      "metadata": {
        "colab": {
          "base_uri": "https://localhost:8080/",
          "height": 279
        },
        "id": "L_Q2X7wA2Y-3",
        "outputId": "9a8022b2-b11e-42f4-922f-95a9bcf4af3d"
      },
      "source": [
        "import matplotlib.pyplot as plt\r\n",
        "\r\n",
        "plt.subplot(121)\r\n",
        "plt.plot(time, solution[\"SS\"])\r\n",
        "plt.xlabel('time')\r\n",
        "plt.ylabel('x(t)')\r\n",
        "\r\n",
        "plt.show()"
      ],
      "execution_count": 11,
      "outputs": [
        {
          "output_type": "display_data",
          "data": {
            "image/png": "[encoded data removed]",
            "text/plain": [
              "<Figure size 432x288 with 1 Axes>"
            ]
          },
          "metadata": {
            "tags": [],
            "needs_background": "light"
          }
        }
      ]
    },
    {
      "cell_type": "markdown",
      "metadata": {
        "id": "vBnLm_nb0omu"
      },
      "source": [
        "3) $6 y^{(5)} -3 y^{(4)} +  22 y^{(3)} + 4   \\ddot y + 1.5 \\dot y + 1y  = \\sin(t)$\r\n",
        "\r\n",
        "$ y^{(5)} -0.5y^{(4)} +11/3  y^{(3)} +2/3  \\ddot y +1/4 \\dot y + 1/6y  = 1/6\\sin(t)$\r\n",
        "\r\n",
        "$x_n = y^{(n-1)} = \\dot x_{n-1}$\r\n",
        "\r\n",
        "$ y^{(5)} = \\dot x_{5} = 0.5y^{(4)} -11/3 y^{(3)} -2/3  \\ddot y -0.25 \\dot y -1/6 y + 1/6\\sin(t)$ \r\n",
        "\r\n",
        "$$\\dot x = \r\n",
        "\\begin{pmatrix} \r\n",
        "0 & 1 & 0 & 0 & 0\\\\  \r\n",
        "0 & 0 & 1 & 0 & 0\\\\\r\n",
        "0 & 0 & 0 & 1 & 0\\\\\r\n",
        "0 & 0 & 0 & 0 & 1\\\\\r\n",
        "-1/6 & -0.25 & -2/3 & -11/3 & 0.5\\\\\r\n",
        "\\end{pmatrix}\r\n",
        "x + \\begin{pmatrix} \r\n",
        "0 \\\\  \r\n",
        "0\\\\\r\n",
        "0 \\\\\r\n",
        "0 \\\\\r\n",
        "1/6\\sin(t)\\\\\r\n",
        "\\end{pmatrix}\r\n",
        "$$"
      ]
    },
    {
      "cell_type": "code",
      "metadata": {
        "id": "Na647yLm2T1H"
      },
      "source": [
        "import numpy as np\r\n",
        "from scipy.integrate import odeint\r\n",
        "\r\n",
        "n = 6\r\n",
        "A = np.array([[0, 1, 0, 0, 0], [0, 0, 1, 0, 0], [0, 0, 0, 1, 0], [0, 0, 0, 0, 1], [-1/6, -0.25, -2/3, -11/3, 0.5]])\r\n",
        "B = np.array([0, 0, 0, 0, 1/6])\r\n",
        "\r\n",
        "# x_dot from state space\r\n",
        "def StateSpace(x, t):\r\n",
        "    return A.dot(x) + B*np.sin(t)\r\n",
        "\r\n",
        "time = np.linspace(0, 1, 1000)   \r\n",
        "x0 = np.random.rand(n-1)  # initial state\r\n",
        "\r\n",
        "solution = {\"SS\": odeint(StateSpace, x0, time)}"
      ],
      "execution_count": 16,
      "outputs": []
    },
    {
      "cell_type": "code",
      "metadata": {
        "colab": {
          "base_uri": "https://localhost:8080/",
          "height": 279
        },
        "id": "t6CRFdtQ2ZwV",
        "outputId": "d11cb52e-ec56-48b9-e177-b884c0b2d1a9"
      },
      "source": [
        "import matplotlib.pyplot as plt\r\n",
        "\r\n",
        "plt.subplot(121)\r\n",
        "plt.plot(time, solution[\"SS\"])\r\n",
        "plt.xlabel('time')\r\n",
        "plt.ylabel('x(t)')\r\n",
        "\r\n",
        "plt.show()"
      ],
      "execution_count": 17,
      "outputs": [
        {
          "output_type": "display_data",
          "data": {
            "image/png": "[encoded data removed]",
            "text/plain": [
              "<Figure size 432x288 with 1 Axes>"
            ]
          },
          "metadata": {
            "tags": [],
            "needs_background": "light"
          }
        }
      ]
    },
    {
      "cell_type": "markdown",
      "metadata": {
        "id": "CzUhcnWV0oZR"
      },
      "source": [
        "4) $22 y^{(5)} + 5  y^{(4)} -17 y^{(3)} - 1.5 \\ddot y + 100 \\dot y + 1.1y= \\sin(t)$\r\n",
        "\r\n",
        "$ y^{(5)} +5/22 y^{(4)} -17/22  y^{(3)} -3/44  \\ddot y +50/11 \\dot y + 11/220y  = 1/22\\sin(t)$\r\n",
        "\r\n",
        "$x_n = y^{(n-1)} = \\dot x_{n-1}$\r\n",
        "\r\n",
        "$ y^{(5)} = \\dot x_{5} = -5/22y^{(4)} +17/22 y^{(3)} +3/44  \\ddot y -50/11 \\dot y -0.05 y + 1/22\\sin(t)$ \r\n",
        "\r\n",
        "$$\\dot x = \r\n",
        "\\begin{pmatrix} \r\n",
        "0 & 1 & 0 & 0 & 0\\\\  \r\n",
        "0 & 0 & 1 & 0 & 0\\\\\r\n",
        "0 & 0 & 0 & 1 & 0\\\\\r\n",
        "0 & 0 & 0 & 0 & 1\\\\\r\n",
        "-0.05 & -50/11 & 3/44 & 17/22 & -5/22\\\\\r\n",
        "\\end{pmatrix}\r\n",
        "x + \\begin{pmatrix} \r\n",
        "0 \\\\  \r\n",
        "0\\\\\r\n",
        "0 \\\\\r\n",
        "0 \\\\\r\n",
        "1/22\\sin(t)\\\\\r\n",
        "\\end{pmatrix}\r\n",
        "$$"
      ]
    },
    {
      "cell_type": "code",
      "metadata": {
        "id": "YvzjXYJB2Uha"
      },
      "source": [
        "import numpy as np\r\n",
        "from scipy.integrate import odeint\r\n",
        "\r\n",
        "n = 6\r\n",
        "A = np.array([[0, 1, 0, 0, 0], [0, 0, 1, 0, 0], [0, 0, 0, 1, 0], [0, 0, 0, 0, 1], [-0.05, -50/11, 3/44, 17/22, -5/22]])\r\n",
        "B = np.array([0, 0, 0, 0, 1/22])\r\n",
        "\r\n",
        "# x_dot from state space\r\n",
        "def StateSpace(x, t):\r\n",
        "    return A.dot(x) + B*np.sin(t)\r\n",
        "\r\n",
        "time = np.linspace(0, 1, 1000)   \r\n",
        "x0 = np.random.rand(n-1)  # initial state\r\n",
        "\r\n",
        "solution = {\"SS\": odeint(StateSpace, x0, time)}"
      ],
      "execution_count": 18,
      "outputs": []
    },
    {
      "cell_type": "code",
      "metadata": {
        "colab": {
          "base_uri": "https://localhost:8080/",
          "height": 279
        },
        "id": "PffPPSVe2as4",
        "outputId": "4caaf3cb-4b3f-4618-cc24-0139c2472a0f"
      },
      "source": [
        "import matplotlib.pyplot as plt\r\n",
        "\r\n",
        "plt.subplot(121)\r\n",
        "plt.plot(time, solution[\"SS\"])\r\n",
        "plt.xlabel('time')\r\n",
        "plt.ylabel('x(t)')\r\n",
        "\r\n",
        "plt.show()"
      ],
      "execution_count": 19,
      "outputs": [
        {
          "output_type": "display_data",
          "data": {
            "image/png": "[encoded data removed]",
            "text/plain": [
              "<Figure size 432x288 with 1 Axes>"
            ]
          },
          "metadata": {
            "tags": [],
            "needs_background": "light"
          }
        }
      ]
    },
    {
      "cell_type": "markdown",
      "metadata": {
        "id": "cndwR4Z20oLd"
      },
      "source": [
        "5) $-10 y^{(5)} + 1.5y^{(4)} -23 y^{(3)} - 2.5 \\ddot y + 0.1 \\dot y + 100y= \\sin(t)$\r\n",
        "\r\n",
        "$ y^{(5)} -0.15 y^{(4)} +2.3  y^{(3)} +0.25  \\ddot y -0.01 \\dot y -10y  = -0.1\\sin(t)$\r\n",
        "\r\n",
        "$x_n = y^{(n-1)} = \\dot x_{n-1}$\r\n",
        "\r\n",
        "$ y^{(5)} = \\dot x_{5} = 0.15y^{(4)} -2/3 y^{(3)} -0.25  \\ddot y +0.01 \\dot y +10 y -0.1\\sin(t)$ \r\n",
        "\r\n",
        "$$\\dot x = \r\n",
        "\\begin{pmatrix} \r\n",
        "0 & 1 & 0 & 0 & 0\\\\  \r\n",
        "0 & 0 & 1 & 0 & 0\\\\\r\n",
        "0 & 0 & 0 & 1 & 0\\\\\r\n",
        "0 & 0 & 0 & 0 & 1\\\\\r\n",
        "10 & 0.01 & -0.25 & -2/3 & 0.15 \\\\\r\n",
        "\\end{pmatrix}\r\n",
        "x + \\begin{pmatrix} \r\n",
        "0 \\\\  \r\n",
        "0\\\\\r\n",
        "0 \\\\\r\n",
        "0 \\\\\r\n",
        "-0.1\\sin(t)\\\\\r\n",
        "\\end{pmatrix}\r\n",
        "$$\r\n"
      ]
    },
    {
      "cell_type": "code",
      "metadata": {
        "id": "SI55Sz2I2VTX"
      },
      "source": [
        "import numpy as np\r\n",
        "from scipy.integrate import odeint\r\n",
        "\r\n",
        "n = 6\r\n",
        "A = np.array([[0, 1, 0, 0, 0], [0, 0, 1, 0, 0], [0, 0, 0, 1, 0], [0, 0, 0, 0, 1], [10, 0.01, -0.25, -2/3, 0.15]])\r\n",
        "B = np.array([0, 0, 0, 0, -0.1])\r\n",
        "\r\n",
        "# x_dot from state space\r\n",
        "def StateSpace(x, t):\r\n",
        "    return A.dot(x) + B*np.sin(t)\r\n",
        "\r\n",
        "time = np.linspace(0, 1, 1000)   \r\n",
        "x0 = np.random.rand(n-1)  # initial state\r\n",
        "\r\n",
        "solution = {\"SS\": odeint(StateSpace, x0, time)}"
      ],
      "execution_count": 21,
      "outputs": []
    },
    {
      "cell_type": "code",
      "metadata": {
        "colab": {
          "base_uri": "https://localhost:8080/",
          "height": 279
        },
        "id": "0r-hnBXZ2beD",
        "outputId": "55165ccb-484b-4e45-b672-fdd8248b3f54"
      },
      "source": [
        "import matplotlib.pyplot as plt\r\n",
        "\r\n",
        "plt.subplot(121)\r\n",
        "plt.plot(time, solution[\"SS\"])\r\n",
        "plt.xlabel('time')\r\n",
        "plt.ylabel('x(t)')\r\n",
        "\r\n",
        "plt.show()"
      ],
      "execution_count": 22,
      "outputs": [
        {
          "output_type": "display_data",
          "data": {
            "image/png": "[encoded data removed]",
            "text/plain": [
              "<Figure size 432x288 with 1 Axes>"
            ]
          },
          "metadata": {
            "tags": [],
            "needs_background": "light"
          }
        }
      ]
    },
    {
      "cell_type": "markdown",
      "metadata": {
        "id": "4BA-J-8WA-4-"
      },
      "source": [
        "## Subtask 2.4\r\n",
        "\r\n",
        "The differential equation that describes a Mass-spring-damper system:\r\n",
        "\r\n",
        "$ m \\ddot{x} + c \\dot{x} + k x = u$\r\n",
        "\r\n",
        "\\\\\r\n",
        "\r\n",
        "x : position of mass [m] at time t [s]\r\n",
        "\r\n",
        "m : mass [kg]\r\n",
        "\r\n",
        "c  : viscous damping coefficient [N s / m]\r\n",
        "\r\n",
        "k  : spring constant [N / m]\r\n",
        "\r\n",
        "u : force input [N]\r\n",
        "\r\n",
        "\\\\\r\n",
        "\r\n",
        "x1 : position of the mass [m]\r\n",
        "\r\n",
        "x2 : derivative of x1 == velocity of the mass [m/s]\r\n",
        "\r\n",
        "$ x_1(t)=x(t)$\r\n",
        "\r\n",
        "$ x_2(t)=\\dot{x}(t)=\\dot{x_1}(t)$\r\n",
        "\r\n",
        "$ \\dot{x_1}(t)=x_2(t)$\r\n",
        "\r\n",
        "\\\\\r\n",
        "\r\n",
        "Substituting into the 2nd order ode:\r\n",
        "$ \\dot{x_2}(t)=\\ddot{x}(t)$\r\n",
        "\r\n",
        "$ m \\dot{x_2} + c {x_2} + k x_1 = u$\r\n",
        "\r\n",
        "\r\n",
        "$ \\dot{x_2} = – (c/m) {x_2} – (k/m) x_1 + (1/m) u$\r\n",
        "\r\n",
        "$$\\dot x = \r\n",
        "\\begin{pmatrix} \r\n",
        "0 & 1\\\\  \r\n",
        "-k/m & -c/m\\\\\r\n",
        "\\end{pmatrix}\r\n",
        "x + \\begin{pmatrix} \r\n",
        "0 \\\\  \r\n",
        "1/m\\\\ \r\n",
        "\\end{pmatrix} \r\n",
        "u\r\n",
        "$$\r\n"
      ]
    },
    {
      "cell_type": "markdown",
      "metadata": {
        "id": "J9VUkYaR0QLu"
      },
      "source": [
        "# Task 3\r\n",
        "## Subtask 3.1.  Convert to transfer functions\r\n",
        "\r\n",
        "\r\n",
        "1)\r\n",
        "$\r\n",
        "\\begin{cases}\r\n",
        "\\ddot x + 0.5 \\dot x + 4x = u \\\\\r\n",
        "y = 1.5 \\dot x + 6 x\r\n",
        "\\end{cases}\r\n",
        "$\r\n",
        "\r\n",
        "$\r\n",
        "\\begin{cases}\r\n",
        "s^2 x + 0.5sx + 4x = u \\\\\r\n",
        "y = 1.5sx + 6 x\r\n",
        "\\end{cases}\r\n",
        "$\r\n",
        "\r\n",
        "$\r\n",
        "\\begin{cases}\r\n",
        "x = \\frac u {s^2  + 0.5s + 4} \\\\\r\n",
        "y = (1.5s + 6)x\r\n",
        "\\end{cases}\r\n",
        "$\r\n",
        "\r\n",
        "$ y = \\frac {(1.5s + 6)u} {s^2  + 0.5s + 4}  $\r\n",
        "\r\n",
        "$y(s) = g(s)u(s) $\r\n",
        "\r\n",
        "$ g(s) = \\frac {1.5s + 6} {s^2  + 0.5s + 4}  $\r\n"
      ]
    },
    {
      "cell_type": "markdown",
      "metadata": {
        "id": "L2DSJ4rFTLde"
      },
      "source": [
        "2) \r\n",
        "$\r\n",
        "\\begin{cases}\r\n",
        "10 \\ddot x + 1.5 \\dot x + 8x = 0.5u \\\\\r\n",
        "y = 15 \\dot x + 16 x\r\n",
        "\\end{cases}\r\n",
        "$\r\n",
        "\r\n",
        "$\r\n",
        "\\begin{cases}\r\n",
        "10s^2 x + 1.5sx + 8x = 0.5u \\\\\r\n",
        "y = 15sx + 16 x\r\n",
        "\\end{cases}\r\n",
        "$\r\n",
        "\r\n",
        "$\r\n",
        "\\begin{cases}\r\n",
        "x = \\frac u {20s^2  + 3s + 16} \\\\\r\n",
        "y = (15s + 16)x\r\n",
        "\\end{cases}\r\n",
        "$\r\n",
        "\r\n",
        "$ y = \\frac {(15s + 16)u} {20s^2  + 3s + 16}  $\r\n",
        "\r\n",
        "$y(s) = g(s)u(s) $\r\n",
        "\r\n",
        "$ g(s) = \\frac {(15s + 16)} {20s^2  + 3s + 16}  $"
      ]
    },
    {
      "cell_type": "markdown",
      "metadata": {
        "id": "8aM95lqsTMiN"
      },
      "source": [
        "3)\r\n",
        "$\r\n",
        "\\begin{cases}\r\n",
        "\\ddot x + 2 \\dot x - 5x = u \\\\\r\n",
        "y = 2.5 \\dot x - 7 x\r\n",
        "\\end{cases}\r\n",
        "$\r\n",
        "\r\n",
        "$\r\n",
        "\\begin{cases}\r\n",
        "s^2 x + 2sx - 5x = u \\\\\r\n",
        "y = 2.5sx - 7x\r\n",
        "\\end{cases}\r\n",
        "$\r\n",
        "\r\n",
        "$\r\n",
        "\\begin{cases}\r\n",
        "x = \\frac u {s^2  + 2s -5} \\\\\r\n",
        "y = (2.5s -7)x\r\n",
        "\\end{cases}\r\n",
        "$\r\n",
        "\r\n",
        "$ y = \\frac {(2.5s -7)u} {s^2  + 2s -5}  $\r\n",
        "\r\n",
        "$y(s) = g(s)u(s) $\r\n",
        "\r\n",
        "$ g(s) = \\frac {2.5s -7} {s^2  + 2s -5}  $"
      ]
    },
    {
      "cell_type": "markdown",
      "metadata": {
        "id": "btOdkIERTNVQ"
      },
      "source": [
        "4) \r\n",
        "$\r\n",
        "\\begin{cases}\r\n",
        "\\ddot x + 22 \\dot x + 10x = 10u \\\\\r\n",
        "y = 10.5 \\dot x + 11 x\r\n",
        "\\end{cases}\r\n",
        "$\r\n",
        "\r\n",
        "$\r\n",
        "\\begin{cases}\r\n",
        "s^2 x + 22sx +10x = 10u \\\\\r\n",
        "y = 10.5sx +11 x\r\n",
        "\\end{cases}\r\n",
        "$\r\n",
        "\r\n",
        "$\r\n",
        "\\begin{cases}\r\n",
        "x = \\frac {10u} {s^2  + 22s +10} \\\\\r\n",
        "y = (10.5s +11 )x\r\n",
        "\\end{cases}\r\n",
        "$\r\n",
        "\r\n",
        "$ y = \\frac {(105s + 110)u} {s^2  + 22s +10} $\r\n",
        "\r\n",
        "$y(s) = g(s)u(s) $\r\n",
        "\r\n",
        "$ g(s) = \\frac {105s + 110} {s^2  + 22s +10}  $\r\n"
      ]
    },
    {
      "cell_type": "markdown",
      "metadata": {
        "id": "AeknJOg8YaXN"
      },
      "source": [
        "# Stability tasks\r\n",
        "## Task 1.1, 1.2, 1.3\r\n",
        "1) $$\\dot x = \r\n",
        "\\begin{pmatrix} 1 & 0 \\\\ -5 & -10\r\n",
        "\\end{pmatrix}\r\n",
        "x\r\n",
        "$$\r\n"
      ]
    },
    {
      "cell_type": "code",
      "metadata": {
        "colab": {
          "base_uri": "https://localhost:8080/"
        },
        "id": "T-MyROKuZJfP",
        "outputId": "3b11697b-1345-4977-d0e8-99757b1e2adb"
      },
      "source": [
        "import numpy as np\r\n",
        "from numpy.linalg import eig\r\n",
        "\r\n",
        "A = np.array([[1, 0], [-5, -10]]) # state matrix\r\n",
        "e, v = eig(A)\r\n",
        "print(\"eigenvalues of A:\", e)"
      ],
      "execution_count": 46,
      "outputs": [
        {
          "output_type": "stream",
          "text": [
            "eigenvalues of A: [-10.   1.]\n"
          ],
          "name": "stdout"
        }
      ]
    },
    {
      "cell_type": "markdown",
      "metadata": {
        "id": "O5ERjJf6aENd"
      },
      "source": [
        "One of the eigenvalues is positive, so the system is unstable "
      ]
    },
    {
      "cell_type": "markdown",
      "metadata": {
        "id": "oFTgb25Tcc3G"
      },
      "source": [
        "Simulating the system:"
      ]
    },
    {
      "cell_type": "code",
      "metadata": {
        "colab": {
          "base_uri": "https://localhost:8080/",
          "height": 279
        },
        "id": "qJ_yw4UXZRYE",
        "outputId": "aa505840-88f8-4aa3-8ae5-19ccc4480e49"
      },
      "source": [
        "from scipy.integrate import odeint\r\n",
        "import matplotlib.pyplot as plt\r\n",
        "\r\n",
        "def LTI(x, t):\r\n",
        "    return A.dot(x)\r\n",
        "\r\n",
        "time = np.linspace(0, 10, 1000)    # interval from 0 to 10\r\n",
        "x0 = np.random.rand(2)            # initial state\r\n",
        "\r\n",
        "solution = odeint(LTI, x0, time)\r\n",
        "\r\n",
        "plt.plot(time, solution)\r\n",
        "plt.xlabel('time')\r\n",
        "plt.ylabel('x(t)')\r\n",
        "plt.show()"
      ],
      "execution_count": 47,
      "outputs": [
        {
          "output_type": "display_data",
          "data": {
            "image/png": "[encoded data removed]",
            "text/plain": [
              "<Figure size 432x288 with 1 Axes>"
            ]
          },
          "metadata": {
            "tags": [],
            "needs_background": "light"
          }
        }
      ]
    },
    {
      "cell_type": "markdown",
      "metadata": {
        "id": "1o1rvobodOKD"
      },
      "source": [
        "Adding a constant term:"
      ]
    },
    {
      "cell_type": "code",
      "metadata": {
        "colab": {
          "base_uri": "https://localhost:8080/",
          "height": 279
        },
        "id": "X9wumkiVdQY1",
        "outputId": "86da0cb4-4aea-4963-965d-175ebb00b3be"
      },
      "source": [
        "from scipy.integrate import odeint\r\n",
        "import matplotlib.pyplot as plt\r\n",
        "import numpy as np\r\n",
        "\r\n",
        "B = np.random.randint(-1,1)\r\n",
        "def LTI(x, t):\r\n",
        "    return A.dot(x) + B\r\n",
        "\r\n",
        "time = np.linspace(0, 10, 1000)    # interval from 0 to 10\r\n",
        "x0 = np.random.rand(2)            # initial state\r\n",
        "\r\n",
        "solution = odeint(LTI, x0, time)\r\n",
        "\r\n",
        "plt.plot(time, solution)\r\n",
        "plt.xlabel('time')\r\n",
        "plt.ylabel('x(t)')\r\n",
        "plt.show()"
      ],
      "execution_count": 53,
      "outputs": [
        {
          "output_type": "display_data",
          "data": {
            "image/png": "[encoded data removed]",
            "text/plain": [
              "<Figure size 432x288 with 1 Axes>"
            ]
          },
          "metadata": {
            "tags": [],
            "needs_background": "light"
          }
        }
      ]
    },
    {
      "cell_type": "markdown",
      "metadata": {
        "id": "8JGD1btnYqR7"
      },
      "source": [
        "2) $$\\dot x = \r\n",
        "\\begin{pmatrix} 0 & 8 \\\\ 1 & 3\r\n",
        "\\end{pmatrix}\r\n",
        "x\r\n",
        "$$\r\n"
      ]
    },
    {
      "cell_type": "code",
      "metadata": {
        "colab": {
          "base_uri": "https://localhost:8080/"
        },
        "id": "SMUhmLhUZPnB",
        "outputId": "6beaadd0-0972-4710-8e3d-fa1081552a42"
      },
      "source": [
        "import numpy as np\r\n",
        "from numpy.linalg import eig\r\n",
        "\r\n",
        "A = np.array([[0, 8], [1, 3]]) # state matrix\r\n",
        "e, v = eig(A)\r\n",
        "print(\"eigenvalues of A:\", e)"
      ],
      "execution_count": 54,
      "outputs": [
        {
          "output_type": "stream",
          "text": [
            "eigenvalues of A: [-1.70156212  4.70156212]\n"
          ],
          "name": "stdout"
        }
      ]
    },
    {
      "cell_type": "markdown",
      "metadata": {
        "id": "rD0aOjbqaCnp"
      },
      "source": [
        "One of the eigenvalues is positive, so the system is unstable "
      ]
    },
    {
      "cell_type": "markdown",
      "metadata": {
        "id": "eYtliK3Mc65c"
      },
      "source": [
        "Simulating the system:"
      ]
    },
    {
      "cell_type": "code",
      "metadata": {
        "colab": {
          "base_uri": "https://localhost:8080/",
          "height": 290
        },
        "id": "ok4bcgcAZPTg",
        "outputId": "a5f6a6f0-9140-4df5-d46d-2c09a8b5540b"
      },
      "source": [
        "from scipy.integrate import odeint\r\n",
        "import matplotlib.pyplot as plt\r\n",
        "\r\n",
        "def LTI(x, t):\r\n",
        "    return A.dot(x)\r\n",
        "\r\n",
        "time = np.linspace(0, 10, 1000)    # interval from 0 to 10\r\n",
        "x0 = np.random.rand(2)            # initial state\r\n",
        "\r\n",
        "solution = odeint(LTI, x0, time)\r\n",
        "\r\n",
        "plt.plot(time, solution)\r\n",
        "plt.xlabel('time')\r\n",
        "plt.ylabel('x(t)')\r\n",
        "plt.show()"
      ],
      "execution_count": 55,
      "outputs": [
        {
          "output_type": "display_data",
          "data": {
            "image/png": "[encoded data removed]",
            "text/plain": [
              "<Figure size 432x288 with 1 Axes>"
            ]
          },
          "metadata": {
            "tags": [],
            "needs_background": "light"
          }
        }
      ]
    },
    {
      "cell_type": "markdown",
      "metadata": {
        "id": "5Salb_7pd1rB"
      },
      "source": [
        "Adding a constant term:"
      ]
    },
    {
      "cell_type": "code",
      "metadata": {
        "colab": {
          "base_uri": "https://localhost:8080/",
          "height": 290
        },
        "id": "jsVdWrT-d1rL",
        "outputId": "49f07863-66f9-4062-9036-8f2d8a7e3950"
      },
      "source": [
        "from scipy.integrate import odeint\r\n",
        "import matplotlib.pyplot as plt\r\n",
        "import numpy as np\r\n",
        "\r\n",
        "B = np.random.randint(-1,1)\r\n",
        "def LTI(x, t):\r\n",
        "    return A.dot(x) + B\r\n",
        "\r\n",
        "time = np.linspace(0, 10, 1000)    # interval from 0 to 10\r\n",
        "x0 = np.random.rand(2)            # initial state\r\n",
        "\r\n",
        "solution = odeint(LTI, x0, time)\r\n",
        "\r\n",
        "plt.plot(time, solution)\r\n",
        "plt.xlabel('time')\r\n",
        "plt.ylabel('x(t)')\r\n",
        "plt.show()"
      ],
      "execution_count": 57,
      "outputs": [
        {
          "output_type": "display_data",
          "data": {
            "image/png": "[encoded data removed]",
            "text/plain": [
              "<Figure size 432x288 with 1 Axes>"
            ]
          },
          "metadata": {
            "tags": [],
            "needs_background": "light"
          }
        }
      ]
    },
    {
      "cell_type": "markdown",
      "metadata": {
        "id": "ehaPY9zIYtCz"
      },
      "source": [
        "3) $$\\dot x = \r\n",
        "\\begin{pmatrix} 0 & 8 \\\\ 6 & 0\r\n",
        "\\end{pmatrix}\r\n",
        "x\r\n",
        "$$\r\n"
      ]
    },
    {
      "cell_type": "code",
      "metadata": {
        "colab": {
          "base_uri": "https://localhost:8080/"
        },
        "id": "xJtacUcYZRFq",
        "outputId": "3f5cb562-5584-4a02-f3e4-22edc476c8d8"
      },
      "source": [
        "import numpy as np\r\n",
        "from numpy.linalg import eig\r\n",
        "\r\n",
        "A = np.array([[0, 8], [6, 0]]) # state matrix\r\n",
        "e, v = eig(A)\r\n",
        "print(\"eigenvalues of A:\", e)"
      ],
      "execution_count": 58,
      "outputs": [
        {
          "output_type": "stream",
          "text": [
            "eigenvalues of A: [ 6.92820323 -6.92820323]\n"
          ],
          "name": "stdout"
        }
      ]
    },
    {
      "cell_type": "markdown",
      "metadata": {
        "id": "UwFiSQhHaAyB"
      },
      "source": [
        "One of the eigenvalues is positive, so the system is unstable "
      ]
    },
    {
      "cell_type": "markdown",
      "metadata": {
        "id": "sTHbx66Qc-Rp"
      },
      "source": [
        "Simulating the system:"
      ]
    },
    {
      "cell_type": "code",
      "metadata": {
        "colab": {
          "base_uri": "https://localhost:8080/",
          "height": 290
        },
        "id": "2DPOqCtRZOEF",
        "outputId": "a4ee299e-720f-4406-815e-3ec57c7ef413"
      },
      "source": [
        "from scipy.integrate import odeint\r\n",
        "import matplotlib.pyplot as plt\r\n",
        "\r\n",
        "def LTI(x, t):\r\n",
        "    return A.dot(x)\r\n",
        "\r\n",
        "time = np.linspace(0, 10, 1000)    # interval from 0 to 10\r\n",
        "x0 = np.random.rand(2)            # initial state\r\n",
        "\r\n",
        "solution = odeint(LTI, x0, time)\r\n",
        "\r\n",
        "plt.plot(time, solution)\r\n",
        "plt.xlabel('time')\r\n",
        "plt.ylabel('x(t)')\r\n",
        "plt.show()"
      ],
      "execution_count": 60,
      "outputs": [
        {
          "output_type": "display_data",
          "data": {
            "image/png": "[encoded data removed]",
            "text/plain": [
              "<Figure size 432x288 with 1 Axes>"
            ]
          },
          "metadata": {
            "tags": [],
            "needs_background": "light"
          }
        }
      ]
    },
    {
      "cell_type": "markdown",
      "metadata": {
        "id": "wEKaLaezd4sZ"
      },
      "source": [
        "Adding a constant term:"
      ]
    },
    {
      "cell_type": "code",
      "metadata": {
        "colab": {
          "base_uri": "https://localhost:8080/",
          "height": 290
        },
        "id": "KCAn1Al8d4sa",
        "outputId": "2d8cb21c-a1e0-44b7-e3b0-be7a71971b68"
      },
      "source": [
        "from scipy.integrate import odeint\r\n",
        "import matplotlib.pyplot as plt\r\n",
        "import numpy as np\r\n",
        "\r\n",
        "B = np.random.randint(-1,1)\r\n",
        "def LTI(x, t):\r\n",
        "    return A.dot(x) + B\r\n",
        "\r\n",
        "time = np.linspace(0, 10, 1000)    # interval from 0 to 10\r\n",
        "x0 = np.random.rand(2)            # initial state\r\n",
        "\r\n",
        "solution = odeint(LTI, x0, time)\r\n",
        "\r\n",
        "plt.plot(time, solution)\r\n",
        "plt.xlabel('time')\r\n",
        "plt.ylabel('x(t)')\r\n",
        "plt.show()"
      ],
      "execution_count": 65,
      "outputs": [
        {
          "output_type": "display_data",
          "data": {
            "image/png": "[encoded data removed]",
            "text/plain": [
              "<Figure size 432x288 with 1 Axes>"
            ]
          },
          "metadata": {
            "tags": [],
            "needs_background": "light"
          }
        }
      ]
    },
    {
      "cell_type": "markdown",
      "metadata": {
        "id": "ihN6qHkEYwAc"
      },
      "source": [
        "4) $$\\dot x = \r\n",
        "\\begin{pmatrix} 0 & 1 \\\\ 6 & 3\r\n",
        "\\end{pmatrix}\r\n",
        "x\r\n",
        "$$\r\n"
      ]
    },
    {
      "cell_type": "code",
      "metadata": {
        "colab": {
          "base_uri": "https://localhost:8080/"
        },
        "id": "b2mKPPp1ZS_7",
        "outputId": "70e8a007-2524-48dc-a086-ae772dff2943"
      },
      "source": [
        "import numpy as np\r\n",
        "from numpy.linalg import eig\r\n",
        "\r\n",
        "A = np.array([[0, 1], [6, 3]]) # state matrix\r\n",
        "e, v = eig(A)\r\n",
        "print(\"eigenvalues of A:\", e)"
      ],
      "execution_count": 69,
      "outputs": [
        {
          "output_type": "stream",
          "text": [
            "eigenvalues of A: [-1.37228132  4.37228132]\n"
          ],
          "name": "stdout"
        }
      ]
    },
    {
      "cell_type": "markdown",
      "metadata": {
        "id": "N_hTA3ZTZ2ZK"
      },
      "source": [
        "One of the eigenvalues is positive, so the system is unstable "
      ]
    },
    {
      "cell_type": "markdown",
      "metadata": {
        "id": "GXUtg2AQdCUY"
      },
      "source": [
        "Simulating the system:"
      ]
    },
    {
      "cell_type": "code",
      "metadata": {
        "colab": {
          "base_uri": "https://localhost:8080/",
          "height": 290
        },
        "id": "06C1Gtd-ZSxg",
        "outputId": "72159b17-977b-42ab-e2af-63b2b641257b"
      },
      "source": [
        "from scipy.integrate import odeint\r\n",
        "import matplotlib.pyplot as plt\r\n",
        "\r\n",
        "B = np.random.randint(-10,10)\r\n",
        "def LTI(x, t):\r\n",
        "    return A.dot(x)\r\n",
        "\r\n",
        "time = np.linspace(0, 10, 1000)    # interval from 0 to 10\r\n",
        "x0 = np.random.rand(2)            # initial state\r\n",
        "\r\n",
        "solution = odeint(LTI, x0, time)\r\n",
        "\r\n",
        "plt.plot(time, solution)\r\n",
        "plt.xlabel('time')\r\n",
        "plt.ylabel('x(t)')\r\n",
        "plt.show()"
      ],
      "execution_count": 70,
      "outputs": [
        {
          "output_type": "display_data",
          "data": {
            "image/png": "[encoded data removed]",
            "text/plain": [
              "<Figure size 432x288 with 1 Axes>"
            ]
          },
          "metadata": {
            "tags": [],
            "needs_background": "light"
          }
        }
      ]
    },
    {
      "cell_type": "markdown",
      "metadata": {
        "id": "14qlomAwd7XC"
      },
      "source": [
        "Adding a constant term:"
      ]
    },
    {
      "cell_type": "code",
      "metadata": {
        "colab": {
          "base_uri": "https://localhost:8080/",
          "height": 290
        },
        "id": "JECiFpYXd7XC",
        "outputId": "3edeeb12-f4e4-4c48-be87-ffa7373db7a5"
      },
      "source": [
        "from scipy.integrate import odeint\r\n",
        "import matplotlib.pyplot as plt\r\n",
        "import numpy as np\r\n",
        "\r\n",
        "B = np.random.randint(-1,1)\r\n",
        "def LTI(x, t):\r\n",
        "    return A.dot(x) + B\r\n",
        "\r\n",
        "time = np.linspace(0, 10, 1000)    # interval from 0 to 10\r\n",
        "x0 = np.random.rand(2)            # initial state\r\n",
        "\r\n",
        "solution = odeint(LTI, x0, time)\r\n",
        "\r\n",
        "plt.plot(time, solution)\r\n",
        "plt.xlabel('time')\r\n",
        "plt.ylabel('x(t)')\r\n",
        "plt.show()"
      ],
      "execution_count": 72,
      "outputs": [
        {
          "output_type": "display_data",
          "data": {
            "image/png": "[encoded data removed]",
            "text/plain": [
              "<Figure size 432x288 with 1 Axes>"
            ]
          },
          "metadata": {
            "tags": [],
            "needs_background": "light"
          }
        }
      ]
    }
  ]
}